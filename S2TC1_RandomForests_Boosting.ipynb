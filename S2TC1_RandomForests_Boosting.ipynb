{
  "cells": [
    {
      "cell_type": "markdown",
      "metadata": {
        "id": "view-in-github",
        "colab_type": "text"
      },
      "source": [
        "<a href=\"https://colab.research.google.com/github/jboca-andes/MIAD_ML_and_NLP/blob/main/S2TC1_RandomForests_Boosting.ipynb\" target=\"_parent\"><img src=\"https://colab.research.google.com/assets/colab-badge.svg\" alt=\"Open In Colab\"/></a>"
      ]
    },
    {
      "cell_type": "markdown",
      "metadata": {
        "id": "UGWj1TUExHUg"
      },
      "source": [
        "![image info](https://raw.githubusercontent.com/albahnsen/MIAD_ML_and_NLP/main/images/banner_1.png)"
      ]
    },
    {
      "cell_type": "markdown",
      "metadata": {
        "id": "_L33GP4kxHUi"
      },
      "source": [
        "# Taller: Construcción e implementación de modelos Bagging, Random Forest y XGBoost\n",
        "\n",
        "En este taller podrán poner en práctica sus conocimientos sobre la construcción e implementación de modelos de Bagging, Random Forest y XGBoost. El taller está constituido por 8 puntos, en los cuales deberan seguir las intrucciones de cada numeral para su desarrollo."
      ]
    },
    {
      "cell_type": "markdown",
      "metadata": {
        "id": "yVXXD7sPxHUi"
      },
      "source": [
        "## Datos predicción precio de automóviles\n",
        "\n",
        "En este taller se usará el conjunto de datos de Car Listings de Kaggle donde cada observación representa el precio de un automóvil teniendo en cuenta distintas variables como año, marca, modelo, entre otras. El objetivo es predecir si el precio del automóvil es alto o no. Para más detalles puede visitar el siguiente enlace: [datos](https://www.kaggle.com/jpayne/852k-used-car-listings)."
      ]
    },
    {
      "cell_type": "code",
      "execution_count": null,
      "metadata": {
        "id": "hXriEIMRFgR5"
      },
      "outputs": [],
      "source": [
        "import sys\n",
        "!{sys.executable} -m conda install --yes py-xgboost"
      ]
    },
    {
      "cell_type": "code",
      "execution_count": 10,
      "metadata": {
        "id": "SXbInqG9xHUj"
      },
      "outputs": [],
      "source": [
        "import warnings\n",
        "warnings.filterwarnings('ignore')\n",
        "#algo\n",
        "analisis = {}"
      ]
    },
    {
      "cell_type": "code",
      "execution_count": 2,
      "metadata": {
        "colab": {
          "base_uri": "https://localhost:8080/",
          "height": 206
        },
        "id": "_DLYi5pmxHUl",
        "outputId": "45ca20c9-e6db-483e-a860-588a1183f03a"
      },
      "outputs": [
        {
          "output_type": "execute_result",
          "data": {
            "text/plain": [
              "     Year  Mileage  M_Camry  M_Camry4dr  M_CamryBase  M_CamryL  M_CamryLE  \\\n",
              "7    2014     6480        0           0            0         1          0   \n",
              "11   2014    39972        0           0            0         0          1   \n",
              "167  2016    18989        0           0            0         0          0   \n",
              "225  2014    51330        0           0            0         1          0   \n",
              "270  2007   116065        0           1            0         0          0   \n",
              "\n",
              "     M_CamrySE  M_CamryXLE  HighPrice  \n",
              "7            0           0          1  \n",
              "11           0           0          0  \n",
              "167          1           0          1  \n",
              "225          0           0          0  \n",
              "270          0           0          0  "
            ],
            "text/html": [
              "\n",
              "  <div id=\"df-924743bd-9baf-4388-b071-db656b5bea1d\">\n",
              "    <div class=\"colab-df-container\">\n",
              "      <div>\n",
              "<style scoped>\n",
              "    .dataframe tbody tr th:only-of-type {\n",
              "        vertical-align: middle;\n",
              "    }\n",
              "\n",
              "    .dataframe tbody tr th {\n",
              "        vertical-align: top;\n",
              "    }\n",
              "\n",
              "    .dataframe thead th {\n",
              "        text-align: right;\n",
              "    }\n",
              "</style>\n",
              "<table border=\"1\" class=\"dataframe\">\n",
              "  <thead>\n",
              "    <tr style=\"text-align: right;\">\n",
              "      <th></th>\n",
              "      <th>Year</th>\n",
              "      <th>Mileage</th>\n",
              "      <th>M_Camry</th>\n",
              "      <th>M_Camry4dr</th>\n",
              "      <th>M_CamryBase</th>\n",
              "      <th>M_CamryL</th>\n",
              "      <th>M_CamryLE</th>\n",
              "      <th>M_CamrySE</th>\n",
              "      <th>M_CamryXLE</th>\n",
              "      <th>HighPrice</th>\n",
              "    </tr>\n",
              "  </thead>\n",
              "  <tbody>\n",
              "    <tr>\n",
              "      <th>7</th>\n",
              "      <td>2014</td>\n",
              "      <td>6480</td>\n",
              "      <td>0</td>\n",
              "      <td>0</td>\n",
              "      <td>0</td>\n",
              "      <td>1</td>\n",
              "      <td>0</td>\n",
              "      <td>0</td>\n",
              "      <td>0</td>\n",
              "      <td>1</td>\n",
              "    </tr>\n",
              "    <tr>\n",
              "      <th>11</th>\n",
              "      <td>2014</td>\n",
              "      <td>39972</td>\n",
              "      <td>0</td>\n",
              "      <td>0</td>\n",
              "      <td>0</td>\n",
              "      <td>0</td>\n",
              "      <td>1</td>\n",
              "      <td>0</td>\n",
              "      <td>0</td>\n",
              "      <td>0</td>\n",
              "    </tr>\n",
              "    <tr>\n",
              "      <th>167</th>\n",
              "      <td>2016</td>\n",
              "      <td>18989</td>\n",
              "      <td>0</td>\n",
              "      <td>0</td>\n",
              "      <td>0</td>\n",
              "      <td>0</td>\n",
              "      <td>0</td>\n",
              "      <td>1</td>\n",
              "      <td>0</td>\n",
              "      <td>1</td>\n",
              "    </tr>\n",
              "    <tr>\n",
              "      <th>225</th>\n",
              "      <td>2014</td>\n",
              "      <td>51330</td>\n",
              "      <td>0</td>\n",
              "      <td>0</td>\n",
              "      <td>0</td>\n",
              "      <td>1</td>\n",
              "      <td>0</td>\n",
              "      <td>0</td>\n",
              "      <td>0</td>\n",
              "      <td>0</td>\n",
              "    </tr>\n",
              "    <tr>\n",
              "      <th>270</th>\n",
              "      <td>2007</td>\n",
              "      <td>116065</td>\n",
              "      <td>0</td>\n",
              "      <td>1</td>\n",
              "      <td>0</td>\n",
              "      <td>0</td>\n",
              "      <td>0</td>\n",
              "      <td>0</td>\n",
              "      <td>0</td>\n",
              "      <td>0</td>\n",
              "    </tr>\n",
              "  </tbody>\n",
              "</table>\n",
              "</div>\n",
              "      <button class=\"colab-df-convert\" onclick=\"convertToInteractive('df-924743bd-9baf-4388-b071-db656b5bea1d')\"\n",
              "              title=\"Convert this dataframe to an interactive table.\"\n",
              "              style=\"display:none;\">\n",
              "        \n",
              "  <svg xmlns=\"http://www.w3.org/2000/svg\" height=\"24px\"viewBox=\"0 0 24 24\"\n",
              "       width=\"24px\">\n",
              "    <path d=\"M0 0h24v24H0V0z\" fill=\"none\"/>\n",
              "    <path d=\"M18.56 5.44l.94 2.06.94-2.06 2.06-.94-2.06-.94-.94-2.06-.94 2.06-2.06.94zm-11 1L8.5 8.5l.94-2.06 2.06-.94-2.06-.94L8.5 2.5l-.94 2.06-2.06.94zm10 10l.94 2.06.94-2.06 2.06-.94-2.06-.94-.94-2.06-.94 2.06-2.06.94z\"/><path d=\"M17.41 7.96l-1.37-1.37c-.4-.4-.92-.59-1.43-.59-.52 0-1.04.2-1.43.59L10.3 9.45l-7.72 7.72c-.78.78-.78 2.05 0 2.83L4 21.41c.39.39.9.59 1.41.59.51 0 1.02-.2 1.41-.59l7.78-7.78 2.81-2.81c.8-.78.8-2.07 0-2.86zM5.41 20L4 18.59l7.72-7.72 1.47 1.35L5.41 20z\"/>\n",
              "  </svg>\n",
              "      </button>\n",
              "      \n",
              "  <style>\n",
              "    .colab-df-container {\n",
              "      display:flex;\n",
              "      flex-wrap:wrap;\n",
              "      gap: 12px;\n",
              "    }\n",
              "\n",
              "    .colab-df-convert {\n",
              "      background-color: #E8F0FE;\n",
              "      border: none;\n",
              "      border-radius: 50%;\n",
              "      cursor: pointer;\n",
              "      display: none;\n",
              "      fill: #1967D2;\n",
              "      height: 32px;\n",
              "      padding: 0 0 0 0;\n",
              "      width: 32px;\n",
              "    }\n",
              "\n",
              "    .colab-df-convert:hover {\n",
              "      background-color: #E2EBFA;\n",
              "      box-shadow: 0px 1px 2px rgba(60, 64, 67, 0.3), 0px 1px 3px 1px rgba(60, 64, 67, 0.15);\n",
              "      fill: #174EA6;\n",
              "    }\n",
              "\n",
              "    [theme=dark] .colab-df-convert {\n",
              "      background-color: #3B4455;\n",
              "      fill: #D2E3FC;\n",
              "    }\n",
              "\n",
              "    [theme=dark] .colab-df-convert:hover {\n",
              "      background-color: #434B5C;\n",
              "      box-shadow: 0px 1px 3px 1px rgba(0, 0, 0, 0.15);\n",
              "      filter: drop-shadow(0px 1px 2px rgba(0, 0, 0, 0.3));\n",
              "      fill: #FFFFFF;\n",
              "    }\n",
              "  </style>\n",
              "\n",
              "      <script>\n",
              "        const buttonEl =\n",
              "          document.querySelector('#df-924743bd-9baf-4388-b071-db656b5bea1d button.colab-df-convert');\n",
              "        buttonEl.style.display =\n",
              "          google.colab.kernel.accessAllowed ? 'block' : 'none';\n",
              "\n",
              "        async function convertToInteractive(key) {\n",
              "          const element = document.querySelector('#df-924743bd-9baf-4388-b071-db656b5bea1d');\n",
              "          const dataTable =\n",
              "            await google.colab.kernel.invokeFunction('convertToInteractive',\n",
              "                                                     [key], {});\n",
              "          if (!dataTable) return;\n",
              "\n",
              "          const docLinkHtml = 'Like what you see? Visit the ' +\n",
              "            '<a target=\"_blank\" href=https://colab.research.google.com/notebooks/data_table.ipynb>data table notebook</a>'\n",
              "            + ' to learn more about interactive tables.';\n",
              "          element.innerHTML = '';\n",
              "          dataTable['output_type'] = 'display_data';\n",
              "          await google.colab.output.renderOutput(dataTable, element);\n",
              "          const docLink = document.createElement('div');\n",
              "          docLink.innerHTML = docLinkHtml;\n",
              "          element.appendChild(docLink);\n",
              "        }\n",
              "      </script>\n",
              "    </div>\n",
              "  </div>\n",
              "  "
            ]
          },
          "metadata": {},
          "execution_count": 2
        }
      ],
      "source": [
        "# Importación de librerías\n",
        "%matplotlib inline\n",
        "import pandas as pd\n",
        "import numpy as np\n",
        "from sklearn.metrics import mean_squared_error\n",
        "from sklearn.ensemble import RandomForestClassifier\n",
        "from sklearn.model_selection import cross_val_score\n",
        "import matplotlib.pyplot as plt\n",
        "from sklearn import metrics\n",
        "from xgboost import XGBClassifier\n",
        "from sklearn.ensemble import BaggingRegressor, BaggingClassifier\n",
        "from sklearn.tree import DecisionTreeRegressor, DecisionTreeClassifier\n",
        "from sklearn.metrics import precision_score, recall_score, f1_score, accuracy_score, confusion_matrix, plot_confusion_matrix, auc, roc_curve, make_scorer\n",
        "from sklearn.model_selection import GridSearchCV\n",
        "from sklearn.model_selection import StratifiedKFold\n",
        "\n",
        "\n",
        "\n",
        "# Lectura de la información de archivo .csv\n",
        "data = pd.read_csv('https://raw.githubusercontent.com/albahnsen/MIAD_ML_and_NLP/main/datasets/dataTrain_carListings.zip')\n",
        "\n",
        "# Preprocesamiento de datos para el taller\n",
        "data = data.loc[data['Model'].str.contains('Camry')].drop(['Make', 'State'], axis=1)\n",
        "data = data.join(pd.get_dummies(data['Model'], prefix='M'))\n",
        "data['HighPrice'] = (data['Price'] > data['Price'].mean()).astype(int)\n",
        "data = data.drop(['Model', 'Price'], axis=1)\n",
        "\n",
        "# Visualización dataset\n",
        "data.head()"
      ]
    },
    {
      "cell_type": "code",
      "execution_count": 3,
      "metadata": {
        "id": "uSH9KjoMxHUl"
      },
      "outputs": [],
      "source": [
        "# Separación de variables predictoras (X) y variable de interés (y)\n",
        "y = data['HighPrice']\n",
        "X = data.drop(['HighPrice'], axis=1)"
      ]
    },
    {
      "cell_type": "code",
      "execution_count": 4,
      "metadata": {
        "id": "ByUElD7FxHUm"
      },
      "outputs": [],
      "source": [
        "# Separación de datos en set de entrenamiento y test\n",
        "from sklearn.model_selection import train_test_split\n",
        "X_train, X_test, y_train, y_test = train_test_split(X, y, test_size=0.33, random_state=42)"
      ]
    },
    {
      "cell_type": "code",
      "source": [
        "data.groupby(['HighPrice'])['HighPrice'].count()"
      ],
      "metadata": {
        "id": "MzJ0cTOY5V3a",
        "outputId": "26f326b2-03c6-4f5d-d2ce-05b68a146ade",
        "colab": {
          "base_uri": "https://localhost:8080/"
        }
      },
      "execution_count": null,
      "outputs": [
        {
          "output_type": "execute_result",
          "data": {
            "text/plain": [
              "HighPrice\n",
              "0    4406\n",
              "1    6089\n",
              "Name: HighPrice, dtype: int64"
            ]
          },
          "metadata": {},
          "execution_count": 5
        }
      ]
    },
    {
      "cell_type": "markdown",
      "metadata": {
        "id": "ZMjwKI54xHUm"
      },
      "source": [
        "### Punto 1 - Árbol de decisión manual\n",
        "\n",
        "En la celda 1 creen un árbol de decisión **manualmente**  que considere los set de entrenamiento y test definidos anteriormente y presenten el acurracy del modelo en el set de test."
      ]
    },
    {
      "cell_type": "code",
      "execution_count": 12,
      "metadata": {
        "id": "iAk4TtWW1Xeo"
      },
      "outputs": [],
      "source": [
        "# Definición de la función que calcula el gini index\n",
        "def gini(y):\n",
        "    if y.shape[0] == 0:\n",
        "        return 0\n",
        "    else:\n",
        "        return 1 - (y.mean()**2 + (1 - y.mean())**2)\n",
        "    \n",
        "# Definición de la función gini_imputiry para calular la ganancia de una variable predictora j dado el punto de corte k\n",
        "def gini_impurity(X_col, y, split):\n",
        "    \n",
        "    filter_l = X_col < split\n",
        "    y_l = y.loc[filter_l]\n",
        "    y_r = y.loc[~filter_l]\n",
        "    \n",
        "    n_l = y_l.shape[0]\n",
        "    n_r = y_r.shape[0]\n",
        "    \n",
        "    gini_y = gini(y)\n",
        "    gini_l = gini(y_l)\n",
        "    gini_r = gini(y_r)\n",
        "    \n",
        "    gini_impurity_ = gini_y - (n_l / (n_l + n_r) * gini_l + n_r / (n_l + n_r) * gini_r)\n",
        "    \n",
        "    return gini_impurity_\n",
        "\n",
        "# Definición de la función best_split para calcular cuál es la mejor variable y punto de cortepara hacer la bifurcación del árbol\n",
        "def best_split(X, y, num_pct=10):\n",
        "    \n",
        "    features = range(X.shape[1])\n",
        "    \n",
        "    best_split = [0, 0, 0]  # j, split, gain\n",
        "    \n",
        "    # Para todas las varibles \n",
        "    for j in features:\n",
        "        \n",
        "        splits = np.percentile(X.iloc[:, j], np.arange(0, 100, 100.0 / (num_pct+1)).tolist())\n",
        "        splits = np.unique(splits)[1:]\n",
        "        \n",
        "        # Para cada partición\n",
        "        for split in splits:\n",
        "            gain = gini_impurity(X.iloc[:, j], y, split)\n",
        "                        \n",
        "            if gain > best_split[2]:\n",
        "                best_split = [j, split, gain]\n",
        "    \n",
        "    return best_split\n",
        "\n",
        " # Definición de la función tree_grow para hacer un crecimiento recursivo del árbol\n",
        "def tree_grow(X, y, level=0, min_gain=0.001, max_depth=None, num_pct=10):\n",
        "    \n",
        "    # Si solo es una observación\n",
        "    if X.shape[0] == 1:\n",
        "        tree = dict(y_pred=y.iloc[:1].values[0], y_prob=0.5, level=level, split=-1, n_samples=1, gain=0)\n",
        "        return tree\n",
        "    \n",
        "    # Calcular la mejor división\n",
        "    j, split, gain = best_split(X, y, num_pct)\n",
        "    \n",
        "    # Guardar el árbol y estimar la predicción\n",
        "    y_pred = int(y.mean() >= 0.5) \n",
        "    y_prob = (y.sum() + 1.0) / (y.shape[0] + 2.0)  # Corrección Laplace \n",
        "    \n",
        "    tree = dict(y_pred=y_pred, y_prob=y_prob, level=level, split=-1, n_samples=X.shape[0], gain=gain)\n",
        "    # Revisar el criterio de parada \n",
        "    if gain < min_gain:\n",
        "        return tree\n",
        "    if max_depth is not None:\n",
        "        if level >= max_depth:\n",
        "            return tree   \n",
        "    \n",
        "    # Continuar creando la partición\n",
        "    filter_l = X.iloc[:, j] < split\n",
        "    X_l, y_l = X.loc[filter_l], y.loc[filter_l]\n",
        "    X_r, y_r = X.loc[~filter_l], y.loc[~filter_l]\n",
        "    tree['split'] = [j, split]\n",
        "\n",
        "    # Siguiente iteración para cada partición\n",
        "    \n",
        "    tree['sl'] = tree_grow(X_l, y_l, level + 1, min_gain=min_gain, max_depth=max_depth, num_pct=num_pct)\n",
        "    tree['sr'] = tree_grow(X_r, y_r, level + 1, min_gain=min_gain, max_depth=max_depth, num_pct=num_pct)\n",
        "    \n",
        "    return tree\n",
        "\n",
        "# Definición de la función tree_predict para hacer predicciones según las variables 'X' y el árbol 'tree'\n",
        "\n",
        "def tree_predict(X, tree, proba=False):\n",
        "    \n",
        "    predicted = np.ones(X.shape[0])\n",
        "\n",
        "    # Revisar si es el nodo final\n",
        "    if tree['split'] == -1:\n",
        "        if not proba:\n",
        "            predicted = predicted * tree['y_pred']\n",
        "        else:\n",
        "            predicted = predicted * tree['y_prob']\n",
        "            \n",
        "    else:\n",
        "        \n",
        "        j, split = tree['split']\n",
        "        filter_l = (X.iloc[:, j] < split)\n",
        "        X_l = X.loc[filter_l]\n",
        "        X_r = X.loc[~filter_l]\n",
        "\n",
        "        if X_l.shape[0] == 0:  # Si el nodo izquierdo está vacio solo continua con el derecho \n",
        "            predicted[~filter_l] = tree_predict(X_r, tree['sr'], proba)\n",
        "        elif X_r.shape[0] == 0:  #  Si el nodo derecho está vacio solo continua con el izquierdo\n",
        "            predicted[filter_l] = tree_predict(X_l, tree['sl'], proba)\n",
        "        else:\n",
        "            predicted[filter_l] = tree_predict(X_l, tree['sl'], proba)\n",
        "            predicted[~filter_l] = tree_predict(X_r, tree['sr'], proba)\n",
        "\n",
        "    return predicted"
      ]
    },
    {
      "cell_type": "code",
      "execution_count": 13,
      "metadata": {
        "id": "tTQvzrjrxHUn",
        "outputId": "a98e1037-1fbf-4745-de03-be9dbf5c7d76",
        "colab": {
          "base_uri": "https://localhost:8080/"
        }
      },
      "outputs": [
        {
          "output_type": "stream",
          "name": "stdout",
          "text": [
            "F1 score:  0.8824242424242424\n",
            "Accuracy:  0.8599884526558892\n",
            "Precision: 0.8670795616960457\n",
            "Recall: 0.8983218163869694\n"
          ]
        }
      ],
      "source": [
        "# Celda 1\n",
        "tree = tree_grow(X_train, y_train, level=0)\n",
        "test_pred = tree_predict(X_test, tree, proba=False)\n",
        "print(\"F1 score: \", f1_score(y_test, test_pred))\n",
        "print(\"Accuracy: \", accuracy_score(y_test, test_pred))\n",
        "print('Precision:', precision_score(y_test, test_pred))\n",
        "print('Recall:', recall_score(y_test, test_pred))\n",
        "analisis[\"Arbol manual\"] = accuracy_score(y_test, test_pred)"
      ]
    },
    {
      "cell_type": "markdown",
      "metadata": {
        "id": "BpHqcY2zxHUn"
      },
      "source": [
        "### Punto 2 - Bagging manual\n",
        "\n",
        "En la celda 2 creen un modelo bagging **manualmente** con 10 árboles de clasificación y comenten sobre el desempeño del modelo."
      ]
    },
    {
      "cell_type": "code",
      "execution_count": null,
      "metadata": {
        "id": "qfRfsu9vA6Mg",
        "outputId": "49e34923-e74d-4ecf-8189-767417fbc066"
      },
      "outputs": [
        {
          "data": {
            "text/plain": [
              "257343     0\n",
              "326011     0\n",
              "242354    10\n",
              "266376    10\n",
              "396954    10\n",
              "          ..\n",
              "144298     7\n",
              "364521    10\n",
              "120072    10\n",
              "99878      0\n",
              "387162     0\n",
              "Length: 3464, dtype: int64"
            ]
          },
          "execution_count": 49,
          "metadata": {},
          "output_type": "execute_result"
        }
      ],
      "source": [
        "y_pred.sum(axis=1)"
      ]
    },
    {
      "cell_type": "code",
      "execution_count": null,
      "metadata": {
        "id": "dtj1Bm1DA6Mh",
        "outputId": "a87df16b-3553-46b2-b337-973d7845654e"
      },
      "outputs": [
        {
          "name": "stdout",
          "output_type": "stream",
          "text": [
            "(257343, 0    0\n",
            "1    0\n",
            "2    0\n",
            "3    0\n",
            "4    0\n",
            "5    0\n",
            "6    0\n",
            "7    0\n",
            "8    0\n",
            "9    0\n",
            "Name: 257343, dtype: int64)\n",
            "0    257343\n",
            "1    257343\n",
            "2    257343\n",
            "3    257343\n",
            "4    257343\n",
            "5    257343\n",
            "6    257343\n",
            "7    257343\n",
            "8    257343\n",
            "9    257343\n",
            "Name: 257343, dtype: int64\n"
          ]
        }
      ],
      "source": [
        "for filas in y_pred.iterrows():\n",
        "    print(filas)\n",
        "    print(sum(filas))\n",
        "    break"
      ]
    },
    {
      "cell_type": "code",
      "execution_count": 14,
      "metadata": {
        "colab": {
          "base_uri": "https://localhost:8080/"
        },
        "id": "MvJIMaNRxHUn",
        "outputId": "f3d8609c-fab1-41f8-d21b-190e1d442e8b"
      },
      "outputs": [
        {
          "output_type": "stream",
          "name": "stdout",
          "text": [
            "F1 score:  0.857984046186591\n",
            "Accuracy:  0.8342956120092377\n",
            "Precision: 0.8601186922704077\n",
            "Recall: 0.8559230009871668\n"
          ]
        }
      ],
      "source": [
        "# Celda 2\n",
        "np.random.seed(123)\n",
        "n_samples =  X_train.shape[0]\n",
        "\n",
        "n_B = 10\n",
        "samples =  [np.random.choice(a=X_train.index, size=n_samples, replace = True) for _ in range(1, n_B +1)]\n",
        "\n",
        "# Definición del modelo usando DecisionTreeClassifier de sklearn\n",
        "tree = DecisionTreeClassifier(random_state=123)\n",
        "\n",
        "# DataFrame para guardar las predicciones de cada árbol\n",
        "y_pred = pd.DataFrame(index=X_test.index, columns=[list(range(n_B))])\n",
        "\n",
        "tf1 = []\n",
        "taccu = []\n",
        "tps = []\n",
        "trcll= []\n",
        "\n",
        "# Entrenamiento de un árbol sobre cada muestra boostrap y predicción sobre los datos de test\n",
        "for i, sample in enumerate(samples):\n",
        "    X_train_i = X_train.loc[sample,:]\n",
        "    y_train_i = y_train[sample]\n",
        "    tree.fit(X_train_i, y_train_i)\n",
        "    y_pred.iloc[:,i] = tree.predict(X_test)\n",
        "\n",
        "\n",
        "\n",
        "for x in range(n_B):\n",
        "  tf1.append(f1_score(y_test, y_pred.iloc[:,x]))\n",
        "  taccu.append(accuracy_score(y_test, y_pred.iloc[:,x]))\n",
        "  tps.append(precision_score(y_test, y_pred.iloc[:,x]))\n",
        "  trcll.append(recall_score(y_test, y_pred.iloc[:,x]))\n",
        "\n",
        "\n",
        "\n",
        "print(\"F1 score: \", sum(tf1)/n_B)\n",
        "print(\"Accuracy: \", sum(taccu)/n_B)\n",
        "print('Precision:', sum(tps)/n_B)\n",
        "print('Recall:', sum(trcll)/n_B)\n",
        "analisis[\"Bagging manual\"] = sum(taccu)/n_B"
      ]
    },
    {
      "cell_type": "markdown",
      "source": [
        "#### Comentarios sobre el desempeño del modelo\n",
        "Posterior a la generación del modelo utilizando un solo arbol versus la ejecución del bagging manual con 10 arboles de decisión, se puede evidenciar una disminución en la capacidad de predicción, esto no solamente al evaluar el accuracy sino comprobando dicha afirmación con el Recall. Sin embargo, estos cambios, aunque no son sustanciales, pueden indicar un pequeño sobre ajuste en el arbol manual creado originalmente, esto se debe a que al utilizar multiples arboles para la realización de la predicción, estamos reduciendo la posibilidad de presentar sobre ajuste al modelo."
      ],
      "metadata": {
        "id": "LNHsZBA22lGf"
      }
    },
    {
      "cell_type": "markdown",
      "metadata": {
        "id": "-uX4kNS4xHUo"
      },
      "source": [
        "### Punto 3 - Bagging con librería\n",
        "\n",
        "En la celda 3, con la librería sklearn, entrenen un modelo bagging con 10 árboles de clasificación y el parámetro `max_features` igual a `log(n_features)`. Presenten el acurracy del modelo en el set de test y comenten sus resultados."
      ]
    },
    {
      "cell_type": "code",
      "execution_count": 15,
      "metadata": {
        "colab": {
          "base_uri": "https://localhost:8080/"
        },
        "id": "fUn5z02XxHUo",
        "outputId": "660a769b-e0c4-4fca-94db-6818e9d5739d"
      },
      "outputs": [
        {
          "output_type": "stream",
          "name": "stdout",
          "text": [
            "F1 score:  0.8791666666666667\n",
            "Accuracy:  0.8493071593533488\n",
            "Precision: 0.8278116826503923\n",
            "Recall: 0.937314906219151\n"
          ]
        }
      ],
      "source": [
        "# Celda 3\n",
        "\n",
        "\n",
        "baglib = BaggingClassifier(DecisionTreeClassifier(), n_estimators=10, \n",
        "                          max_features=int(np.log(len(X_train.columns))),bootstrap=True, \n",
        "                          oob_score=True, random_state=1)\n",
        "baglib.fit(X_train, y_train)\n",
        "y_pred = baglib.predict(X_test)\n",
        "\n",
        "print(\"F1 score: \", f1_score(y_test, y_pred))\n",
        "print(\"Accuracy: \", accuracy_score(y_test, y_pred))\n",
        "print('Precision:', precision_score(y_test, y_pred))\n",
        "print('Recall:', recall_score(y_test, y_pred))\n",
        "\n",
        "analisis[\"Bagging libreria\"] = accuracy_score(y_test, y_pred)\n"
      ]
    },
    {
      "cell_type": "markdown",
      "source": [
        "#### Comentarios sobre el desempeño del modelo\n",
        "\n",
        "Posterior a la verificación realizada en el punto 2, en donde se realizó un bagging manual con 10 arboles de decisión, se realiza el mismo procedimiento utilizando las librerias disponibles, aunque en este proceso se evidencia una mejora en el Recall, cabe anotar que el dataset está balanceado y la clase positiva en este caso corresponde a la clase con mayor cantidad de datos, lo que nos permite utilizar metricas como accuracy o precision para evaluar correctamente el desempeño del modelo que para este caso, no implican cambios sustanciales respecto al desempeño del modelo."
      ],
      "metadata": {
        "id": "_qBm2qDH4YYU"
      }
    },
    {
      "cell_type": "markdown",
      "metadata": {
        "id": "2hjPVDSuxHUo"
      },
      "source": [
        "### Punto 4 - Random forest con librería\n",
        "\n",
        "En la celda 4, usando la librería sklearn entrenen un modelo de Randon Forest para clasificación y presenten el acurracy del modelo en el set de test y comenten sus resultados."
      ]
    },
    {
      "cell_type": "code",
      "execution_count": 16,
      "metadata": {
        "colab": {
          "base_uri": "https://localhost:8080/"
        },
        "id": "BQ0NG8tUxHUp",
        "outputId": "9beb0969-6f7f-4988-cd0e-1766085e5179"
      },
      "outputs": [
        {
          "output_type": "stream",
          "name": "stdout",
          "text": [
            "F1 score:  0.8668471572729511\n",
            "Accuracy:  0.8438221709006929\n",
            "Precision: 0.8645066273932254\n",
            "Recall: 0.8692003948667325\n"
          ]
        }
      ],
      "source": [
        "# Celda 4\n",
        "rfc =  RandomForestClassifier()\n",
        "rfc.fit(X_train, y_train)\n",
        "\n",
        "y_pred = rfc.predict(X_test)\n",
        "print(\"F1 score: \", f1_score(y_test, y_pred))\n",
        "print(\"Accuracy: \", accuracy_score(y_test, y_pred))\n",
        "print('Precision:', precision_score(y_test, y_pred))\n",
        "print('Recall:', recall_score(y_test, y_pred))\n",
        "\n",
        "analisis[\"RandomForest libreria\"] = accuracy_score(y_test, y_pred)"
      ]
    },
    {
      "cell_type": "markdown",
      "source": [
        "#### Comentarios sobre el desempeño del modelo\n",
        "\n",
        "Cabe resaltar que RandomForest es la evolución del modelo original de Bagging (Utilizado previamente), esto nos lleva a pensar que en muchos casos vamos a tener mejoras, sin embargo, en escenarios como el planteado en este taller, no se logra evidenciar dicha mejora, esto se debe a que RandomForest demuestra un mejor desempeño principalmente en escenarios desbalanceados (Diferente al escenario aquí planteado), y aunque se ven cambios muy pequeños en metricas como la precision o el Recall, estos cambios no son significativos como para poder concluir que un modelo sea mejor que el otro."
      ],
      "metadata": {
        "id": "Qlfbnhtx7dx9"
      }
    },
    {
      "cell_type": "markdown",
      "metadata": {
        "id": "WFkZX3p4xHUp"
      },
      "source": [
        "### Punto 5 - Calibración de parámetros Random forest\n",
        "\n",
        "En la celda 5, calibren los parámetros max_depth, max_features y n_estimators del modelo de Randon Forest para clasificación. Presenten el acurracy del modelo en el set de test, comenten sus resultados y análicen cómo cada parámetro afecta el modelo."
      ]
    },
    {
      "cell_type": "code",
      "source": [
        "feature_cols = data.columns[0:9]"
      ],
      "metadata": {
        "id": "tyhymFDuIlIW"
      },
      "execution_count": 19,
      "outputs": []
    },
    {
      "cell_type": "code",
      "execution_count": null,
      "metadata": {
        "id": "aZuu6646xHUp"
      },
      "outputs": [],
      "source": [
        "# Celda 5 \n",
        "estimator_range= range(10,310,10)\n",
        "accuracy_scores= []\n",
        "RMSE_scores = []\n",
        "MSE_scores = []\n",
        "for estimator in estimator_range:\n",
        "    clf = RandomForestClassifier(n_estimators =estimator, random_state=1, n_jobs=-1 )\n",
        "    accuracy_scores.append(cross_val_score(clf,X, y, cv=5, scoring='accuracy').mean())\n",
        "    MSE_scores = cross_val_score(clf,X,y, cv=5, scoring='neg_mean_squared_error' )\n",
        "    RMSE_scores.append(np.mean(np.sqrt(-MSE_scores)))"
      ]
    },
    {
      "cell_type": "code",
      "execution_count": null,
      "metadata": {
        "colab": {
          "base_uri": "https://localhost:8080/",
          "height": 297
        },
        "id": "MlMpe_B2_h_f",
        "outputId": "9776d465-dbb8-4936-9fa9-c92958db010b"
      },
      "outputs": [
        {
          "output_type": "execute_result",
          "data": {
            "text/plain": [
              "Text(0, 0.5, 'Accuracy')"
            ]
          },
          "metadata": {},
          "execution_count": 21
        },
        {
          "output_type": "display_data",
          "data": {
            "text/plain": [
              "<Figure size 432x288 with 1 Axes>"
            ],
            "image/png": "[encoded data removed]"
          },
          "metadata": {
            "needs_background": "light"
          }
        }
      ],
      "source": [
        "plt.plot(estimator_range, accuracy_scores)\n",
        "plt.xlabel('n_estimators')\n",
        "plt.ylabel('Accuracy')"
      ]
    },
    {
      "cell_type": "markdown",
      "source": [
        "#### Comentarios sobre el parametro **n_estimators**\n",
        "\n",
        "Al realizar diversas pruebas variando dicho parametro, se evidencia que el aumento significativo de arboles en modelo, no mejora su desempeño, y por el contrario tiende a afectarlo, cabe resaltar que las escalas demuestran que dicha afectación no es significativa, manteniendo un *Accuracy* promedio de 0.83975, con un *Maximo* de 0.8415 y un *Minimo* de 0.8380, que nos da variacion de solo +/- 0.00175\n"
      ],
      "metadata": {
        "id": "c1LU1Ome8_h9"
      }
    },
    {
      "cell_type": "code",
      "execution_count": null,
      "metadata": {
        "colab": {
          "base_uri": "https://localhost:8080/",
          "height": 297
        },
        "id": "DN0X6k51em4q",
        "outputId": "89df14ab-1582-49f4-c54e-94b4e71a6c4a"
      },
      "outputs": [
        {
          "output_type": "execute_result",
          "data": {
            "text/plain": [
              "Text(0, 0.5, 'RMSE')"
            ]
          },
          "metadata": {},
          "execution_count": 22
        },
        {
          "output_type": "display_data",
          "data": {
            "text/plain": [
              "<Figure size 432x288 with 1 Axes>"
            ],
            "image/png": "[encoded data removed]"
          },
          "metadata": {
            "needs_background": "light"
          }
        }
      ],
      "source": [
        "plt.plot(estimator_range, RMSE_scores)\n",
        "plt.xlabel('n_estimators')\n",
        "plt.ylabel('RMSE')"
      ]
    },
    {
      "cell_type": "code",
      "execution_count": null,
      "metadata": {
        "colab": {
          "base_uri": "https://localhost:8080/"
        },
        "id": "0k-9hM90e3MV",
        "outputId": "5513d13c-4c68-4887-d07a-ab0845113eee"
      },
      "outputs": [
        {
          "output_type": "execute_result",
          "data": {
            "text/plain": [
              "(0.39802489654962725, 20)"
            ]
          },
          "metadata": {},
          "execution_count": 29
        }
      ],
      "source": [
        "error, n_estimators = sorted(zip(RMSE_scores, estimator_range))[0]\n",
        "(error, n_estimators)                                                          "
      ]
    },
    {
      "cell_type": "code",
      "source": [
        "max_depth_range = range(1, 30)\n",
        "accuracy_scores = []\n",
        "for depth in max_depth_range:\n",
        "    # Definición del árbol de decisión usando DecisionTreeClassifier de la libreria sklearn\n",
        "    clf = DecisionTreeClassifier(max_depth=depth, random_state=1)\n",
        "    accuracy_scores.append(cross_val_score(clf, X, y, cv=10, scoring='accuracy').mean())\n",
        "\n",
        "# Gráfica max_depth versus RMSE (error del modelo)\n",
        "plt.plot(max_depth_range, accuracy_scores)\n",
        "plt.xlabel('max_depth')\n",
        "plt.ylabel('Accuracy')"
      ],
      "metadata": {
        "id": "-HNoVs78Is2W",
        "outputId": "46f61033-8caa-437b-f947-1b2cb7c265ce",
        "colab": {
          "base_uri": "https://localhost:8080/",
          "height": 297
        }
      },
      "execution_count": null,
      "outputs": [
        {
          "output_type": "execute_result",
          "data": {
            "text/plain": [
              "Text(0, 0.5, 'Accuracy')"
            ]
          },
          "metadata": {},
          "execution_count": 32
        },
        {
          "output_type": "display_data",
          "data": {
            "text/plain": [
              "<Figure size 432x288 with 1 Axes>"
            ],
            "image/png": "[encoded data removed]"
          },
          "metadata": {
            "needs_background": "light"
          }
        }
      ]
    },
    {
      "cell_type": "code",
      "execution_count": null,
      "metadata": {
        "id": "CE2ZzSx6Ak7k"
      },
      "outputs": [],
      "source": [
        "feature_range = range(1, len(feature_cols)+1)\n",
        "# Definición de lista para almacenar la exactitud (accuracy) promedio para cada valor de max_features\n",
        "accuracy_scores = []\n",
        "# Uso de un 10-fold cross-validation para cada valor de max_features\n",
        "for feature in feature_range:\n",
        "    clf = RandomForestClassifier(n_estimators=200, max_features=feature, random_state=1, n_jobs=-1)\n",
        "    accuracy_scores.append(cross_val_score(clf, X, y, cv=5, scoring='accuracy').mean())"
      ]
    },
    {
      "cell_type": "code",
      "source": [
        "sorted(zip(accuracy_scores, max_depth_range))[::-1][0]"
      ],
      "metadata": {
        "id": "S_oHf-DvJNkD",
        "outputId": "bf509457-66ef-4f17-c2b1-4e3e9611317e",
        "colab": {
          "base_uri": "https://localhost:8080/"
        }
      },
      "execution_count": null,
      "outputs": [
        {
          "output_type": "execute_result",
          "data": {
            "text/plain": [
              "(0.851357789423535, 9)"
            ]
          },
          "metadata": {},
          "execution_count": 39
        }
      ]
    },
    {
      "cell_type": "markdown",
      "source": [
        "#### Comentarios sobre el parametro **max_depth**\n",
        "\n",
        "Al realizar un proceso de verificación del desempeño del modelo variando los valores del parametro *max_depth*, se evidencia una mejora significativa al aumentar dicho valor, sin embargo, después de un punto (5) podemos ver que dicho desempeño se afecta notablemente, para este caso particular, se recomienda dejar la profundidad de los arboles en 5 con el objetivo de maximizar la capacidadd de predicción de los mismos."
      ],
      "metadata": {
        "id": "qmdMfvxg-c4x"
      }
    },
    {
      "cell_type": "code",
      "execution_count": null,
      "metadata": {
        "colab": {
          "base_uri": "https://localhost:8080/",
          "height": 301
        },
        "id": "dfUFH8DZArXQ",
        "outputId": "8cc4d620-f13e-4ec3-de36-88bfcb1d84e0"
      },
      "outputs": [
        {
          "output_type": "execute_result",
          "data": {
            "text/plain": [
              "Text(0, 0.5, 'Accuracy')"
            ]
          },
          "metadata": {},
          "execution_count": 40
        },
        {
          "output_type": "display_data",
          "data": {
            "text/plain": [
              "<Figure size 432x288 with 1 Axes>"
            ],
            "image/png": "[encoded data removed]"
          },
          "metadata": {
            "needs_background": "light"
          }
        }
      ],
      "source": [
        "# Gráfica del desempeño del modelo vs la cantidad de max_features\n",
        "plt.plot(feature_range, accuracy_scores)\n",
        "plt.xlabel('max_features')\n",
        "plt.ylabel('Accuracy')"
      ]
    },
    {
      "cell_type": "code",
      "execution_count": 20,
      "metadata": {
        "colab": {
          "base_uri": "https://localhost:8080/"
        },
        "id": "A391aWkXaj_S",
        "outputId": "6554f1ca-37e3-4ce6-89cc-1b09173634b1"
      },
      "outputs": [
        {
          "output_type": "stream",
          "name": "stdout",
          "text": [
            "F1 score:  0.9081364829396326\n",
            "Accuracy:  0.8888568129330254\n",
            "Precision: 0.8789838337182448\n",
            "Recall: 0.93928923988154\n"
          ]
        }
      ],
      "source": [
        "#Se coloca al observar que el estimador optimo es 20 dentro del clasificador\n",
        "clf = RandomForestClassifier(n_estimators=20, max_features=9, max_depth=5, random_state=1, n_jobs=-1)\n",
        "clf.fit(X_train, y_train)\n",
        "pd.DataFrame({'feature':feature_cols, 'importance':clf.feature_importances_}).sort_values('importance')\n",
        "y_predrm = clf.predict(X_test)\n",
        "print(\"F1 score: \", f1_score(y_test, y_predrm))\n",
        "print(\"Accuracy: \", accuracy_score(y_test, y_predrm))\n",
        "print('Precision:', precision_score(y_test, y_predrm))\n",
        "print('Recall:', recall_score(y_test, y_predrm))"
      ]
    },
    {
      "cell_type": "code",
      "source": [
        "analisis[\"RandomForest Optimización\"] = accuracy_score(y_test, y_predrm)"
      ],
      "metadata": {
        "id": "wwY7k3crHL0u"
      },
      "execution_count": 21,
      "outputs": []
    },
    {
      "cell_type": "markdown",
      "source": [
        "#### Comentarios sobre el parametro **max_features**\n",
        "\n",
        "Al evaluar el parametro *max_features* se logra evidenciar una mejora en el desempeño del clasificador, esto demuestra que al considerar una mayor cantidad de variables predictoras en cada uno de los splits de los arboles, estos mejoran su capacidad de prediccion de forma directa."
      ],
      "metadata": {
        "id": "u2DVa7B187h5"
      }
    },
    {
      "cell_type": "markdown",
      "metadata": {
        "id": "MjiY8AQGxHUq"
      },
      "source": [
        "### Punto 6 - XGBoost con librería\n",
        "\n",
        "En la celda 6 implementen un modelo XGBoost de clasificación con la librería sklearn, presenten el acurracy del modelo en el set de test y comenten sus resultados."
      ]
    },
    {
      "cell_type": "code",
      "execution_count": 22,
      "metadata": {
        "colab": {
          "base_uri": "https://localhost:8080/"
        },
        "id": "IepbLnppxHUq",
        "outputId": "df660103-33eb-4dac-91ad-4628f109b73c"
      },
      "outputs": [
        {
          "output_type": "stream",
          "name": "stdout",
          "text": [
            "F1 score:  0.9070045421945971\n",
            "Accuracy:  0.8877020785219399\n",
            "Precision: 0.8794622160407974\n",
            "Recall: 0.9363277393879565\n"
          ]
        }
      ],
      "source": [
        "# Celda 6\n",
        "clf = XGBClassifier()\n",
        "\n",
        "clf.fit(X_train, y_train)\n",
        "y_pred = clf.predict(X_test)\n",
        "\n",
        "print(\"F1 score: \", f1_score(y_test, y_pred))\n",
        "print(\"Accuracy: \", accuracy_score(y_test, y_pred))\n",
        "print('Precision:', precision_score(y_test, y_pred))\n",
        "print('Recall:', recall_score(y_test, y_pred))"
      ]
    },
    {
      "cell_type": "code",
      "source": [
        "analisis[\"XGB predeterminado\"] = accuracy_score(y_test, y_pred)"
      ],
      "metadata": {
        "id": "bkUlDeyyHvJ2"
      },
      "execution_count": 23,
      "outputs": []
    },
    {
      "cell_type": "markdown",
      "source": [
        "#### Comentarios sobre XGBoost\n",
        "\n",
        "Aunque logramos evidenciar una mejora significativa al comparar XGBoost vs las primeras implementaciones en este taller, es de resaltar que los arboles de decision ensamblados logran un desempeño similar al realizar un proceso de optimziación de sus hiperparametros, esto genera una ventaja importante al considerar que afinar los hiperparametros de los arboles de decision, puede considerarse mas sencillo que calibrar dichos elementos en XGBoost, cabe anotar que para las particularidades de este problema, no es posible concluir que un modelo se comporte mejor que el otro en terminos de desempeño.\n"
      ],
      "metadata": {
        "id": "SzMKJj5PBceV"
      }
    },
    {
      "cell_type": "markdown",
      "metadata": {
        "id": "-oR5nH2fxHUq"
      },
      "source": [
        "### Punto 7 - Calibración de parámetros XGBoost\n",
        "\n",
        "En la celda 7 calibren los parámetros learning rate, gamma y colsample_bytree del modelo XGBoost para clasificación. Presenten el acurracy del modelo en el set de test, comenten sus resultados y análicen cómo cada parámetro afecta el modelo."
      ]
    },
    {
      "cell_type": "code",
      "execution_count": null,
      "metadata": {
        "id": "Vbr2Nv0OxHUr",
        "colab": {
          "base_uri": "https://localhost:8080/"
        },
        "outputId": "21ec373b-da2a-4e86-a937-70e80801c9d6"
      },
      "outputs": [
        {
          "output_type": "stream",
          "name": "stdout",
          "text": [
            "Best: -0.271114 using {'learning_rate': 0.1}\n",
            "-0.692537 (0.000011) with: {'learning_rate': 1e-05}\n",
            "-0.690111 (0.000055) with: {'learning_rate': 5e-05}\n",
            "-0.687102 (0.000111) with: {'learning_rate': 0.0001}\n",
            "-0.664081 (0.000547) with: {'learning_rate': 0.0005}\n",
            "-0.637699 (0.001051) with: {'learning_rate': 0.001}\n",
            "-0.491243 (0.004547) with: {'learning_rate': 0.005}\n",
            "-0.396527 (0.007836) with: {'learning_rate': 0.01}\n",
            "-0.275137 (0.015135) with: {'learning_rate': 0.05}\n",
            "-0.271509 (0.016429) with: {'learning_rate': 0.08}\n",
            "-0.271114 (0.016577) with: {'learning_rate': 0.1}\n",
            "-0.272008 (0.017278) with: {'learning_rate': 0.15}\n",
            "-0.272013 (0.017293) with: {'learning_rate': 0.18}\n",
            "-0.273146 (0.017478) with: {'learning_rate': 0.2}\n",
            "-0.276192 (0.019745) with: {'learning_rate': 0.3}\n",
            "-0.279161 (0.019740) with: {'learning_rate': 0.4}\n",
            "-0.283541 (0.020274) with: {'learning_rate': 0.5}\n",
            "-0.285984 (0.022509) with: {'learning_rate': 0.6}\n"
          ]
        }
      ],
      "source": [
        "# Celda 7\n",
        "kfold = StratifiedKFold(n_splits=10, shuffle=True)\n",
        "learning_rate = [0.00001, 0.00005,  0.0001, 0.0005,  0.001, 0.005, 0.01, 0.05, 0.08, 0.1, 0.15, 0.18, 0.2, 0.3, 0.4, 0.5, 0.6]\n",
        "param_grid = dict(learning_rate=learning_rate)\n",
        "kfold = StratifiedKFold(n_splits=10, shuffle=True, random_state=7)\n",
        "grid_search = GridSearchCV(clf, param_grid, scoring=\"neg_log_loss\", n_jobs=-1, cv=kfold)\n",
        "grid_result = grid_search.fit(X, y)\n",
        "print(\"Best: %f using %s\" % (grid_result.best_score_, grid_result.best_params_))\n",
        "means = grid_result.cv_results_[\"mean_test_score\"]\n",
        "stds = grid_result.cv_results_[\"std_test_score\"]\n",
        "params = grid_result.cv_results_[\"params\"]\n",
        "for mean, stdev, param in zip(means, stds, params):\n",
        "   print(\"%f (%f) with: %r\" % (mean, stdev, param))"
      ]
    },
    {
      "cell_type": "code",
      "source": [
        "modelo2 =  XGBClassifier(learning_rate=0.1)\n",
        "modelo2.fit(X_train, y_train)\n",
        "ypredic2 = modelo2.predict(X_test)\n",
        "print(accuracy_score(y_test, y_pred))"
      ],
      "metadata": {
        "id": "Jx76nRWhU_EV",
        "outputId": "ed1e4659-4904-474a-9796-0f214a64bc39",
        "colab": {
          "base_uri": "https://localhost:8080/"
        }
      },
      "execution_count": 6,
      "outputs": [
        {
          "output_type": "stream",
          "name": "stdout",
          "text": [
            "0.8877020785219399\n"
          ]
        }
      ]
    },
    {
      "cell_type": "markdown",
      "source": [
        "#### Comentarios sobre el parametro **learning_rate**\n",
        "\n",
        "Posterior a la evaluación de dicho parametro y aunque el proceso de optimización señala que 0.1 permite mejorar el desempeño del modelo, el comportamiento del mismo es muy similar al comportamiento logrado de forma automatica."
      ],
      "metadata": {
        "id": "cEOFp8pMENaD"
      }
    },
    {
      "cell_type": "code",
      "execution_count": null,
      "metadata": {
        "outputId": "d38cbe78-2519-4b8b-d96c-44237759ccd9",
        "colab": {
          "base_uri": "https://localhost:8080/"
        },
        "id": "PqelZUGQTLDZ"
      },
      "outputs": [
        {
          "output_type": "stream",
          "name": "stdout",
          "text": [
            "Best: -0.271002 using {'gamma': 0.1}\n",
            "-0.271114 (0.016577) with: {'gamma': 1e-05}\n",
            "-0.271114 (0.016577) with: {'gamma': 5e-05}\n",
            "-0.271114 (0.016577) with: {'gamma': 0.0001}\n",
            "-0.271114 (0.016577) with: {'gamma': 0.0005}\n",
            "-0.271114 (0.016577) with: {'gamma': 0.001}\n",
            "-0.271077 (0.016509) with: {'gamma': 0.005}\n",
            "-0.271128 (0.016537) with: {'gamma': 0.01}\n",
            "-0.271173 (0.016714) with: {'gamma': 0.05}\n",
            "-0.271002 (0.016606) with: {'gamma': 0.1}\n",
            "-0.271142 (0.016724) with: {'gamma': 0.2}\n",
            "-0.271107 (0.016666) with: {'gamma': 0.3}\n",
            "-0.271182 (0.016872) with: {'gamma': 0.4}\n",
            "-0.271148 (0.016619) with: {'gamma': 0.5}\n",
            "-0.271006 (0.016790) with: {'gamma': 0.6}\n",
            "-0.271061 (0.016884) with: {'gamma': 1}\n",
            "-0.271120 (0.016474) with: {'gamma': 2}\n",
            "-0.274556 (0.015675) with: {'gamma': 10}\n",
            "-0.306972 (0.014123) with: {'gamma': 100}\n",
            "-0.410334 (0.008086) with: {'gamma': 1000}\n"
          ]
        }
      ],
      "source": [
        "# Celda 7\n",
        "kfold = StratifiedKFold(n_splits=10, shuffle=True)\n",
        "gamma = [0.00001, 0.00005,  0.0001, 0.0005,  0.001, 0.005, 0.01, 0.05, 0.1,  0.2, 0.3, 0.4, 0.5, 0.6, 1, 2, 10, 100, 1000]\n",
        "param_grid = dict(gamma=gamma)\n",
        "kfold = StratifiedKFold(n_splits=10, shuffle=True, random_state=7)\n",
        "grid_search = GridSearchCV(clf, param_grid, scoring=\"neg_log_loss\", n_jobs=-1, cv=kfold)\n",
        "grid_result = grid_search.fit(X, y)\n",
        "print(\"Best: %f using %s\" % (grid_result.best_score_, grid_result.best_params_))\n",
        "means = grid_result.cv_results_[\"mean_test_score\"]\n",
        "stds = grid_result.cv_results_[\"std_test_score\"]\n",
        "params = grid_result.cv_results_[\"params\"]\n",
        "for mean, stdev, param in zip(means, stds, params):\n",
        "   print(\"%f (%f) with: %r\" % (mean, stdev, param))"
      ]
    },
    {
      "cell_type": "code",
      "source": [
        "modelo2 =  XGBClassifier(gamma=0.1)\n",
        "modelo2.fit(X_train, y_train)\n",
        "ypredic2 = modelo2.predict(X_test)\n",
        "print(accuracy_score(y_test, ypredic2))"
      ],
      "metadata": {
        "id": "D9r99GfpV0uE",
        "outputId": "4e0aca2e-89cd-42ec-d648-74652ef84115",
        "colab": {
          "base_uri": "https://localhost:8080/"
        }
      },
      "execution_count": 8,
      "outputs": [
        {
          "output_type": "stream",
          "name": "stdout",
          "text": [
            "0.8877020785219399\n"
          ]
        }
      ]
    },
    {
      "cell_type": "markdown",
      "source": [
        "#### Comentarios sobre el parametro **gamma**\n",
        "\n",
        "Al igual que lo ocurrido con el parametro *learning_rate* no se logra evidenciar una mejora en el desempeño del modelo a traves de la optimizacion de dicho hiperparametro, logrando los mismos valores sobre la metrica *accuracy*"
      ],
      "metadata": {
        "id": "eS3dVklYFWku"
      }
    },
    {
      "cell_type": "code",
      "source": [
        "kfold = StratifiedKFold(n_splits=10, shuffle=True)\n",
        "colsample_bytree = [0.00001, 0.00005,  0.0001, 0.0005,  0.001, 0.005, 0.01, 0.05, 0.1,  0.2, 0.3, 0.4, 0.5, 0.6, 0.7, 0.8, 0.9, 0.98, 1]\n",
        "param_grid = dict(colsample_bytree=colsample_bytree)\n",
        "kfold = StratifiedKFold(n_splits=10, shuffle=True, random_state=7)\n",
        "grid_search = GridSearchCV(clf, param_grid, scoring=\"neg_log_loss\", n_jobs=-1, cv=kfold)\n",
        "grid_result = grid_search.fit(X, y)\n",
        "print(\"Best: %f using %s\" % (grid_result.best_score_, grid_result.best_params_))\n",
        "means = grid_result.cv_results_[\"mean_test_score\"]\n",
        "stds = grid_result.cv_results_[\"std_test_score\"]\n",
        "params = grid_result.cv_results_[\"params\"]\n",
        "\n",
        "for mean, stdev, param in zip(means, stds, params):\n",
        "\n",
        "   print(\"%f (%f) with: %r\" % (mean, stdev, param))"
      ],
      "metadata": {
        "id": "zN55MP9pUHVb",
        "outputId": "6a58db9e-4ec1-4001-b9cd-a11203ba4294",
        "colab": {
          "base_uri": "https://localhost:8080/"
        }
      },
      "execution_count": null,
      "outputs": [
        {
          "output_type": "stream",
          "name": "stdout",
          "text": [
            "Best: -0.271028 using {'colsample_bytree': 0.9}\n",
            "-0.287633 (0.014919) with: {'colsample_bytree': 1e-05}\n",
            "-0.287633 (0.014919) with: {'colsample_bytree': 5e-05}\n",
            "-0.287633 (0.014919) with: {'colsample_bytree': 0.0001}\n",
            "-0.287633 (0.014919) with: {'colsample_bytree': 0.0005}\n",
            "-0.287633 (0.014919) with: {'colsample_bytree': 0.001}\n",
            "-0.287633 (0.014919) with: {'colsample_bytree': 0.005}\n",
            "-0.287633 (0.014919) with: {'colsample_bytree': 0.01}\n",
            "-0.287633 (0.014919) with: {'colsample_bytree': 0.05}\n",
            "-0.287633 (0.014919) with: {'colsample_bytree': 0.1}\n",
            "-0.287633 (0.014919) with: {'colsample_bytree': 0.2}\n",
            "-0.274871 (0.015892) with: {'colsample_bytree': 0.3}\n",
            "-0.272462 (0.016129) with: {'colsample_bytree': 0.4}\n",
            "-0.271366 (0.016578) with: {'colsample_bytree': 0.5}\n",
            "-0.271297 (0.016402) with: {'colsample_bytree': 0.6}\n",
            "-0.271088 (0.016063) with: {'colsample_bytree': 0.7}\n",
            "-0.271295 (0.016403) with: {'colsample_bytree': 0.8}\n",
            "-0.271028 (0.016600) with: {'colsample_bytree': 0.9}\n",
            "-0.271028 (0.016600) with: {'colsample_bytree': 0.98}\n",
            "-0.271114 (0.016577) with: {'colsample_bytree': 1}\n"
          ]
        }
      ]
    },
    {
      "cell_type": "code",
      "source": [
        "modelofinal =  XGBClassifier(colsample_bytree= 0.9)\n",
        "modelofinal.fit(X_train, y_train)\n",
        "ypredicfinal = modelofinal.predict(X_test)\n",
        "print(accuracy_score(y_test, ypredicfinal))"
      ],
      "metadata": {
        "colab": {
          "base_uri": "https://localhost:8080/"
        },
        "id": "iU0_ANqZGQ19",
        "outputId": "23792935-c80c-4014-ba83-6f4c4b581c80"
      },
      "execution_count": 9,
      "outputs": [
        {
          "output_type": "stream",
          "name": "stdout",
          "text": [
            "0.8877020785219399\n"
          ]
        }
      ]
    },
    {
      "cell_type": "code",
      "source": [
        "modelofinal =  XGBClassifier(gamma=0.1, learning_rate=0.1, colsample_bytree= 0.9)\n",
        "modelofinal.fit(X_train, y_train)\n",
        "ypredicfinal = modelofinal.predict(X_test)\n",
        "print(accuracy_score(y_test, ypredicfinal))\n",
        "analisis[\"XGB Optimizado\"] = accuracy_score(y_test, ypredicfinal)"
      ],
      "metadata": {
        "id": "XyQ1c_2AY12O",
        "outputId": "8303af4f-b5cf-4826-a38c-e21e8a57a1a8",
        "colab": {
          "base_uri": "https://localhost:8080/"
        }
      },
      "execution_count": 24,
      "outputs": [
        {
          "output_type": "stream",
          "name": "stdout",
          "text": [
            "0.8874133949191686\n"
          ]
        }
      ]
    },
    {
      "cell_type": "markdown",
      "source": [
        "#### Comentarios sobre el parametro **colsample_bytree**\n",
        "\n",
        "Al igual que lo ocurrido con los 2 parametros anteriormente evaluados, no se logra obtener una mejora o un cambio significativo al intentar optimizar dichos hiperparametros de forma independiente, cabe anotar que es posible que las variaciones en la combinacion de estos parametros en el modelo permitan tener mejoras en el desempeño del mismo, sin embargo, al evaluarlos uno a uno y de forma independiente, no se logra obtener un cambio sobre la metrica evaluada."
      ],
      "metadata": {
        "id": "QeKlJ6JwFrd_"
      }
    },
    {
      "cell_type": "markdown",
      "metadata": {
        "id": "0ofpOuqlxHUr"
      },
      "source": [
        "### Punto 8 - Comparación y análisis de resultados\n",
        "En la celda 8 comparen los resultados obtenidos de los diferentes modelos (random forest y XGBoost) y comenten las ventajas del mejor modelo y las desventajas del modelo con el menor desempeño."
      ]
    },
    {
      "cell_type": "code",
      "execution_count": 29,
      "metadata": {
        "id": "Gckq_jfNxHUr",
        "colab": {
          "base_uri": "https://localhost:8080/",
          "height": 347
        },
        "outputId": "44068024-0ae3-47cb-aa4e-2b32dd274faf"
      },
      "outputs": [
        {
          "output_type": "display_data",
          "data": {
            "text/plain": [
              "<Figure size 1440x396 with 1 Axes>"
            ],
            "image/png": "[encoded data removed]"
          },
          "metadata": {
            "needs_background": "light"
          }
        }
      ],
      "source": [
        "# Celda 8\n",
        "names = list(analisis.keys())\n",
        "values = list(analisis.values())\n",
        "plt.bar(range(len(analisis)), values, tick_label=names)\n",
        "plt.rcParams[\"figure.figsize\"] = (20,40)\n",
        "plt.show()"
      ]
    },
    {
      "cell_type": "code",
      "source": [
        "pd.DataFrame([analisis])"
      ],
      "metadata": {
        "colab": {
          "base_uri": "https://localhost:8080/",
          "height": 80
        },
        "id": "ATAFuUBpKYjl",
        "outputId": "42a5eaa7-9421-40cf-9959-8ff632659be4"
      },
      "execution_count": 31,
      "outputs": [
        {
          "output_type": "execute_result",
          "data": {
            "text/plain": [
              "   Arbol manual  Bagging manual  Bagging libreria  RandomForest libreria  \\\n",
              "0      0.859988        0.834296          0.849307               0.843822   \n",
              "\n",
              "   RandomForest Optimización  XGB predeterminado  XGB Optimizado  \n",
              "0                   0.888857            0.887702        0.887413  "
            ],
            "text/html": [
              "\n",
              "  <div id=\"df-38fc474b-7bc9-44f7-b1d4-7eb4778cf9bd\">\n",
              "    <div class=\"colab-df-container\">\n",
              "      <div>\n",
              "<style scoped>\n",
              "    .dataframe tbody tr th:only-of-type {\n",
              "        vertical-align: middle;\n",
              "    }\n",
              "\n",
              "    .dataframe tbody tr th {\n",
              "        vertical-align: top;\n",
              "    }\n",
              "\n",
              "    .dataframe thead th {\n",
              "        text-align: right;\n",
              "    }\n",
              "</style>\n",
              "<table border=\"1\" class=\"dataframe\">\n",
              "  <thead>\n",
              "    <tr style=\"text-align: right;\">\n",
              "      <th></th>\n",
              "      <th>Arbol manual</th>\n",
              "      <th>Bagging manual</th>\n",
              "      <th>Bagging libreria</th>\n",
              "      <th>RandomForest libreria</th>\n",
              "      <th>RandomForest Optimización</th>\n",
              "      <th>XGB predeterminado</th>\n",
              "      <th>XGB Optimizado</th>\n",
              "    </tr>\n",
              "  </thead>\n",
              "  <tbody>\n",
              "    <tr>\n",
              "      <th>0</th>\n",
              "      <td>0.859988</td>\n",
              "      <td>0.834296</td>\n",
              "      <td>0.849307</td>\n",
              "      <td>0.843822</td>\n",
              "      <td>0.888857</td>\n",
              "      <td>0.887702</td>\n",
              "      <td>0.887413</td>\n",
              "    </tr>\n",
              "  </tbody>\n",
              "</table>\n",
              "</div>\n",
              "      <button class=\"colab-df-convert\" onclick=\"convertToInteractive('df-38fc474b-7bc9-44f7-b1d4-7eb4778cf9bd')\"\n",
              "              title=\"Convert this dataframe to an interactive table.\"\n",
              "              style=\"display:none;\">\n",
              "        \n",
              "  <svg xmlns=\"http://www.w3.org/2000/svg\" height=\"24px\"viewBox=\"0 0 24 24\"\n",
              "       width=\"24px\">\n",
              "    <path d=\"M0 0h24v24H0V0z\" fill=\"none\"/>\n",
              "    <path d=\"M18.56 5.44l.94 2.06.94-2.06 2.06-.94-2.06-.94-.94-2.06-.94 2.06-2.06.94zm-11 1L8.5 8.5l.94-2.06 2.06-.94-2.06-.94L8.5 2.5l-.94 2.06-2.06.94zm10 10l.94 2.06.94-2.06 2.06-.94-2.06-.94-.94-2.06-.94 2.06-2.06.94z\"/><path d=\"M17.41 7.96l-1.37-1.37c-.4-.4-.92-.59-1.43-.59-.52 0-1.04.2-1.43.59L10.3 9.45l-7.72 7.72c-.78.78-.78 2.05 0 2.83L4 21.41c.39.39.9.59 1.41.59.51 0 1.02-.2 1.41-.59l7.78-7.78 2.81-2.81c.8-.78.8-2.07 0-2.86zM5.41 20L4 18.59l7.72-7.72 1.47 1.35L5.41 20z\"/>\n",
              "  </svg>\n",
              "      </button>\n",
              "      \n",
              "  <style>\n",
              "    .colab-df-container {\n",
              "      display:flex;\n",
              "      flex-wrap:wrap;\n",
              "      gap: 12px;\n",
              "    }\n",
              "\n",
              "    .colab-df-convert {\n",
              "      background-color: #E8F0FE;\n",
              "      border: none;\n",
              "      border-radius: 50%;\n",
              "      cursor: pointer;\n",
              "      display: none;\n",
              "      fill: #1967D2;\n",
              "      height: 32px;\n",
              "      padding: 0 0 0 0;\n",
              "      width: 32px;\n",
              "    }\n",
              "\n",
              "    .colab-df-convert:hover {\n",
              "      background-color: #E2EBFA;\n",
              "      box-shadow: 0px 1px 2px rgba(60, 64, 67, 0.3), 0px 1px 3px 1px rgba(60, 64, 67, 0.15);\n",
              "      fill: #174EA6;\n",
              "    }\n",
              "\n",
              "    [theme=dark] .colab-df-convert {\n",
              "      background-color: #3B4455;\n",
              "      fill: #D2E3FC;\n",
              "    }\n",
              "\n",
              "    [theme=dark] .colab-df-convert:hover {\n",
              "      background-color: #434B5C;\n",
              "      box-shadow: 0px 1px 3px 1px rgba(0, 0, 0, 0.15);\n",
              "      filter: drop-shadow(0px 1px 2px rgba(0, 0, 0, 0.3));\n",
              "      fill: #FFFFFF;\n",
              "    }\n",
              "  </style>\n",
              "\n",
              "      <script>\n",
              "        const buttonEl =\n",
              "          document.querySelector('#df-38fc474b-7bc9-44f7-b1d4-7eb4778cf9bd button.colab-df-convert');\n",
              "        buttonEl.style.display =\n",
              "          google.colab.kernel.accessAllowed ? 'block' : 'none';\n",
              "\n",
              "        async function convertToInteractive(key) {\n",
              "          const element = document.querySelector('#df-38fc474b-7bc9-44f7-b1d4-7eb4778cf9bd');\n",
              "          const dataTable =\n",
              "            await google.colab.kernel.invokeFunction('convertToInteractive',\n",
              "                                                     [key], {});\n",
              "          if (!dataTable) return;\n",
              "\n",
              "          const docLinkHtml = 'Like what you see? Visit the ' +\n",
              "            '<a target=\"_blank\" href=https://colab.research.google.com/notebooks/data_table.ipynb>data table notebook</a>'\n",
              "            + ' to learn more about interactive tables.';\n",
              "          element.innerHTML = '';\n",
              "          dataTable['output_type'] = 'display_data';\n",
              "          await google.colab.output.renderOutput(dataTable, element);\n",
              "          const docLink = document.createElement('div');\n",
              "          docLink.innerHTML = docLinkHtml;\n",
              "          element.appendChild(docLink);\n",
              "        }\n",
              "      </script>\n",
              "    </div>\n",
              "  </div>\n",
              "  "
            ]
          },
          "metadata": {},
          "execution_count": 31
        }
      ]
    },
    {
      "cell_type": "markdown",
      "source": [
        "#### Comparación de los modelos\n",
        "\n",
        "Como se puede evidenciar en la grafica previamente presentada, los modelos no tienen variaciones muy significativas entre si, el modelo con el menor desempeño es el Bagging Manual, sin embargo, cabe resaltar que aunque el bagging busca mejorar el desempeño del accuracy, tambien reduce la posibilidad de tener un sobre ajuste en las predicciones.\n",
        "\n",
        "Por otra parte, logramos evidenciar que el modelo con mejor desempeño es el RandomForest posterior a la optimización de sus hiperparametros.\n",
        "\n",
        "Ahora bien, comparando exclusivamente el *RandomForest* y el *XGBoost*, se logra evidenciar que el XGBoost tiene un mejor desempeño sobre el RandomForest sin la necesidad de realizar un proceso de optimización de hiperparametros, sin embargo, esto cambia cuando optimizamos dichos parametros en los diferentes escenarios, logrando mejorar el desempeño en el RandomForest y manteniendolo muy estable en el XGBoost."
      ],
      "metadata": {
        "id": "kuSzT3olJbI6"
      }
    }
  ],
  "metadata": {
    "colab": {
      "name": "Copy of S2TC1_RandomForests_Boosting.ipynb",
      "provenance": [],
      "include_colab_link": true
    },
    "kernelspec": {
      "display_name": "Python 3",
      "language": "python",
      "name": "python3"
    },
    "language_info": {
      "codemirror_mode": {
        "name": "ipython",
        "version": 3
      },
      "file_extension": ".py",
      "mimetype": "text/x-python",
      "name": "python",
      "nbconvert_exporter": "python",
      "pygments_lexer": "ipython3",
      "version": "3.8.3"
    }
  },
  "nbformat": 4,
  "nbformat_minor": 0
}