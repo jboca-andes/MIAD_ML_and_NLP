{
  "cells": [
    {
      "cell_type": "markdown",
      "metadata": {
        "id": "QD21XnqCiHtl"
      },
      "source": [
        "![image info](https://raw.githubusercontent.com/albahnsen/MIAD_ML_and_NLP/main/images/banner_1.png)"
      ]
    },
    {
      "cell_type": "markdown",
      "metadata": {
        "id": "oeroF-8siHtq"
      },
      "source": [
        "# Taller: Análisis de sentimientos y técnicas de NLP\n",
        "\n",
        "En este taller podrán poner en práctica sus conocimientos sobre las diferentes técnicas para el procesamiento de lenguaje natural. El taller está constituido por 5 puntos, en los cuales deberan seguir las intrucciones de cada numeral para su desarrollo."
      ]
    },
    {
      "cell_type": "markdown",
      "metadata": {
        "id": "L8dzSgI_iHt1"
      },
      "source": [
        "## Datos predicción sentimientos de viajeros en Twitter\n",
        "\n",
        "En este taller se usará el conjunto de datos de sentimientos sobre distintas aerolíneas de EE.UU. provenientes de Twitter. Cada observación contiene si el sentimiento de los tweets es positivo, neutral o negativo teniendo en cuenta distintas variables como aerolínea y las razones de los sentimientos negativos (como \"retraso en el vuelo\" o \"servicio grosero\"). El objetivo es predecir el sentimiento asociado a cada tweet. Para más detalles pueden visitar el siguiente enlace: [datos](https://www.kaggle.com/crowdflower/twitter-airline-sentiment)."
      ]
    },
    {
      "cell_type": "code",
      "execution_count": 1,
      "metadata": {
        "id": "m4rnQ5jsiHt1"
      },
      "outputs": [],
      "source": [
        "import warnings\n",
        "warnings.filterwarnings('ignore')"
      ]
    },
    {
      "cell_type": "code",
      "execution_count": 2,
      "metadata": {
        "id": "8Dtgx2ahiHt2"
      },
      "outputs": [],
      "source": [
        "# Importación de librerías\n",
        "import pandas as pd\n",
        "import numpy as np\n",
        "%matplotlib inline\n",
        "import matplotlib.pyplot as plt"
      ]
    },
    {
      "cell_type": "code",
      "execution_count": 3,
      "metadata": {
        "id": "KfZuK5uwiHt3",
        "colab": {
          "base_uri": "https://localhost:8080/",
          "height": 527
        },
        "outputId": "7af0c2d1-8f8b-4599-ee68-e95b1d24d08b"
      },
      "outputs": [
        {
          "output_type": "execute_result",
          "data": {
            "text/plain": [
              "                   airline_sentiment  airline_sentiment_confidence  \\\n",
              "tweet_id                                                             \n",
              "570306133677760513           neutral                        1.0000   \n",
              "570301130888122368          positive                        0.3486   \n",
              "570301083672813571           neutral                        0.6837   \n",
              "570301031407624196          negative                        1.0000   \n",
              "570300817074462722          negative                        1.0000   \n",
              "\n",
              "                   negativereason  negativereason_confidence         airline  \\\n",
              "tweet_id                                                                       \n",
              "570306133677760513            NaN                        NaN  Virgin America   \n",
              "570301130888122368            NaN                     0.0000  Virgin America   \n",
              "570301083672813571            NaN                        NaN  Virgin America   \n",
              "570301031407624196     Bad Flight                     0.7033  Virgin America   \n",
              "570300817074462722     Can't Tell                     1.0000  Virgin America   \n",
              "\n",
              "                   airline_sentiment_gold        name negativereason_gold  \\\n",
              "tweet_id                                                                    \n",
              "570306133677760513                    NaN     cairdin                 NaN   \n",
              "570301130888122368                    NaN    jnardino                 NaN   \n",
              "570301083672813571                    NaN  yvonnalynn                 NaN   \n",
              "570301031407624196                    NaN    jnardino                 NaN   \n",
              "570300817074462722                    NaN    jnardino                 NaN   \n",
              "\n",
              "                    retweet_count  \\\n",
              "tweet_id                            \n",
              "570306133677760513              0   \n",
              "570301130888122368              0   \n",
              "570301083672813571              0   \n",
              "570301031407624196              0   \n",
              "570300817074462722              0   \n",
              "\n",
              "                                                                 text  \\\n",
              "tweet_id                                                                \n",
              "570306133677760513                @VirginAmerica What @dhepburn said.   \n",
              "570301130888122368  @VirginAmerica plus you've added commercials t...   \n",
              "570301083672813571  @VirginAmerica I didn't today... Must mean I n...   \n",
              "570301031407624196  @VirginAmerica it's really aggressive to blast...   \n",
              "570300817074462722  @VirginAmerica and it's a really big bad thing...   \n",
              "\n",
              "                   tweet_coord              tweet_created tweet_location  \\\n",
              "tweet_id                                                                   \n",
              "570306133677760513         NaN  2015-02-24 11:35:52 -0800            NaN   \n",
              "570301130888122368         NaN  2015-02-24 11:15:59 -0800            NaN   \n",
              "570301083672813571         NaN  2015-02-24 11:15:48 -0800      Lets Play   \n",
              "570301031407624196         NaN  2015-02-24 11:15:36 -0800            NaN   \n",
              "570300817074462722         NaN  2015-02-24 11:14:45 -0800            NaN   \n",
              "\n",
              "                                 user_timezone  \n",
              "tweet_id                                        \n",
              "570306133677760513  Eastern Time (US & Canada)  \n",
              "570301130888122368  Pacific Time (US & Canada)  \n",
              "570301083672813571  Central Time (US & Canada)  \n",
              "570301031407624196  Pacific Time (US & Canada)  \n",
              "570300817074462722  Pacific Time (US & Canada)  "
            ],
            "text/html": [
              "\n",
              "  <div id=\"df-5e5f9487-5af1-470b-a5cd-e5aa28773fbb\">\n",
              "    <div class=\"colab-df-container\">\n",
              "      <div>\n",
              "<style scoped>\n",
              "    .dataframe tbody tr th:only-of-type {\n",
              "        vertical-align: middle;\n",
              "    }\n",
              "\n",
              "    .dataframe tbody tr th {\n",
              "        vertical-align: top;\n",
              "    }\n",
              "\n",
              "    .dataframe thead th {\n",
              "        text-align: right;\n",
              "    }\n",
              "</style>\n",
              "<table border=\"1\" class=\"dataframe\">\n",
              "  <thead>\n",
              "    <tr style=\"text-align: right;\">\n",
              "      <th></th>\n",
              "      <th>airline_sentiment</th>\n",
              "      <th>airline_sentiment_confidence</th>\n",
              "      <th>negativereason</th>\n",
              "      <th>negativereason_confidence</th>\n",
              "      <th>airline</th>\n",
              "      <th>airline_sentiment_gold</th>\n",
              "      <th>name</th>\n",
              "      <th>negativereason_gold</th>\n",
              "      <th>retweet_count</th>\n",
              "      <th>text</th>\n",
              "      <th>tweet_coord</th>\n",
              "      <th>tweet_created</th>\n",
              "      <th>tweet_location</th>\n",
              "      <th>user_timezone</th>\n",
              "    </tr>\n",
              "    <tr>\n",
              "      <th>tweet_id</th>\n",
              "      <th></th>\n",
              "      <th></th>\n",
              "      <th></th>\n",
              "      <th></th>\n",
              "      <th></th>\n",
              "      <th></th>\n",
              "      <th></th>\n",
              "      <th></th>\n",
              "      <th></th>\n",
              "      <th></th>\n",
              "      <th></th>\n",
              "      <th></th>\n",
              "      <th></th>\n",
              "      <th></th>\n",
              "    </tr>\n",
              "  </thead>\n",
              "  <tbody>\n",
              "    <tr>\n",
              "      <th>570306133677760513</th>\n",
              "      <td>neutral</td>\n",
              "      <td>1.0000</td>\n",
              "      <td>NaN</td>\n",
              "      <td>NaN</td>\n",
              "      <td>Virgin America</td>\n",
              "      <td>NaN</td>\n",
              "      <td>cairdin</td>\n",
              "      <td>NaN</td>\n",
              "      <td>0</td>\n",
              "      <td>@VirginAmerica What @dhepburn said.</td>\n",
              "      <td>NaN</td>\n",
              "      <td>2015-02-24 11:35:52 -0800</td>\n",
              "      <td>NaN</td>\n",
              "      <td>Eastern Time (US &amp; Canada)</td>\n",
              "    </tr>\n",
              "    <tr>\n",
              "      <th>570301130888122368</th>\n",
              "      <td>positive</td>\n",
              "      <td>0.3486</td>\n",
              "      <td>NaN</td>\n",
              "      <td>0.0000</td>\n",
              "      <td>Virgin America</td>\n",
              "      <td>NaN</td>\n",
              "      <td>jnardino</td>\n",
              "      <td>NaN</td>\n",
              "      <td>0</td>\n",
              "      <td>@VirginAmerica plus you've added commercials t...</td>\n",
              "      <td>NaN</td>\n",
              "      <td>2015-02-24 11:15:59 -0800</td>\n",
              "      <td>NaN</td>\n",
              "      <td>Pacific Time (US &amp; Canada)</td>\n",
              "    </tr>\n",
              "    <tr>\n",
              "      <th>570301083672813571</th>\n",
              "      <td>neutral</td>\n",
              "      <td>0.6837</td>\n",
              "      <td>NaN</td>\n",
              "      <td>NaN</td>\n",
              "      <td>Virgin America</td>\n",
              "      <td>NaN</td>\n",
              "      <td>yvonnalynn</td>\n",
              "      <td>NaN</td>\n",
              "      <td>0</td>\n",
              "      <td>@VirginAmerica I didn't today... Must mean I n...</td>\n",
              "      <td>NaN</td>\n",
              "      <td>2015-02-24 11:15:48 -0800</td>\n",
              "      <td>Lets Play</td>\n",
              "      <td>Central Time (US &amp; Canada)</td>\n",
              "    </tr>\n",
              "    <tr>\n",
              "      <th>570301031407624196</th>\n",
              "      <td>negative</td>\n",
              "      <td>1.0000</td>\n",
              "      <td>Bad Flight</td>\n",
              "      <td>0.7033</td>\n",
              "      <td>Virgin America</td>\n",
              "      <td>NaN</td>\n",
              "      <td>jnardino</td>\n",
              "      <td>NaN</td>\n",
              "      <td>0</td>\n",
              "      <td>@VirginAmerica it's really aggressive to blast...</td>\n",
              "      <td>NaN</td>\n",
              "      <td>2015-02-24 11:15:36 -0800</td>\n",
              "      <td>NaN</td>\n",
              "      <td>Pacific Time (US &amp; Canada)</td>\n",
              "    </tr>\n",
              "    <tr>\n",
              "      <th>570300817074462722</th>\n",
              "      <td>negative</td>\n",
              "      <td>1.0000</td>\n",
              "      <td>Can't Tell</td>\n",
              "      <td>1.0000</td>\n",
              "      <td>Virgin America</td>\n",
              "      <td>NaN</td>\n",
              "      <td>jnardino</td>\n",
              "      <td>NaN</td>\n",
              "      <td>0</td>\n",
              "      <td>@VirginAmerica and it's a really big bad thing...</td>\n",
              "      <td>NaN</td>\n",
              "      <td>2015-02-24 11:14:45 -0800</td>\n",
              "      <td>NaN</td>\n",
              "      <td>Pacific Time (US &amp; Canada)</td>\n",
              "    </tr>\n",
              "  </tbody>\n",
              "</table>\n",
              "</div>\n",
              "      <button class=\"colab-df-convert\" onclick=\"convertToInteractive('df-5e5f9487-5af1-470b-a5cd-e5aa28773fbb')\"\n",
              "              title=\"Convert this dataframe to an interactive table.\"\n",
              "              style=\"display:none;\">\n",
              "        \n",
              "  <svg xmlns=\"http://www.w3.org/2000/svg\" height=\"24px\"viewBox=\"0 0 24 24\"\n",
              "       width=\"24px\">\n",
              "    <path d=\"M0 0h24v24H0V0z\" fill=\"none\"/>\n",
              "    <path d=\"M18.56 5.44l.94 2.06.94-2.06 2.06-.94-2.06-.94-.94-2.06-.94 2.06-2.06.94zm-11 1L8.5 8.5l.94-2.06 2.06-.94-2.06-.94L8.5 2.5l-.94 2.06-2.06.94zm10 10l.94 2.06.94-2.06 2.06-.94-2.06-.94-.94-2.06-.94 2.06-2.06.94z\"/><path d=\"M17.41 7.96l-1.37-1.37c-.4-.4-.92-.59-1.43-.59-.52 0-1.04.2-1.43.59L10.3 9.45l-7.72 7.72c-.78.78-.78 2.05 0 2.83L4 21.41c.39.39.9.59 1.41.59.51 0 1.02-.2 1.41-.59l7.78-7.78 2.81-2.81c.8-.78.8-2.07 0-2.86zM5.41 20L4 18.59l7.72-7.72 1.47 1.35L5.41 20z\"/>\n",
              "  </svg>\n",
              "      </button>\n",
              "      \n",
              "  <style>\n",
              "    .colab-df-container {\n",
              "      display:flex;\n",
              "      flex-wrap:wrap;\n",
              "      gap: 12px;\n",
              "    }\n",
              "\n",
              "    .colab-df-convert {\n",
              "      background-color: #E8F0FE;\n",
              "      border: none;\n",
              "      border-radius: 50%;\n",
              "      cursor: pointer;\n",
              "      display: none;\n",
              "      fill: #1967D2;\n",
              "      height: 32px;\n",
              "      padding: 0 0 0 0;\n",
              "      width: 32px;\n",
              "    }\n",
              "\n",
              "    .colab-df-convert:hover {\n",
              "      background-color: #E2EBFA;\n",
              "      box-shadow: 0px 1px 2px rgba(60, 64, 67, 0.3), 0px 1px 3px 1px rgba(60, 64, 67, 0.15);\n",
              "      fill: #174EA6;\n",
              "    }\n",
              "\n",
              "    [theme=dark] .colab-df-convert {\n",
              "      background-color: #3B4455;\n",
              "      fill: #D2E3FC;\n",
              "    }\n",
              "\n",
              "    [theme=dark] .colab-df-convert:hover {\n",
              "      background-color: #434B5C;\n",
              "      box-shadow: 0px 1px 3px 1px rgba(0, 0, 0, 0.15);\n",
              "      filter: drop-shadow(0px 1px 2px rgba(0, 0, 0, 0.3));\n",
              "      fill: #FFFFFF;\n",
              "    }\n",
              "  </style>\n",
              "\n",
              "      <script>\n",
              "        const buttonEl =\n",
              "          document.querySelector('#df-5e5f9487-5af1-470b-a5cd-e5aa28773fbb button.colab-df-convert');\n",
              "        buttonEl.style.display =\n",
              "          google.colab.kernel.accessAllowed ? 'block' : 'none';\n",
              "\n",
              "        async function convertToInteractive(key) {\n",
              "          const element = document.querySelector('#df-5e5f9487-5af1-470b-a5cd-e5aa28773fbb');\n",
              "          const dataTable =\n",
              "            await google.colab.kernel.invokeFunction('convertToInteractive',\n",
              "                                                     [key], {});\n",
              "          if (!dataTable) return;\n",
              "\n",
              "          const docLinkHtml = 'Like what you see? Visit the ' +\n",
              "            '<a target=\"_blank\" href=https://colab.research.google.com/notebooks/data_table.ipynb>data table notebook</a>'\n",
              "            + ' to learn more about interactive tables.';\n",
              "          element.innerHTML = '';\n",
              "          dataTable['output_type'] = 'display_data';\n",
              "          await google.colab.output.renderOutput(dataTable, element);\n",
              "          const docLink = document.createElement('div');\n",
              "          docLink.innerHTML = docLinkHtml;\n",
              "          element.appendChild(docLink);\n",
              "        }\n",
              "      </script>\n",
              "    </div>\n",
              "  </div>\n",
              "  "
            ]
          },
          "metadata": {},
          "execution_count": 3
        }
      ],
      "source": [
        "# Lectura de la información de archivo .zip\n",
        "tweets = pd.read_csv('https://raw.githubusercontent.com/albahnsen/MIAD_ML_and_NLP/main/datasets/Tweets.zip', index_col=0)\n",
        "\n",
        "# Visualización dataset\n",
        "tweets.head()"
      ]
    },
    {
      "cell_type": "code",
      "execution_count": 4,
      "metadata": {
        "id": "6KZnmlpkiHt3",
        "colab": {
          "base_uri": "https://localhost:8080/"
        },
        "outputId": "54e02349-594b-4cb2-9bd2-201ec421a9ea"
      },
      "outputs": [
        {
          "output_type": "execute_result",
          "data": {
            "text/plain": [
              "(14640, 14)"
            ]
          },
          "metadata": {},
          "execution_count": 4
        }
      ],
      "source": [
        "# Impresión tamaño del cojunto de datos\n",
        "tweets.shape"
      ]
    },
    {
      "cell_type": "markdown",
      "metadata": {
        "id": "WLCL24_WiHt4"
      },
      "source": [
        "### Análisis descriptivo"
      ]
    },
    {
      "cell_type": "code",
      "execution_count": 5,
      "metadata": {
        "id": "IHNm8W-6iHt4",
        "colab": {
          "base_uri": "https://localhost:8080/"
        },
        "outputId": "3a943837-aed5-4621-9664-d8f1d076f6d3"
      },
      "outputs": [
        {
          "output_type": "execute_result",
          "data": {
            "text/plain": [
              "negative    9178\n",
              "neutral     3099\n",
              "positive    2363\n",
              "Name: airline_sentiment, dtype: int64"
            ]
          },
          "metadata": {},
          "execution_count": 5
        }
      ],
      "source": [
        "# Cuenta de tweets por cada sentimiento\n",
        "tweets['airline_sentiment'].value_counts()"
      ]
    },
    {
      "cell_type": "code",
      "execution_count": 6,
      "metadata": {
        "id": "az9CJE5aiHt4",
        "colab": {
          "base_uri": "https://localhost:8080/"
        },
        "outputId": "e99628e3-b263-43f8-b04f-bd47299b2b3c"
      },
      "outputs": [
        {
          "output_type": "execute_result",
          "data": {
            "text/plain": [
              "United            3822\n",
              "US Airways        2913\n",
              "American          2759\n",
              "Southwest         2420\n",
              "Delta             2222\n",
              "Virgin America     504\n",
              "Name: airline, dtype: int64"
            ]
          },
          "metadata": {},
          "execution_count": 6
        }
      ],
      "source": [
        "# Cuenta de tweets por cada aerolínea\n",
        "tweets['airline'].value_counts()"
      ]
    },
    {
      "cell_type": "code",
      "execution_count": 7,
      "metadata": {
        "id": "tmzUoAwQiHt5",
        "colab": {
          "base_uri": "https://localhost:8080/",
          "height": 421
        },
        "outputId": "793d647b-4438-4b3b-b241-be01dc39d92c"
      },
      "outputs": [
        {
          "output_type": "execute_result",
          "data": {
            "text/plain": [
              "<matplotlib.axes._subplots.AxesSubplot at 0x7f397e67b2d0>"
            ]
          },
          "metadata": {},
          "execution_count": 7
        },
        {
          "output_type": "display_data",
          "data": {
            "text/plain": [
              "<Figure size 720x432 with 1 Axes>"
            ],
            "image/png": "[encoded data removed]"
          },
          "metadata": {
            "needs_background": "light"
          }
        }
      ],
      "source": [
        "# Plot con cuenta de tweets por cada aerolínea y sentimiento\n",
        "pd.crosstab(index = tweets[\"airline\"],columns = tweets[\"airline_sentiment\"]).plot(kind='bar',figsize=(10, 6),alpha=0.5,rot=0,stacked=True,title=\"Sentiminetos por aerolínea\")"
      ]
    },
    {
      "cell_type": "markdown",
      "metadata": {
        "id": "U7neMG5PiHt5"
      },
      "source": [
        "### Liberias y Variables de interés y predicción"
      ]
    },
    {
      "cell_type": "code",
      "execution_count": 8,
      "metadata": {
        "id": "_qnpOx9TiHt6",
        "colab": {
          "base_uri": "https://localhost:8080/"
        },
        "outputId": "772ceb36-1705-4b78-eaca-2b97d1c2d8d2"
      },
      "outputs": [
        {
          "output_type": "stream",
          "name": "stdout",
          "text": [
            "[nltk_data] Downloading package wordnet to /root/nltk_data...\n",
            "[nltk_data]   Unzipping corpora/wordnet.zip.\n"
          ]
        },
        {
          "output_type": "execute_result",
          "data": {
            "text/plain": [
              "True"
            ]
          },
          "metadata": {},
          "execution_count": 8
        }
      ],
      "source": [
        "from sklearn.model_selection import train_test_split, cross_val_score\n",
        "from sklearn.feature_extraction.text import CountVectorizer, TfidfVectorizer\n",
        "from sklearn.ensemble import RandomForestClassifier\n",
        "from nltk.stem.snowball import SnowballStemmer\n",
        "from nltk.stem import WordNetLemmatizer\n",
        "from sklearn.metrics import accuracy_score, confusion_matrix, classification_report\n",
        "import nltk\n",
        "nltk.download('wordnet')"
      ]
    },
    {
      "cell_type": "code",
      "execution_count": 9,
      "metadata": {
        "id": "nYyk8SrfiHt6"
      },
      "outputs": [],
      "source": [
        "# Separación de variables predictoras (X) y de variable de interés (y)\n",
        "X = tweets['text']\n",
        "y = tweets['airline_sentiment'].map({'negative':-1,'neutral':0,'positive':1})"
      ]
    },
    {
      "cell_type": "code",
      "execution_count": 10,
      "metadata": {
        "id": "gvG6oBitiHt6"
      },
      "outputs": [],
      "source": [
        "# Separación de datos en set de entrenamiento y test\n",
        "X_train, X_test, y_train, y_test = train_test_split(X, y, test_size=0.33, random_state=42)"
      ]
    },
    {
      "cell_type": "markdown",
      "metadata": {
        "id": "_5ugN_X9iHt7"
      },
      "source": [
        "### Punto 1 - Uso de CountVectorizer\n",
        "\n",
        "En la celda 1 creen un modelo de random forest con la libreria sklearn que prediga el sentimiento de los tweets usando los set de entrenamiento y test definidos anteriormente. Usen la función **CountVectorizer** y presenten el desempeño del modelo con la métrica del acurracy.\n",
        "\n",
        "Recuerden que el preprocesamiento que se haga sobre los datos de entrenamiento  (*.fit_transform()*) deben ser aplicado al set de test (*.transform()*)."
      ]
    },
    {
      "cell_type": "code",
      "execution_count": 11,
      "metadata": {
        "id": "FnUgPdysiHt7",
        "colab": {
          "base_uri": "https://localhost:8080/"
        },
        "outputId": "b3b96036-b81b-43e5-8377-292bb47bdf31"
      },
      "outputs": [
        {
          "output_type": "execute_result",
          "data": {
            "text/plain": [
              "0.7706953642384106"
            ]
          },
          "metadata": {},
          "execution_count": 11
        }
      ],
      "source": [
        "# Celda 1\n",
        "vec = CountVectorizer()\n",
        "rfc = RandomForestClassifier()\n",
        "X_train_vec = vec.fit_transform(X_train)\n",
        "rfc.fit(X_train_vec, y_train)\n",
        "test = rfc.predict(vec.transform(X_test))\n",
        "accuracy_score(y_test, test)"
      ]
    },
    {
      "cell_type": "markdown",
      "metadata": {
        "id": "tNmK6yTaiHt8"
      },
      "source": [
        "### Punto 2 - Eliminación de Stopwords\n",
        "\n",
        "En la celda 2 creen un modelo de random forest con la libreria sklearn que prediga el sentimiento de los tweets usando los set de entrenamiento y test definidos anteriormente. Usen la función CountVectorizer, **eliminen stopwords** y presenten el desempeño del modelo con la métrica del acurracy.\n",
        "\n",
        "Recuerden que el preprocesamiento que se haga sobre los datos de entrenamiento  (*.fit_transform()*) deben ser aplicado al set de test (*.transform()*)."
      ]
    },
    {
      "cell_type": "code",
      "execution_count": 12,
      "metadata": {
        "id": "nykuv20giHt8",
        "colab": {
          "base_uri": "https://localhost:8080/"
        },
        "outputId": "0524bf5a-a30a-41ee-b673-397c11c8a541"
      },
      "outputs": [
        {
          "output_type": "execute_result",
          "data": {
            "text/plain": [
              "0.7646937086092715"
            ]
          },
          "metadata": {},
          "execution_count": 12
        }
      ],
      "source": [
        "# Celda 2\n",
        "vec = CountVectorizer(stop_words=\"english\")\n",
        "rfc = RandomForestClassifier()\n",
        "X_train_vec = vec.fit_transform(X_train)\n",
        "rfc.fit(X_train_vec, y_train)\n",
        "test = rfc.predict(vec.transform(X_test))\n",
        "accuracy_score(y_test, test)"
      ]
    },
    {
      "cell_type": "markdown",
      "metadata": {
        "id": "3Xj6Y1p6iHt8"
      },
      "source": [
        "### Punto 3 - Lematización con verbos\n",
        "\n",
        "En la celda 3 creen un modelo de random forest con la libreria sklearn que prediga el sentimiento de los tweets usando los set de entrenamiento y test definidos anteriormente. Usen la función CountVectorizer, **lematizen el texto con verbos** y presenten el desempeño del modelo con la métrica del acurracy.\n",
        "\n",
        "Recuerden que el preprocesamiento que se haga sobre los datos de entrenamiento  (*.fit_transform()*) deben ser aplicado al set de test (*.transform()*)."
      ]
    },
    {
      "cell_type": "code",
      "execution_count": 13,
      "metadata": {
        "id": "9K7dzFFaiHt9",
        "colab": {
          "base_uri": "https://localhost:8080/"
        },
        "outputId": "7770d506-a333-4215-bfd4-269c97dd52b5"
      },
      "outputs": [
        {
          "output_type": "execute_result",
          "data": {
            "text/plain": [
              "0.7601407284768212"
            ]
          },
          "metadata": {},
          "execution_count": 13
        }
      ],
      "source": [
        "# Celda 3\n",
        "class lematizador(object):\n",
        "  def __init__(self):\n",
        "    self.wnl = WordNetLemmatizer()\n",
        "  def __call__(self, palabras):\n",
        "    return [self.wnl.lemmatize(p, 'v') for p in palabras.split(' ')]\n",
        "\n",
        "vec = CountVectorizer(tokenizer=lematizador())\n",
        "rfc = RandomForestClassifier()\n",
        "X_train_vec = vec.fit_transform(X_train)\n",
        "rfc.fit(X_train_vec, y_train)\n",
        "test = rfc.predict(vec.transform(X_test))\n",
        "accuracy_score(y_test, test)"
      ]
    },
    {
      "cell_type": "markdown",
      "metadata": {
        "id": "eL085awBiHt9"
      },
      "source": [
        "### Punto 4 - Multiples técnicas\n",
        "\n",
        "En la celda 4 creen un modelo de random forest con la libreria sklearn que prediga el sentimiento de los tweets usando los set de entrenamiento y test definidos anteriormente. Usen la función **CountVectorizer, eliminen stopwords, lematizen el texto con verbos** y presenten el desempeño del modelo con la métrica del acurracy.\n",
        "\n",
        "Recuerden que el preprocesamiento que se haga sobre los datos de entrenamiento  (*.fit_transform()*) deben ser aplicado al set de test (*.transform()*)."
      ]
    },
    {
      "cell_type": "code",
      "execution_count": 14,
      "metadata": {
        "id": "ppxREpORiHt9",
        "colab": {
          "base_uri": "https://localhost:8080/"
        },
        "outputId": "2cfbf17c-1ae0-4f9e-b630-a54e00f806c0"
      },
      "outputs": [
        {
          "output_type": "execute_result",
          "data": {
            "text/plain": [
              "0.7419288079470199"
            ]
          },
          "metadata": {},
          "execution_count": 14
        }
      ],
      "source": [
        "# Celda 4\n",
        "vec = CountVectorizer(tokenizer=lematizador(), stop_words=\"english\")\n",
        "rfc = RandomForestClassifier()\n",
        "X_train_vec = vec.fit_transform(X_train)\n",
        "rfc.fit(X_train_vec, y_train)\n",
        "test = rfc.predict(vec.transform(X_test))\n",
        "accuracy_score(y_test, test)"
      ]
    },
    {
      "cell_type": "markdown",
      "metadata": {
        "id": "5Q8YQNl7iHt-"
      },
      "source": [
        "### Punto 5 - Comparación y análisis de resultados\n",
        "\n",
        "En la celda 5 comparen los resultados obtenidos de los diferentes modelos (random forest) y comenten las ventajas del mejor modelo y las desventajas del modelo con el menor desempeño."
      ]
    },
    {
      "cell_type": "code",
      "execution_count": null,
      "metadata": {
        "id": "LT15Tpr6iHt-"
      },
      "outputs": [],
      "source": [
        "# Celda 5\n",
        "#Considerando los diferentes escenarios, se puede evidenciar que el comportamiento de el Punto 1 es mejor al comportamiento de los demás escenarios, esto es poco común\n"
      ]
    }
  ],
  "metadata": {
    "kernelspec": {
      "display_name": "Python 3",
      "language": "python",
      "name": "python3"
    },
    "language_info": {
      "codemirror_mode": {
        "name": "ipython",
        "version": 3
      },
      "file_extension": ".py",
      "mimetype": "text/x-python",
      "name": "python",
      "nbconvert_exporter": "python",
      "pygments_lexer": "ipython3",
      "version": "3.7.3"
    },
    "colab": {
      "name": "Copy of S5TC1_Analisis_Sentimientos.ipynb",
      "provenance": []
    }
  },
  "nbformat": 4,
  "nbformat_minor": 0
}