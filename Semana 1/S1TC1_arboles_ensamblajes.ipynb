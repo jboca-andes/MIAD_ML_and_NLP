{
  "cells": [
    {
      "cell_type": "markdown",
      "metadata": {
        "id": "clvy4Prcxi21"
      },
      "source": [
        "![image info](https://raw.githubusercontent.com/albahnsen/MIAD_ML_and_NLP/main/images/banner_1.png)"
      ]
    },
    {
      "cell_type": "markdown",
      "metadata": {
        "id": "6KsyDtE0xi26"
      },
      "source": [
        "# Taller: Construcción e implementación de árboles de decisión y métodos de ensamblaje\n",
        "\n",
        "En este taller podrá poner en práctica los sus conocimientos sobre construcción e implementación de árboles de decisión y métodos de ensamblajes. El taller está constituido por 9 puntos, 5 relacionados con árboles de decisión (parte A) y 4 con métodos de ensamblaje (parte B)."
      ]
    },
    {
      "cell_type": "markdown",
      "metadata": {
        "id": "aAEpxOaqxi28"
      },
      "source": [
        "## Parte A - Árboles de decisión\n",
        "\n",
        "En esta parte del taller se usará el conjunto de datos de Capital Bikeshare de Kaggle, donde cada observación representa el alquiler de una bicicleta durante una hora y día determinado. Para más detalles puede visitar los siguientes enlaces: [datos](https://github.com/justmarkham/DAT8/blob/master/data/bikeshare.csv), [dicccionario de datos](https://www.kaggle.com/c/bike-sharing-demand/data)."
      ]
    },
    {
      "cell_type": "markdown",
      "metadata": {
        "id": "HDilcFI5xi29"
      },
      "source": [
        "### Datos prestamo de bicicletas"
      ]
    },
    {
      "cell_type": "code",
      "execution_count": 1,
      "metadata": {
        "id": "IArqTN_Exi2_"
      },
      "outputs": [],
      "source": [
        "import warnings\n",
        "warnings.filterwarnings('ignore')"
      ]
    },
    {
      "cell_type": "code",
      "execution_count": 2,
      "metadata": {
        "id": "JC23N3Apxi3C"
      },
      "outputs": [],
      "source": [
        "# Importación de librerías\n",
        "%matplotlib inline\n",
        "import pandas as pd\n",
        "import numpy as np\n",
        "from sklearn.model_selection import cross_val_score\n",
        "from sklearn.linear_model import LinearRegression\n",
        "from sklearn.tree import DecisionTreeRegressor, export_graphviz\n",
        "import matplotlib.pyplot as plt"
      ]
    },
    {
      "cell_type": "code",
      "execution_count": 3,
      "metadata": {
        "colab": {
          "base_uri": "https://localhost:8080/",
          "height": 237
        },
        "id": "G8O-OJwIxi3D",
        "outputId": "d00d7c6c-b8af-493c-edef-bd61b0e4769c"
      },
      "outputs": [
        {
          "output_type": "execute_result",
          "data": {
            "text/plain": [
              "                     season  holiday  workingday  weather  temp   atemp  \\\n",
              "datetime                                                                  \n",
              "2011-01-01 00:00:00       1        0           0        1  9.84  14.395   \n",
              "2011-01-01 01:00:00       1        0           0        1  9.02  13.635   \n",
              "2011-01-01 02:00:00       1        0           0        1  9.02  13.635   \n",
              "2011-01-01 03:00:00       1        0           0        1  9.84  14.395   \n",
              "2011-01-01 04:00:00       1        0           0        1  9.84  14.395   \n",
              "\n",
              "                     humidity  windspeed  casual  registered  total  hour  \n",
              "datetime                                                                   \n",
              "2011-01-01 00:00:00        81        0.0       3          13     16     0  \n",
              "2011-01-01 01:00:00        80        0.0       8          32     40     1  \n",
              "2011-01-01 02:00:00        80        0.0       5          27     32     2  \n",
              "2011-01-01 03:00:00        75        0.0       3          10     13     3  \n",
              "2011-01-01 04:00:00        75        0.0       0           1      1     4  "
            ],
            "text/html": [
              "\n",
              "  <div id=\"df-99e67b33-0264-4253-a012-fb2062458d0b\">\n",
              "    <div class=\"colab-df-container\">\n",
              "      <div>\n",
              "<style scoped>\n",
              "    .dataframe tbody tr th:only-of-type {\n",
              "        vertical-align: middle;\n",
              "    }\n",
              "\n",
              "    .dataframe tbody tr th {\n",
              "        vertical-align: top;\n",
              "    }\n",
              "\n",
              "    .dataframe thead th {\n",
              "        text-align: right;\n",
              "    }\n",
              "</style>\n",
              "<table border=\"1\" class=\"dataframe\">\n",
              "  <thead>\n",
              "    <tr style=\"text-align: right;\">\n",
              "      <th></th>\n",
              "      <th>season</th>\n",
              "      <th>holiday</th>\n",
              "      <th>workingday</th>\n",
              "      <th>weather</th>\n",
              "      <th>temp</th>\n",
              "      <th>atemp</th>\n",
              "      <th>humidity</th>\n",
              "      <th>windspeed</th>\n",
              "      <th>casual</th>\n",
              "      <th>registered</th>\n",
              "      <th>total</th>\n",
              "      <th>hour</th>\n",
              "    </tr>\n",
              "    <tr>\n",
              "      <th>datetime</th>\n",
              "      <th></th>\n",
              "      <th></th>\n",
              "      <th></th>\n",
              "      <th></th>\n",
              "      <th></th>\n",
              "      <th></th>\n",
              "      <th></th>\n",
              "      <th></th>\n",
              "      <th></th>\n",
              "      <th></th>\n",
              "      <th></th>\n",
              "      <th></th>\n",
              "    </tr>\n",
              "  </thead>\n",
              "  <tbody>\n",
              "    <tr>\n",
              "      <th>2011-01-01 00:00:00</th>\n",
              "      <td>1</td>\n",
              "      <td>0</td>\n",
              "      <td>0</td>\n",
              "      <td>1</td>\n",
              "      <td>9.84</td>\n",
              "      <td>14.395</td>\n",
              "      <td>81</td>\n",
              "      <td>0.0</td>\n",
              "      <td>3</td>\n",
              "      <td>13</td>\n",
              "      <td>16</td>\n",
              "      <td>0</td>\n",
              "    </tr>\n",
              "    <tr>\n",
              "      <th>2011-01-01 01:00:00</th>\n",
              "      <td>1</td>\n",
              "      <td>0</td>\n",
              "      <td>0</td>\n",
              "      <td>1</td>\n",
              "      <td>9.02</td>\n",
              "      <td>13.635</td>\n",
              "      <td>80</td>\n",
              "      <td>0.0</td>\n",
              "      <td>8</td>\n",
              "      <td>32</td>\n",
              "      <td>40</td>\n",
              "      <td>1</td>\n",
              "    </tr>\n",
              "    <tr>\n",
              "      <th>2011-01-01 02:00:00</th>\n",
              "      <td>1</td>\n",
              "      <td>0</td>\n",
              "      <td>0</td>\n",
              "      <td>1</td>\n",
              "      <td>9.02</td>\n",
              "      <td>13.635</td>\n",
              "      <td>80</td>\n",
              "      <td>0.0</td>\n",
              "      <td>5</td>\n",
              "      <td>27</td>\n",
              "      <td>32</td>\n",
              "      <td>2</td>\n",
              "    </tr>\n",
              "    <tr>\n",
              "      <th>2011-01-01 03:00:00</th>\n",
              "      <td>1</td>\n",
              "      <td>0</td>\n",
              "      <td>0</td>\n",
              "      <td>1</td>\n",
              "      <td>9.84</td>\n",
              "      <td>14.395</td>\n",
              "      <td>75</td>\n",
              "      <td>0.0</td>\n",
              "      <td>3</td>\n",
              "      <td>10</td>\n",
              "      <td>13</td>\n",
              "      <td>3</td>\n",
              "    </tr>\n",
              "    <tr>\n",
              "      <th>2011-01-01 04:00:00</th>\n",
              "      <td>1</td>\n",
              "      <td>0</td>\n",
              "      <td>0</td>\n",
              "      <td>1</td>\n",
              "      <td>9.84</td>\n",
              "      <td>14.395</td>\n",
              "      <td>75</td>\n",
              "      <td>0.0</td>\n",
              "      <td>0</td>\n",
              "      <td>1</td>\n",
              "      <td>1</td>\n",
              "      <td>4</td>\n",
              "    </tr>\n",
              "  </tbody>\n",
              "</table>\n",
              "</div>\n",
              "      <button class=\"colab-df-convert\" onclick=\"convertToInteractive('df-99e67b33-0264-4253-a012-fb2062458d0b')\"\n",
              "              title=\"Convert this dataframe to an interactive table.\"\n",
              "              style=\"display:none;\">\n",
              "        \n",
              "  <svg xmlns=\"http://www.w3.org/2000/svg\" height=\"24px\"viewBox=\"0 0 24 24\"\n",
              "       width=\"24px\">\n",
              "    <path d=\"M0 0h24v24H0V0z\" fill=\"none\"/>\n",
              "    <path d=\"M18.56 5.44l.94 2.06.94-2.06 2.06-.94-2.06-.94-.94-2.06-.94 2.06-2.06.94zm-11 1L8.5 8.5l.94-2.06 2.06-.94-2.06-.94L8.5 2.5l-.94 2.06-2.06.94zm10 10l.94 2.06.94-2.06 2.06-.94-2.06-.94-.94-2.06-.94 2.06-2.06.94z\"/><path d=\"M17.41 7.96l-1.37-1.37c-.4-.4-.92-.59-1.43-.59-.52 0-1.04.2-1.43.59L10.3 9.45l-7.72 7.72c-.78.78-.78 2.05 0 2.83L4 21.41c.39.39.9.59 1.41.59.51 0 1.02-.2 1.41-.59l7.78-7.78 2.81-2.81c.8-.78.8-2.07 0-2.86zM5.41 20L4 18.59l7.72-7.72 1.47 1.35L5.41 20z\"/>\n",
              "  </svg>\n",
              "      </button>\n",
              "      \n",
              "  <style>\n",
              "    .colab-df-container {\n",
              "      display:flex;\n",
              "      flex-wrap:wrap;\n",
              "      gap: 12px;\n",
              "    }\n",
              "\n",
              "    .colab-df-convert {\n",
              "      background-color: #E8F0FE;\n",
              "      border: none;\n",
              "      border-radius: 50%;\n",
              "      cursor: pointer;\n",
              "      display: none;\n",
              "      fill: #1967D2;\n",
              "      height: 32px;\n",
              "      padding: 0 0 0 0;\n",
              "      width: 32px;\n",
              "    }\n",
              "\n",
              "    .colab-df-convert:hover {\n",
              "      background-color: #E2EBFA;\n",
              "      box-shadow: 0px 1px 2px rgba(60, 64, 67, 0.3), 0px 1px 3px 1px rgba(60, 64, 67, 0.15);\n",
              "      fill: #174EA6;\n",
              "    }\n",
              "\n",
              "    [theme=dark] .colab-df-convert {\n",
              "      background-color: #3B4455;\n",
              "      fill: #D2E3FC;\n",
              "    }\n",
              "\n",
              "    [theme=dark] .colab-df-convert:hover {\n",
              "      background-color: #434B5C;\n",
              "      box-shadow: 0px 1px 3px 1px rgba(0, 0, 0, 0.15);\n",
              "      filter: drop-shadow(0px 1px 2px rgba(0, 0, 0, 0.3));\n",
              "      fill: #FFFFFF;\n",
              "    }\n",
              "  </style>\n",
              "\n",
              "      <script>\n",
              "        const buttonEl =\n",
              "          document.querySelector('#df-99e67b33-0264-4253-a012-fb2062458d0b button.colab-df-convert');\n",
              "        buttonEl.style.display =\n",
              "          google.colab.kernel.accessAllowed ? 'block' : 'none';\n",
              "\n",
              "        async function convertToInteractive(key) {\n",
              "          const element = document.querySelector('#df-99e67b33-0264-4253-a012-fb2062458d0b');\n",
              "          const dataTable =\n",
              "            await google.colab.kernel.invokeFunction('convertToInteractive',\n",
              "                                                     [key], {});\n",
              "          if (!dataTable) return;\n",
              "\n",
              "          const docLinkHtml = 'Like what you see? Visit the ' +\n",
              "            '<a target=\"_blank\" href=https://colab.research.google.com/notebooks/data_table.ipynb>data table notebook</a>'\n",
              "            + ' to learn more about interactive tables.';\n",
              "          element.innerHTML = '';\n",
              "          dataTable['output_type'] = 'display_data';\n",
              "          await google.colab.output.renderOutput(dataTable, element);\n",
              "          const docLink = document.createElement('div');\n",
              "          docLink.innerHTML = docLinkHtml;\n",
              "          element.appendChild(docLink);\n",
              "        }\n",
              "      </script>\n",
              "    </div>\n",
              "  </div>\n",
              "  "
            ]
          },
          "metadata": {},
          "execution_count": 3
        }
      ],
      "source": [
        "# Lectura de la información de archivo .csv\n",
        "bikes = pd.read_csv('https://raw.githubusercontent.com/albahnsen/MIAD_ML_and_NLP/main/datasets/bikeshare.csv', index_col='datetime', parse_dates=True)\n",
        "# Renombrar variable \"count\" a \"total\"\n",
        "bikes.rename(columns={'count':'total'}, inplace=True)\n",
        "# Crear la hora como una variable \n",
        "bikes['hour'] = bikes.index.hour\n",
        "# Visualización\n",
        "bikes.head()"
      ]
    },
    {
      "cell_type": "markdown",
      "metadata": {
        "id": "BNeWtkO8xi3F"
      },
      "source": [
        "### Punto 1 - Análisis descriptivo\n",
        "\n",
        "Ejecute las celdas 1.1 y 1.2. A partir de los resultados realice un análisis descriptivo sobre las variables hour y workingday, escriba sus inferencias sobre los datos. Para complementar su análisis puede usar métricas como máximo, mínimo, percentiles entre otros."
      ]
    },
    {
      "cell_type": "code",
      "execution_count": 14,
      "metadata": {
        "colab": {
          "base_uri": "https://localhost:8080/"
        },
        "id": "whlAofZnxi3G",
        "outputId": "c7eca76b-036b-41ca-83ed-1bef0f978153"
      },
      "outputs": [
        {
          "output_type": "execute_result",
          "data": {
            "text/plain": [
              "workingday\n",
              "0    188.506621\n",
              "1    193.011873\n",
              "Name: total, dtype: float64"
            ]
          },
          "metadata": {},
          "execution_count": 14
        }
      ],
      "source": [
        "# Celda 1.1\n",
        "bikes.groupby('workingday').total.mean()"
      ]
    },
    {
      "cell_type": "markdown",
      "source": [
        "## Análisis\n",
        "\n",
        "En general, se identifica que hay una mayor cantidad de alquileres en promedio en los dias laborales vs los dias no laborales, sin embargo, aun es necesario descartar aquellos dias considerados laborales (Lunes a Viernes) que son feriados."
      ],
      "metadata": {
        "id": "VcUbj2PcDACN"
      }
    },
    {
      "cell_type": "code",
      "execution_count": 5,
      "metadata": {
        "scrolled": true,
        "colab": {
          "base_uri": "https://localhost:8080/"
        },
        "id": "Elgu1fHPxi3H",
        "outputId": "017d80c6-ea2d-4ba9-bbcf-b224649bbc71"
      },
      "outputs": [
        {
          "output_type": "execute_result",
          "data": {
            "text/plain": [
              "hour\n",
              "0      55.138462\n",
              "1      33.859031\n",
              "2      22.899554\n",
              "3      11.757506\n",
              "4       6.407240\n",
              "5      19.767699\n",
              "6      76.259341\n",
              "7     213.116484\n",
              "8     362.769231\n",
              "9     221.780220\n",
              "10    175.092308\n",
              "11    210.674725\n",
              "12    256.508772\n",
              "13    257.787281\n",
              "14    243.442982\n",
              "15    254.298246\n",
              "16    316.372807\n",
              "17    468.765351\n",
              "18    430.859649\n",
              "19    315.278509\n",
              "20    228.517544\n",
              "21    173.370614\n",
              "22    133.576754\n",
              "23     89.508772\n",
              "Name: total, dtype: float64"
            ]
          },
          "metadata": {},
          "execution_count": 5
        }
      ],
      "source": [
        "# Celda 1.2\n",
        "bikes.groupby('hour').total.mean()"
      ]
    },
    {
      "cell_type": "markdown",
      "source": [
        "## Análisis\n",
        "\n",
        "Se idenfica que las horas de mayor demanda coinciden con las horas de entrada y salida tradicionales de los trabajos [7AM-9AM], [12-1PM], [5-6PM], esto considerando que posiblemente las personas que se desplazan desde o hacia sus lugares de trabajo, tambien estén utilizando el servicio de alquiler de bicicletas."
      ],
      "metadata": {
        "id": "GBOOAZAIDxSl"
      }
    },
    {
      "cell_type": "code",
      "source": [
        "#Análisis del comportamiento por hora en dias NO laborales\n",
        "bikes[bikes['workingday']==0].groupby('hour').total.mean().plot.bar()"
      ],
      "metadata": {
        "colab": {
          "base_uri": "https://localhost:8080/",
          "height": 300
        },
        "id": "TXEYObyPCLgv",
        "outputId": "33ccd0cc-9b24-4608-a2ae-e10e23d4eb06"
      },
      "execution_count": 17,
      "outputs": [
        {
          "output_type": "execute_result",
          "data": {
            "text/plain": [
              "<matplotlib.axes._subplots.AxesSubplot at 0x7f8f826a27d0>"
            ]
          },
          "metadata": {},
          "execution_count": 17
        },
        {
          "output_type": "display_data",
          "data": {
            "text/plain": [
              "<Figure size 432x288 with 1 Axes>"
            ],
            "image/png": "[encoded data removed]"
          },
          "metadata": {
            "needs_background": "light"
          }
        }
      ]
    },
    {
      "cell_type": "markdown",
      "metadata": {
        "id": "tNN-00knxi3I"
      },
      "source": [
        "### Punto 2 - Análisis de gráficos\n",
        "\n",
        "Primero ejecute la celda 2.1 y asegúrese de comprender el código y el resultado. Luego, en cada una de celdas 2.2 y 2.3 escriba un código que genere una gráfica de las rentas promedio por hora cuando la variable \"workingday\" es igual a 0 e igual a 1, respectivamente. Analice y escriba sus hallazgos."
      ]
    },
    {
      "cell_type": "code",
      "execution_count": 18,
      "metadata": {
        "colab": {
          "base_uri": "https://localhost:8080/",
          "height": 297
        },
        "id": "1ab-kRwNxi3J",
        "outputId": "d8cad965-02cc-4b7c-fdb8-6d1aca71d4e4"
      },
      "outputs": [
        {
          "output_type": "execute_result",
          "data": {
            "text/plain": [
              "<matplotlib.axes._subplots.AxesSubplot at 0x7f8f825b1950>"
            ]
          },
          "metadata": {},
          "execution_count": 18
        },
        {
          "output_type": "display_data",
          "data": {
            "text/plain": [
              "<Figure size 432x288 with 1 Axes>"
            ],
            "image/png": "[encoded data removed]"
          },
          "metadata": {
            "needs_background": "light"
          }
        }
      ],
      "source": [
        "# Celda 2.1 - rentas promedio para cada valor de la variable \"hour\"\n",
        "bikes.groupby('hour').total.mean().plot()"
      ]
    },
    {
      "cell_type": "markdown",
      "source": [
        "## Análisis\n",
        "\n",
        "Debido a que 5 de cada 7 días son considerados como laborables, la distribución general de estos datos es muy similar a la distribución o el comportamiento encontrado en la grafica de la celda 2.3, en donde se analizan exclusivamente estos dias."
      ],
      "metadata": {
        "id": "yjwddY6wEtGW"
      }
    },
    {
      "cell_type": "code",
      "execution_count": 24,
      "metadata": {
        "colab": {
          "base_uri": "https://localhost:8080/",
          "height": 300
        },
        "id": "tGmPbj9Kxi3K",
        "outputId": "4153abaf-2535-464b-9e4c-9b68f3b9a1de"
      },
      "outputs": [
        {
          "output_type": "execute_result",
          "data": {
            "text/plain": [
              "<matplotlib.axes._subplots.AxesSubplot at 0x7f8f827f3f10>"
            ]
          },
          "metadata": {},
          "execution_count": 24
        },
        {
          "output_type": "display_data",
          "data": {
            "text/plain": [
              "<Figure size 432x288 with 1 Axes>"
            ],
            "image/png": "[encoded data removed]"
          },
          "metadata": {
            "needs_background": "light"
          }
        }
      ],
      "source": [
        "# Celda 2.2 - \"workingday\"=0 escriba su código y hallazgos \n",
        "\n",
        "bikes[bikes['workingday']==0].groupby('hour').total.mean().plot.bar()"
      ]
    },
    {
      "cell_type": "markdown",
      "source": [
        "## Análisis\n",
        "\n",
        "En los días NO laborales se logra visualizar un comportamiento mas estable durante todo el día, concentrando la mayor parte de la demanda entre las 10 de la mañana y las 7 de la noche."
      ],
      "metadata": {
        "id": "i7sh5N6NFAYh"
      }
    },
    {
      "cell_type": "code",
      "execution_count": 21,
      "metadata": {
        "colab": {
          "base_uri": "https://localhost:8080/",
          "height": 297
        },
        "id": "bmCVjvWQxi3L",
        "outputId": "dab896bf-eb97-4526-d377-4d626ff7437b"
      },
      "outputs": [
        {
          "output_type": "execute_result",
          "data": {
            "text/plain": [
              "<matplotlib.axes._subplots.AxesSubplot at 0x7f8f82364c10>"
            ]
          },
          "metadata": {},
          "execution_count": 21
        },
        {
          "output_type": "display_data",
          "data": {
            "text/plain": [
              "<Figure size 432x288 with 1 Axes>"
            ],
            "image/png": "[encoded data removed]"
          },
          "metadata": {
            "needs_background": "light"
          }
        }
      ],
      "source": [
        "# Celda 2.3 - \"workingday\"=1 escriba su código y hallazgos \n",
        "\n",
        "bikes[bikes['workingday']==1].groupby('hour').total.mean().plot()"
      ]
    },
    {
      "cell_type": "markdown",
      "source": [
        "## Análisis\n",
        "\n",
        "Al tener un comportamiento muy similar al encontrado en lso datos generalizados, es posible determinar que la demanda en los dias laborales se concentra principalmente en los horarios de desplazamiento desde y hacia los sitios de trabajo, esto a partir de los horarios de los alquileres."
      ],
      "metadata": {
        "id": "ENF68mooFjIm"
      }
    },
    {
      "cell_type": "markdown",
      "metadata": {
        "id": "Rjh8CuOpxi3L"
      },
      "source": [
        "### Punto 3 - Regresión lineal\n",
        "En la celda 3 ajuste un modelo de regresión lineal a todo el conjunto de datos, utilizando \"total\" como variable de respuesta y \"hour\" y \"workingday\" como las únicas variables predictoras. Luego, imprima los coeficientes e interprételos. ¿Cuáles son las limitaciones de la regresión lineal en este caso?"
      ]
    },
    {
      "cell_type": "code",
      "execution_count": 35,
      "metadata": {
        "colab": {
          "base_uri": "https://localhost:8080/"
        },
        "id": "BqRjd6poxi3N",
        "outputId": "4a8ab783-1efa-49e9-954b-6974249e94a9"
      },
      "outputs": [
        {
          "output_type": "execute_result",
          "data": {
            "text/plain": [
              "array([[10.49206282,  4.07248627]])"
            ]
          },
          "metadata": {},
          "execution_count": 35
        }
      ],
      "source": [
        "# Celda 3\n",
        "X = bikes[['hour', 'workingday']]\n",
        "Y = bikes[['total']]\n",
        "regresion = LinearRegression()  \n",
        "regresion.fit(X, Y) \n",
        "regresion.coef_"
      ]
    },
    {
      "cell_type": "markdown",
      "metadata": {
        "id": "1XJ14BBBxi3O"
      },
      "source": [
        "### Punto 4 - Árbol de decisión manual\n",
        "En la celda 4 cree un árbol de decisiones para pronosticar la variable \"total\" iterando **manualmente** sobre las variables \"hour\" y  \"workingday\". El árbol debe tener al menos 6 nodos finales."
      ]
    },
    {
      "cell_type": "code",
      "source": [
        "# Definición de la función que calcula el gini index\n",
        "def gini(y):\n",
        "    if y.shape[0] == 0:\n",
        "        return 0\n",
        "    else:\n",
        "        return 1 - (y.mean()**2 + (1 - y.mean())**2)\n",
        "\n",
        "# Definición de la función gini_imputiry para calular la ganancia de una variable predictora j dado el punto de corte k\n",
        "def gini_impurity(X_col, y, split):\n",
        "    \n",
        "    filter_l = X_col < split\n",
        "    y_l = y.loc[filter_l]\n",
        "    y_r = y.loc[~filter_l]\n",
        "    \n",
        "    n_l = y_l.shape[0]\n",
        "    n_r = y_r.shape[0]\n",
        "    \n",
        "    gini_y = gini(y)\n",
        "    gini_l = gini(y_l)\n",
        "    gini_r = gini(y_r)\n",
        "    \n",
        "    gini_impurity_ = gini_y - (n_l / (n_l + n_r) * gini_l + n_r / (n_l + n_r) * gini_r)\n",
        "    \n",
        "    return gini_impurity_\n",
        "\n",
        "\n",
        "# Definición de la función best_split para calcular cuál es la mejor variable y punto de cortepara hacer la bifurcación del árbol\n",
        "def best_split(X, y, num_pct=10):\n",
        "    \n",
        "    features = range(X.shape[1])\n",
        "    \n",
        "    bs = [0, 0, 0]  # j, split, gain\n",
        "    \n",
        "    # Para todas las varibles \n",
        "    for j in features:\n",
        "        \n",
        "        splits = np.percentile(X.iloc[:, j], np.arange(0, 100, 100.0 / (num_pct+1)).tolist())\n",
        "        splits = np.unique(splits)[1:]\n",
        "        \n",
        "        # Para cada partición\n",
        "        for split in splits:\n",
        "          try:\n",
        "            gain = gini_impurity(X.iloc[:, j], y, split)\n",
        "            if gain > bs[2]:\n",
        "              bs = [j, split, gain]\n",
        "          except:\n",
        "            print(f'falla:{gain}')\n",
        "    \n",
        "    return bs\n",
        "\n",
        "  # Definición de la función tree_grow para hacer un crecimiento recursivo del árbol\n",
        "def tree_grow(X, y, level=0, min_gain=0.001, max_depth=None, num_pct=10):\n",
        "    \n",
        "    # Si solo es una observación\n",
        "    if X.shape[0] == 1:\n",
        "        tree = dict(y_pred=y.iloc[:1].values[0], y_prob=0.5, level=level, split=-1, n_samples=1, gain=0)\n",
        "        return tree\n",
        "    \n",
        "    # Calcular la mejor división\n",
        "    j, split, gain = best_split(X, y, num_pct)\n",
        "    \n",
        "    # Guardar el árbol y estimar la predicción\n",
        "    y_pred = int(y.mean() >= 0.5) \n",
        "    y_prob = (y.sum() + 1.0) / (y.shape[0] + 2.0)  # Corrección Laplace \n",
        "    \n",
        "    tree = dict(y_pred=y_pred, y_prob=y_prob, level=level, split=-1, n_samples=X.shape[0], gain=gain)\n",
        "    # Revisar el criterio de parada \n",
        "    if gain < min_gain:\n",
        "        return tree\n",
        "    if max_depth is not None:\n",
        "        if level >= max_depth:\n",
        "            return tree   \n",
        "    \n",
        "    # Continuar creando la partición\n",
        "    filter_l = X.iloc[:, j] < split\n",
        "    X_l, y_l = X.loc[filter_l], y.loc[filter_l]\n",
        "    X_r, y_r = X.loc[~filter_l], y.loc[~filter_l]\n",
        "    tree['split'] = [j, split]\n",
        "\n",
        "    # Siguiente iteración para cada partición\n",
        "    \n",
        "    tree['sl'] = tree_grow(X_l, y_l, level + 1, min_gain=min_gain, max_depth=max_depth, num_pct=num_pct)\n",
        "    tree['sr'] = tree_grow(X_r, y_r, level + 1, min_gain=min_gain, max_depth=max_depth, num_pct=num_pct)\n",
        "    \n",
        "    return tree\n",
        "\n",
        "def tree_predict(X, tree, proba=False):\n",
        "    \n",
        "    predicted = np.ones(X.shape[0])\n",
        "\n",
        "    # Revisar si es el nodo final\n",
        "    if tree['split'] == -1:\n",
        "        if not proba:\n",
        "            predicted = predicted * tree['y_pred']\n",
        "        else:\n",
        "            predicted = predicted * tree['y_prob']\n",
        "            \n",
        "    else:\n",
        "        \n",
        "        j, split = tree['split']\n",
        "        filter_l = (X.iloc[:, j] < split)\n",
        "        X_l = X.loc[filter_l]\n",
        "        X_r = X.loc[~filter_l]\n",
        "\n",
        "        if X_l.shape[0] == 0:  # Si el nodo izquierdo está vacio solo continua con el derecho \n",
        "            predicted[~filter_l] = tree_predict(X_r, tree['sr'], proba)\n",
        "        elif X_r.shape[0] == 0:  #  Si el nodo derecho está vacio solo continua con el izquierdo\n",
        "            predicted[filter_l] = tree_predict(X_l, tree['sl'], proba)\n",
        "        else:\n",
        "            predicted[filter_l] = tree_predict(X_l, tree['sl'], proba)\n",
        "            predicted[~filter_l] = tree_predict(X_r, tree['sr'], proba)\n",
        "\n",
        "    return predicted\n",
        "\n",
        "\n",
        "def fnMSE(real, estimado):\n",
        "  n = len(real)\n",
        "  r = real - estimado \n",
        "  r = r ** 2\n",
        "  r = np.sum(r) \n",
        "  return r / n"
      ],
      "metadata": {
        "id": "91XscSPV9ymb"
      },
      "execution_count": 116,
      "outputs": []
    },
    {
      "cell_type": "code",
      "source": [
        "class NodeRegression():\n",
        "    \"\"\"\n",
        "    Clase para estimar un arbol de forma iterativa\n",
        "    \"\"\"\n",
        "    def __init__(\n",
        "        self, \n",
        "        Y: list,\n",
        "        X: pd.DataFrame,\n",
        "        min_samples_split=None,\n",
        "        max_depth=None,\n",
        "        depth=None,\n",
        "        node_type=None,\n",
        "        rule=None\n",
        "    ):\n",
        "        # Saving the data to the node \n",
        "        self.Y = Y \n",
        "        self.X = X\n",
        "\n",
        "        # Saving the hyper parameters\n",
        "        self.min_samples_split = min_samples_split if min_samples_split else 20\n",
        "        self.max_depth = max_depth if max_depth else 5\n",
        "\n",
        "        # Default current depth of node \n",
        "        self.depth = depth if depth else 0\n",
        "\n",
        "        # Extracting all the features\n",
        "        self.features = list(self.X.columns)\n",
        "\n",
        "        # Type of node \n",
        "        self.node_type = node_type if node_type else 'root'\n",
        "\n",
        "        # Rule for spliting \n",
        "        self.rule = rule if rule else \"\"\n",
        "\n",
        "        # Getting the mean of Y \n",
        "        self.ymean = np.mean(Y)\n",
        "\n",
        "        # Getting the residuals \n",
        "        self.residuals = self.Y - self.ymean\n",
        "\n",
        "        # Calculating the mse of the node \n",
        "        self.mse = self.get_mse(Y, self.ymean)\n",
        "\n",
        "        # Saving the number of observations in the node \n",
        "        self.n = len(Y)\n",
        "\n",
        "        # Initiating the left and right nodes as empty nodes\n",
        "        self.left = None \n",
        "        self.right = None \n",
        "\n",
        "        # Default values for splits\n",
        "        self.best_feature = None \n",
        "        self.best_value = None \n",
        "\n",
        "    @staticmethod\n",
        "    def get_mse(ytrue, yhat) -> float:\n",
        "        \"\"\"\n",
        "        Calcular MSE \n",
        "        \"\"\"\n",
        "        # Getting the total number of samples\n",
        "        n = len(ytrue)\n",
        "\n",
        "        # Getting the residuals \n",
        "        r = ytrue - yhat \n",
        "\n",
        "        # Squering the residuals \n",
        "        r = r ** 2\n",
        "\n",
        "        # Suming \n",
        "        r = np.sum(r)\n",
        "\n",
        "        # Getting the average and returning \n",
        "        return r / n\n",
        "\n",
        "    @staticmethod\n",
        "    def ma(x: np.array, window: int) -> np.array:\n",
        "        \"\"\"\n",
        "        Calcula la media movil \n",
        "        \"\"\"\n",
        "        return np.convolve(x, np.ones(window), 'valid') / window\n",
        "\n",
        "    def best_split(self) -> tuple:\n",
        "        \"\"\"\n",
        "        Dadas las predictoras y la variable a predecir, se estima la mejor forma de partir los valores.\n",
        "        \"\"\"\n",
        "        # Creating a dataset for spliting\n",
        "        df = self.X.copy()\n",
        "        df['Y'] = self.Y\n",
        "\n",
        "        # Getting the GINI impurity for the base input \n",
        "        mse_base = self.mse\n",
        "\n",
        "        # Finding which split yields the best GINI gain \n",
        "        #max_gain = 0\n",
        "\n",
        "        # Default best feature and split\n",
        "        best_feature = None\n",
        "        best_value = None\n",
        "\n",
        "        for feature in self.features:\n",
        "            # Droping missing values\n",
        "            Xdf = df.dropna().sort_values(feature)\n",
        "\n",
        "            # Sorting the values and getting the rolling average\n",
        "            xmeans = self.ma(Xdf[feature].unique(), 2)\n",
        "\n",
        "            for value in xmeans:\n",
        "                # Getting the left and right ys \n",
        "                left_y = Xdf[Xdf[feature]<value]['Y'].values\n",
        "                right_y = Xdf[Xdf[feature]>=value]['Y'].values\n",
        "\n",
        "                # Getting the means \n",
        "                left_mean = np.mean(left_y)\n",
        "                right_mean = np.mean(right_y)\n",
        "\n",
        "                # Getting the left and right residuals \n",
        "                res_left = left_y - left_mean \n",
        "                res_right = right_y - right_mean\n",
        "\n",
        "                # Concatenating the residuals \n",
        "                r = np.concatenate((res_left, res_right), axis=None)\n",
        "\n",
        "                # Calculating the mse \n",
        "                n = len(r)\n",
        "                r = r ** 2\n",
        "                r = np.sum(r)\n",
        "                mse_split = r / n\n",
        "\n",
        "                # Checking if this is the best split so far \n",
        "                if mse_split < mse_base:\n",
        "                    best_feature = feature\n",
        "                    best_value = value \n",
        "\n",
        "                    # Setting the best gain to the current one \n",
        "                    mse_base = mse_split\n",
        "\n",
        "        return (best_feature, best_value)\n",
        "\n",
        "    def grow_tree(self):\n",
        "        \"\"\"\n",
        "        Recursive method to create the decision tree\n",
        "        \"\"\"\n",
        "        # Making a df from the data \n",
        "        df = self.X.copy()\n",
        "        df['Y'] = self.Y\n",
        "\n",
        "        # If there is GINI to be gained, we split further \n",
        "        if (self.depth < self.max_depth) and (self.n >= self.min_samples_split):\n",
        "\n",
        "            # Getting the best split \n",
        "            best_feature, best_value = self.best_split()\n",
        "\n",
        "            if best_feature is not None:\n",
        "                # Saving the best split to the current node \n",
        "                self.best_feature = best_feature\n",
        "                self.best_value = best_value\n",
        "\n",
        "                # Getting the left and right nodes\n",
        "                left_df, right_df = df[df[best_feature]<=best_value].copy(), df[df[best_feature]>best_value].copy()\n",
        "\n",
        "                # Creating the left and right nodes\n",
        "                left = NodeRegression(\n",
        "                    left_df['Y'].values.tolist(), \n",
        "                    left_df[self.features], \n",
        "                    depth=self.depth + 1, \n",
        "                    max_depth=self.max_depth, \n",
        "                    min_samples_split=self.min_samples_split, \n",
        "                    node_type='left_node',\n",
        "                    rule=f\"{best_feature} <= {round(best_value, 3)}\"\n",
        "                    )\n",
        "\n",
        "                self.left = left \n",
        "                self.left.grow_tree()\n",
        "\n",
        "                right = NodeRegression(\n",
        "                    right_df['Y'].values.tolist(), \n",
        "                    right_df[self.features], \n",
        "                    depth=self.depth + 1, \n",
        "                    max_depth=self.max_depth, \n",
        "                    min_samples_split=self.min_samples_split,\n",
        "                    node_type='right_node',\n",
        "                    rule=f\"{best_feature} > {round(best_value, 3)}\"\n",
        "                    )\n",
        "\n",
        "                self.right = right\n",
        "                self.right.grow_tree()\n",
        "\n",
        "    def print_info(self, width=4):\n",
        "        \"\"\"\n",
        "        Method to print the infromation about the tree\n",
        "        \"\"\"\n",
        "        # Defining the number of spaces \n",
        "        const = int(self.depth * width ** 1.5)\n",
        "        spaces = \"-\" * const\n",
        "        \n",
        "        if self.node_type == 'root':\n",
        "            print(\"Root\")\n",
        "        else:\n",
        "            print(f\"|{spaces} Split rule: {self.rule}\")\n",
        "        print(f\"{' ' * const}   | MSE of the node: {round(self.mse, 2)}\")\n",
        "        print(f\"{' ' * const}   | Count of observations in node: {self.n}\")\n",
        "        print(f\"{' ' * const}   | Prediction of node: {round(self.ymean, 3)}\")   \n",
        "\n",
        "    def print_tree(self):\n",
        "        \"\"\"\n",
        "        Prints the whole tree from the current node to the bottom\n",
        "        \"\"\"\n",
        "        self.print_info() \n",
        "        \n",
        "        if self.left is not None: \n",
        "            self.left.print_tree()\n",
        "        \n",
        "        if self.right is not None:\n",
        "            self.right.print_tree()"
      ],
      "metadata": {
        "id": "gjYqGvanK7Pa"
      },
      "execution_count": 98,
      "outputs": []
    },
    {
      "cell_type": "code",
      "source": [
        "features = ['hour', 'workingday']\n",
        "todas = ['hour', 'workingday', 'total']\n",
        "for ft in todas:\n",
        "    bikes[ft] = pd.to_numeric(bikes[ft])\n",
        "X = X[features]\n",
        "Y = bikes['total']"
      ],
      "metadata": {
        "id": "eCUPmXPhDmWR"
      },
      "execution_count": 117,
      "outputs": []
    },
    {
      "cell_type": "code",
      "source": [
        "tree = tree_grow(X, Y, level=0, min_gain=0.001, max_depth=2, num_pct=5)\n",
        "estimado = tree_predict(X, tree)"
      ],
      "metadata": {
        "id": "wlfPRrgeIaTG"
      },
      "execution_count": 122,
      "outputs": []
    },
    {
      "cell_type": "code",
      "source": [
        "root = NodeRegression(Y.values.tolist(), X, max_depth=2, min_samples_split=5)\n",
        "root.grow_tree()"
      ],
      "metadata": {
        "id": "piSkjMDJLqu4"
      },
      "execution_count": 128,
      "outputs": []
    },
    {
      "cell_type": "code",
      "execution_count": 129,
      "metadata": {
        "colab": {
          "base_uri": "https://localhost:8080/"
        },
        "id": "ZuDQ5tGTxi3P",
        "outputId": "1fef7b9d-7119-4ef4-8638-6650cca1ac6a"
      },
      "outputs": [
        {
          "output_type": "stream",
          "name": "stdout",
          "text": [
            "Root\n",
            "   | MSE of the node: 32810.3\n",
            "   | Count of observations in node: 10886\n",
            "   | Prediction of node: 191.574\n",
            "|-------- Split rule: hour <= 6.5\n",
            "           | MSE of the node: 1565.56\n",
            "           | Count of observations in node: 3139\n",
            "           | Prediction of node: 32.582\n",
            "|---------------- Split rule: hour <= 5.5\n",
            "                   | MSE of the node: 945.78\n",
            "                   | Count of observations in node: 2684\n",
            "                   | Prediction of node: 25.178\n",
            "|---------------- Split rule: hour > 5.5\n",
            "                   | MSE of the node: 2990.46\n",
            "                   | Count of observations in node: 455\n",
            "                   | Prediction of node: 76.259\n",
            "|-------- Split rule: hour > 6.5\n",
            "           | MSE of the node: 31077.58\n",
            "           | Count of observations in node: 7747\n",
            "           | Prediction of node: 255.996\n",
            "|---------------- Split rule: hour <= 20.5\n",
            "                   | MSE of the node: 32410.31\n",
            "                   | Count of observations in node: 6379\n",
            "                   | Prediction of node: 282.555\n",
            "|---------------- Split rule: hour > 20.5\n",
            "                   | MSE of the node: 6236.57\n",
            "                   | Count of observations in node: 1368\n",
            "                   | Prediction of node: 132.152\n"
          ]
        },
        {
          "output_type": "execute_result",
          "data": {
            "text/plain": [
              "{'gain': 18268.811823533004,\n",
              " 'level': 0,\n",
              " 'n_samples': 10886,\n",
              " 'sl': {'gain': 5401.416218294678,\n",
              "  'level': 1,\n",
              "  'n_samples': 3594,\n",
              "  'sl': {'gain': 382.8088308604629,\n",
              "   'level': 2,\n",
              "   'n_samples': 2684,\n",
              "   'split': -1,\n",
              "   'y_pred': 1,\n",
              "   'y_prob': 25.15934475055845},\n",
              "  'split': [0, 6.0],\n",
              "  'sr': {'gain': 11537.911994799186,\n",
              "   'level': 2,\n",
              "   'n_samples': 910,\n",
              "   'split': -1,\n",
              "   'y_pred': 1,\n",
              "   'y_prob': 144.37171052631578},\n",
              "  'y_pred': 1,\n",
              "  'y_prob': 55.40711902113459},\n",
              " 'split': [0, 8.0],\n",
              " 'sr': {'gain': 7392.920792160614,\n",
              "  'level': 1,\n",
              "  'n_samples': 7292,\n",
              "  'sl': {'gain': 5136.949194485263,\n",
              "   'level': 2,\n",
              "   'n_samples': 5924,\n",
              "   'split': -1,\n",
              "   'y_pred': 1,\n",
              "   'y_prob': 287.7910901113736},\n",
              "  'split': [0, 21.0],\n",
              "  'sr': {'gain': 1818.4488902568337,\n",
              "   'level': 2,\n",
              "   'n_samples': 1368,\n",
              "   'split': -1,\n",
              "   'y_pred': 1,\n",
              "   'y_prob': 131.95985401459853},\n",
              "  'y_pred': 1,\n",
              "  'y_prob': 258.6007677543186},\n",
              " 'y_pred': 1,\n",
              " 'y_prob': 191.53903379867745}"
            ]
          },
          "metadata": {},
          "execution_count": 129
        }
      ],
      "source": [
        "# Celda 4\n",
        "#Utilizando metodos iterativos y ajustando con MSE\n",
        "root.print_tree()\n",
        "#Utlizando la tecnica planteada en clase\n",
        "tree"
      ]
    },
    {
      "cell_type": "markdown",
      "metadata": {
        "id": "KZTo2-KOxi3Q"
      },
      "source": [
        "### Punto 5 - Árbol de decisión con librería\n",
        "En la celda 5 entrene un árbol de decisiones con la **librería sklearn**, usando las variables predictoras \"hour\" y \"workingday\" y calibre los parámetros que considere conveniente para obtener un mejor desempeño. Comente el desempeño del modelo con alguna métrica de desempeño de modelos de clasificación y compare desempeño con el modelo del punto 3."
      ]
    },
    {
      "cell_type": "code",
      "execution_count": null,
      "metadata": {
        "id": "nLl6WL-dxi3R"
      },
      "outputs": [],
      "source": [
        "# Celda 5\n"
      ]
    },
    {
      "cell_type": "markdown",
      "metadata": {
        "id": "V2nw-uQfxi3S"
      },
      "source": [
        "## Parte B - Métodos de ensamblajes\n",
        "En esta parte del taller se usará el conjunto de datos de Popularidad de Noticias Online. El objetivo es predecir la cantidad de reacciones en redes sociales (popularidad) de la notica. Para más detalles puede visitar el sigueinte enlace: [datos](https://archive.ics.uci.edu/ml/datasets/online+news+popularity)."
      ]
    },
    {
      "cell_type": "markdown",
      "metadata": {
        "id": "I4VQAKmHxi3T"
      },
      "source": [
        "### Datos popularidad de noticias"
      ]
    },
    {
      "cell_type": "code",
      "execution_count": null,
      "metadata": {
        "id": "NhAvRvQuxi3T"
      },
      "outputs": [],
      "source": [
        "# Lectura de la información de archivo .csv\n",
        "df = pd.read_csv('https://raw.githubusercontent.com/albahnsen/MIAD_ML_and_NLP/main/datasets/mashable.csv', index_col=0)\n",
        "df.head()"
      ]
    },
    {
      "cell_type": "code",
      "execution_count": null,
      "metadata": {
        "id": "7JGvkJIuxi3U"
      },
      "outputs": [],
      "source": [
        "# Definición variable de interes y variables predictoras\n",
        "X = df.drop(['url', 'Popular'], axis=1)\n",
        "y = df['Popular']\n",
        "y.mean()"
      ]
    },
    {
      "cell_type": "code",
      "execution_count": null,
      "metadata": {
        "id": "0BjOBpHixi3V"
      },
      "outputs": [],
      "source": [
        "# División de la muestra en set de entrenamiento y prueba\n",
        "from sklearn.model_selection import train_test_split\n",
        "X_train, X_test, y_train, y_test = train_test_split(X, y, random_state=1)"
      ]
    },
    {
      "cell_type": "markdown",
      "metadata": {
        "id": "aObO7FAOxi3W"
      },
      "source": [
        "### Punto 6 - Árbol de decisión y regresión logística\n",
        "En la celda 6 construya un árbol de decisión y una regresión logística. Para el árbol calibre al menos un parámetro y evalúe el desempeño de cada modelo usando las métricas de Accuracy y F1-Score."
      ]
    },
    {
      "cell_type": "code",
      "execution_count": null,
      "metadata": {
        "id": "awdHa6Lgxi3W"
      },
      "outputs": [],
      "source": [
        "# Celda 6\n"
      ]
    },
    {
      "cell_type": "markdown",
      "metadata": {
        "id": "CJnMNSnRxi3X"
      },
      "source": [
        "### Punto 7 - Votación Mayoritaria\n",
        "En la celda 7 elabore un esamble con la metodología de **Votación mayoritaria** compuesto por 300 muestras bagged para cada uno de los siguientes escenarios:\n",
        "\n",
        "-100 árboles de decisión donde max_depth = None\\\n",
        "-100 árboles de decisión donde max_depth = 2\\\n",
        "-100 regresiones logísticas\n",
        "\n",
        "Evalúe los modelos utilizando las métricas de Accuracy y F1-Score."
      ]
    },
    {
      "cell_type": "code",
      "execution_count": null,
      "metadata": {
        "id": "9PksVHUuxi3X"
      },
      "outputs": [],
      "source": [
        "# Celda 7\n"
      ]
    },
    {
      "cell_type": "markdown",
      "metadata": {
        "id": "MGt5j7srxi3Y"
      },
      "source": [
        "### Punto 8 - Votación Ponderada\n",
        "En la celda 8 elabore un ensamble con la metodología de **Votación ponderada** compuesto por 300 muestras bagged para los mismos tres escenarios del punto 7. Evalúe los modelos utilizando las métricas de Accuracy y F1-Score"
      ]
    },
    {
      "cell_type": "code",
      "execution_count": null,
      "metadata": {
        "id": "jHbnLoquxi3Z"
      },
      "outputs": [],
      "source": [
        "# Celda 8\n"
      ]
    },
    {
      "cell_type": "markdown",
      "metadata": {
        "id": "yVs2bg-Pxi3Z"
      },
      "source": [
        "### Punto 9 - Comparación y análisis de resultados\n",
        "En la celda 9 comente sobre los resultados obtenidos con las metodologías usadas en los puntos 7 y 8, compare los resultados y enuncie posibles ventajas o desventajas de cada una de ellas."
      ]
    },
    {
      "cell_type": "code",
      "execution_count": null,
      "metadata": {
        "id": "9LGO_R1zxi3a"
      },
      "outputs": [],
      "source": [
        "# Celda 9"
      ]
    }
  ],
  "metadata": {
    "kernelspec": {
      "display_name": "Python 3",
      "language": "python",
      "name": "python3"
    },
    "language_info": {
      "codemirror_mode": {
        "name": "ipython",
        "version": 3
      },
      "file_extension": ".py",
      "mimetype": "text/x-python",
      "name": "python",
      "nbconvert_exporter": "python",
      "pygments_lexer": "ipython3",
      "version": "3.7.3"
    },
    "colab": {
      "name": "S1TC1_arboles_ensamblajes.ipynb",
      "provenance": []
    }
  },
  "nbformat": 4,
  "nbformat_minor": 0
}