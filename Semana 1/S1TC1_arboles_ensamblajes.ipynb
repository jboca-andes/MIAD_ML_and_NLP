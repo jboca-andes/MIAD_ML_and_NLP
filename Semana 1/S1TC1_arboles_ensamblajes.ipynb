{
  "cells": [
    {
      "cell_type": "markdown",
      "metadata": {
        "id": "clvy4Prcxi21"
      },
      "source": [
        "![image info](https://raw.githubusercontent.com/albahnsen/MIAD_ML_and_NLP/main/images/banner_1.png)"
      ]
    },
    {
      "cell_type": "markdown",
      "metadata": {
        "id": "6KsyDtE0xi26"
      },
      "source": [
        "# Taller: Construcción e implementación de árboles de decisión y métodos de ensamblaje\n",
        "\n",
        "En este taller podrá poner en práctica los sus conocimientos sobre construcción e implementación de árboles de decisión y métodos de ensamblajes. El taller está constituido por 9 puntos, 5 relacionados con árboles de decisión (parte A) y 4 con métodos de ensamblaje (parte B)."
      ]
    },
    {
      "cell_type": "markdown",
      "metadata": {
        "id": "aAEpxOaqxi28"
      },
      "source": [
        "## Parte A - Árboles de decisión\n",
        "\n",
        "En esta parte del taller se usará el conjunto de datos de Capital Bikeshare de Kaggle, donde cada observación representa el alquiler de una bicicleta durante una hora y día determinado. Para más detalles puede visitar los siguientes enlaces: [datos](https://github.com/justmarkham/DAT8/blob/master/data/bikeshare.csv), [dicccionario de datos](https://www.kaggle.com/c/bike-sharing-demand/data)."
      ]
    },
    {
      "cell_type": "markdown",
      "metadata": {
        "id": "HDilcFI5xi29"
      },
      "source": [
        "### Datos prestamo de bicicletas"
      ]
    },
    {
      "cell_type": "code",
      "execution_count": null,
      "metadata": {
        "id": "IArqTN_Exi2_"
      },
      "outputs": [],
      "source": [
        "import warnings\n",
        "warnings.filterwarnings('ignore')"
      ]
    },
    {
      "cell_type": "code",
      "execution_count": null,
      "metadata": {
        "id": "JC23N3Apxi3C"
      },
      "outputs": [],
      "source": [
        "# Importación de librerías\n",
        "%matplotlib inline\n",
        "import pandas as pd\n",
        "import numpy as np\n",
        "from sklearn.model_selection import cross_val_score\n",
        "from sklearn.linear_model import LinearRegression\n",
        "from sklearn.tree import DecisionTreeRegressor, export_graphviz\n",
        "from sklearn import tree\n",
        "import matplotlib.pyplot as plt"
      ]
    },
    {
      "cell_type": "code",
      "execution_count": null,
      "metadata": {
        "colab": {
          "base_uri": "https://localhost:8080/",
          "height": 237
        },
        "id": "G8O-OJwIxi3D",
        "outputId": "0a824ebf-55d8-4350-abd7-60e5d4c4c931"
      },
      "outputs": [
        {
          "output_type": "execute_result",
          "data": {
            "text/plain": [
              "                     season  holiday  workingday  weather  temp   atemp  \\\n",
              "datetime                                                                  \n",
              "2011-01-01 00:00:00       1        0           0        1  9.84  14.395   \n",
              "2011-01-01 01:00:00       1        0           0        1  9.02  13.635   \n",
              "2011-01-01 02:00:00       1        0           0        1  9.02  13.635   \n",
              "2011-01-01 03:00:00       1        0           0        1  9.84  14.395   \n",
              "2011-01-01 04:00:00       1        0           0        1  9.84  14.395   \n",
              "\n",
              "                     humidity  windspeed  casual  registered  total  hour  \n",
              "datetime                                                                   \n",
              "2011-01-01 00:00:00        81        0.0       3          13     16     0  \n",
              "2011-01-01 01:00:00        80        0.0       8          32     40     1  \n",
              "2011-01-01 02:00:00        80        0.0       5          27     32     2  \n",
              "2011-01-01 03:00:00        75        0.0       3          10     13     3  \n",
              "2011-01-01 04:00:00        75        0.0       0           1      1     4  "
            ],
            "text/html": [
              "\n",
              "  <div id=\"df-77e9e7b9-7ae7-4cab-960b-d415796d88b8\">\n",
              "    <div class=\"colab-df-container\">\n",
              "      <div>\n",
              "<style scoped>\n",
              "    .dataframe tbody tr th:only-of-type {\n",
              "        vertical-align: middle;\n",
              "    }\n",
              "\n",
              "    .dataframe tbody tr th {\n",
              "        vertical-align: top;\n",
              "    }\n",
              "\n",
              "    .dataframe thead th {\n",
              "        text-align: right;\n",
              "    }\n",
              "</style>\n",
              "<table border=\"1\" class=\"dataframe\">\n",
              "  <thead>\n",
              "    <tr style=\"text-align: right;\">\n",
              "      <th></th>\n",
              "      <th>season</th>\n",
              "      <th>holiday</th>\n",
              "      <th>workingday</th>\n",
              "      <th>weather</th>\n",
              "      <th>temp</th>\n",
              "      <th>atemp</th>\n",
              "      <th>humidity</th>\n",
              "      <th>windspeed</th>\n",
              "      <th>casual</th>\n",
              "      <th>registered</th>\n",
              "      <th>total</th>\n",
              "      <th>hour</th>\n",
              "    </tr>\n",
              "    <tr>\n",
              "      <th>datetime</th>\n",
              "      <th></th>\n",
              "      <th></th>\n",
              "      <th></th>\n",
              "      <th></th>\n",
              "      <th></th>\n",
              "      <th></th>\n",
              "      <th></th>\n",
              "      <th></th>\n",
              "      <th></th>\n",
              "      <th></th>\n",
              "      <th></th>\n",
              "      <th></th>\n",
              "    </tr>\n",
              "  </thead>\n",
              "  <tbody>\n",
              "    <tr>\n",
              "      <th>2011-01-01 00:00:00</th>\n",
              "      <td>1</td>\n",
              "      <td>0</td>\n",
              "      <td>0</td>\n",
              "      <td>1</td>\n",
              "      <td>9.84</td>\n",
              "      <td>14.395</td>\n",
              "      <td>81</td>\n",
              "      <td>0.0</td>\n",
              "      <td>3</td>\n",
              "      <td>13</td>\n",
              "      <td>16</td>\n",
              "      <td>0</td>\n",
              "    </tr>\n",
              "    <tr>\n",
              "      <th>2011-01-01 01:00:00</th>\n",
              "      <td>1</td>\n",
              "      <td>0</td>\n",
              "      <td>0</td>\n",
              "      <td>1</td>\n",
              "      <td>9.02</td>\n",
              "      <td>13.635</td>\n",
              "      <td>80</td>\n",
              "      <td>0.0</td>\n",
              "      <td>8</td>\n",
              "      <td>32</td>\n",
              "      <td>40</td>\n",
              "      <td>1</td>\n",
              "    </tr>\n",
              "    <tr>\n",
              "      <th>2011-01-01 02:00:00</th>\n",
              "      <td>1</td>\n",
              "      <td>0</td>\n",
              "      <td>0</td>\n",
              "      <td>1</td>\n",
              "      <td>9.02</td>\n",
              "      <td>13.635</td>\n",
              "      <td>80</td>\n",
              "      <td>0.0</td>\n",
              "      <td>5</td>\n",
              "      <td>27</td>\n",
              "      <td>32</td>\n",
              "      <td>2</td>\n",
              "    </tr>\n",
              "    <tr>\n",
              "      <th>2011-01-01 03:00:00</th>\n",
              "      <td>1</td>\n",
              "      <td>0</td>\n",
              "      <td>0</td>\n",
              "      <td>1</td>\n",
              "      <td>9.84</td>\n",
              "      <td>14.395</td>\n",
              "      <td>75</td>\n",
              "      <td>0.0</td>\n",
              "      <td>3</td>\n",
              "      <td>10</td>\n",
              "      <td>13</td>\n",
              "      <td>3</td>\n",
              "    </tr>\n",
              "    <tr>\n",
              "      <th>2011-01-01 04:00:00</th>\n",
              "      <td>1</td>\n",
              "      <td>0</td>\n",
              "      <td>0</td>\n",
              "      <td>1</td>\n",
              "      <td>9.84</td>\n",
              "      <td>14.395</td>\n",
              "      <td>75</td>\n",
              "      <td>0.0</td>\n",
              "      <td>0</td>\n",
              "      <td>1</td>\n",
              "      <td>1</td>\n",
              "      <td>4</td>\n",
              "    </tr>\n",
              "  </tbody>\n",
              "</table>\n",
              "</div>\n",
              "      <button class=\"colab-df-convert\" onclick=\"convertToInteractive('df-77e9e7b9-7ae7-4cab-960b-d415796d88b8')\"\n",
              "              title=\"Convert this dataframe to an interactive table.\"\n",
              "              style=\"display:none;\">\n",
              "        \n",
              "  <svg xmlns=\"http://www.w3.org/2000/svg\" height=\"24px\"viewBox=\"0 0 24 24\"\n",
              "       width=\"24px\">\n",
              "    <path d=\"M0 0h24v24H0V0z\" fill=\"none\"/>\n",
              "    <path d=\"M18.56 5.44l.94 2.06.94-2.06 2.06-.94-2.06-.94-.94-2.06-.94 2.06-2.06.94zm-11 1L8.5 8.5l.94-2.06 2.06-.94-2.06-.94L8.5 2.5l-.94 2.06-2.06.94zm10 10l.94 2.06.94-2.06 2.06-.94-2.06-.94-.94-2.06-.94 2.06-2.06.94z\"/><path d=\"M17.41 7.96l-1.37-1.37c-.4-.4-.92-.59-1.43-.59-.52 0-1.04.2-1.43.59L10.3 9.45l-7.72 7.72c-.78.78-.78 2.05 0 2.83L4 21.41c.39.39.9.59 1.41.59.51 0 1.02-.2 1.41-.59l7.78-7.78 2.81-2.81c.8-.78.8-2.07 0-2.86zM5.41 20L4 18.59l7.72-7.72 1.47 1.35L5.41 20z\"/>\n",
              "  </svg>\n",
              "      </button>\n",
              "      \n",
              "  <style>\n",
              "    .colab-df-container {\n",
              "      display:flex;\n",
              "      flex-wrap:wrap;\n",
              "      gap: 12px;\n",
              "    }\n",
              "\n",
              "    .colab-df-convert {\n",
              "      background-color: #E8F0FE;\n",
              "      border: none;\n",
              "      border-radius: 50%;\n",
              "      cursor: pointer;\n",
              "      display: none;\n",
              "      fill: #1967D2;\n",
              "      height: 32px;\n",
              "      padding: 0 0 0 0;\n",
              "      width: 32px;\n",
              "    }\n",
              "\n",
              "    .colab-df-convert:hover {\n",
              "      background-color: #E2EBFA;\n",
              "      box-shadow: 0px 1px 2px rgba(60, 64, 67, 0.3), 0px 1px 3px 1px rgba(60, 64, 67, 0.15);\n",
              "      fill: #174EA6;\n",
              "    }\n",
              "\n",
              "    [theme=dark] .colab-df-convert {\n",
              "      background-color: #3B4455;\n",
              "      fill: #D2E3FC;\n",
              "    }\n",
              "\n",
              "    [theme=dark] .colab-df-convert:hover {\n",
              "      background-color: #434B5C;\n",
              "      box-shadow: 0px 1px 3px 1px rgba(0, 0, 0, 0.15);\n",
              "      filter: drop-shadow(0px 1px 2px rgba(0, 0, 0, 0.3));\n",
              "      fill: #FFFFFF;\n",
              "    }\n",
              "  </style>\n",
              "\n",
              "      <script>\n",
              "        const buttonEl =\n",
              "          document.querySelector('#df-77e9e7b9-7ae7-4cab-960b-d415796d88b8 button.colab-df-convert');\n",
              "        buttonEl.style.display =\n",
              "          google.colab.kernel.accessAllowed ? 'block' : 'none';\n",
              "\n",
              "        async function convertToInteractive(key) {\n",
              "          const element = document.querySelector('#df-77e9e7b9-7ae7-4cab-960b-d415796d88b8');\n",
              "          const dataTable =\n",
              "            await google.colab.kernel.invokeFunction('convertToInteractive',\n",
              "                                                     [key], {});\n",
              "          if (!dataTable) return;\n",
              "\n",
              "          const docLinkHtml = 'Like what you see? Visit the ' +\n",
              "            '<a target=\"_blank\" href=https://colab.research.google.com/notebooks/data_table.ipynb>data table notebook</a>'\n",
              "            + ' to learn more about interactive tables.';\n",
              "          element.innerHTML = '';\n",
              "          dataTable['output_type'] = 'display_data';\n",
              "          await google.colab.output.renderOutput(dataTable, element);\n",
              "          const docLink = document.createElement('div');\n",
              "          docLink.innerHTML = docLinkHtml;\n",
              "          element.appendChild(docLink);\n",
              "        }\n",
              "      </script>\n",
              "    </div>\n",
              "  </div>\n",
              "  "
            ]
          },
          "metadata": {},
          "execution_count": 185
        }
      ],
      "source": [
        "# Lectura de la información de archivo .csv\n",
        "bikes = pd.read_csv('https://raw.githubusercontent.com/albahnsen/MIAD_ML_and_NLP/main/datasets/bikeshare.csv', index_col='datetime', parse_dates=True)\n",
        "# Renombrar variable \"count\" a \"total\"\n",
        "bikes.rename(columns={'count':'total'}, inplace=True)\n",
        "# Crear la hora como una variable \n",
        "bikes['hour'] = bikes.index.hour\n",
        "# Visualización\n",
        "bikes.head()"
      ]
    },
    {
      "cell_type": "markdown",
      "metadata": {
        "id": "BNeWtkO8xi3F"
      },
      "source": [
        "### Punto 1 - Análisis descriptivo\n",
        "\n",
        "Ejecute las celdas 1.1 y 1.2. A partir de los resultados realice un análisis descriptivo sobre las variables hour y workingday, escriba sus inferencias sobre los datos. Para complementar su análisis puede usar métricas como máximo, mínimo, percentiles entre otros."
      ]
    },
    {
      "cell_type": "code",
      "execution_count": null,
      "metadata": {
        "colab": {
          "base_uri": "https://localhost:8080/"
        },
        "id": "whlAofZnxi3G",
        "outputId": "c7eca76b-036b-41ca-83ed-1bef0f978153"
      },
      "outputs": [
        {
          "output_type": "execute_result",
          "data": {
            "text/plain": [
              "workingday\n",
              "0    188.506621\n",
              "1    193.011873\n",
              "Name: total, dtype: float64"
            ]
          },
          "metadata": {},
          "execution_count": 14
        }
      ],
      "source": [
        "# Celda 1.1\n",
        "bikes.groupby('workingday').total.mean()"
      ]
    },
    {
      "cell_type": "markdown",
      "source": [
        "##**Conclusiones del estudiante**\n",
        "\n",
        "*En general, se identifica que hay una mayor cantidad de alquileres en promedio en los dias laborales vs los dias no laborales, sin embargo, aun es necesario descartar aquellos dias considerados laborales (Lunes a Viernes) que son feriados.*"
      ],
      "metadata": {
        "id": "VcUbj2PcDACN"
      }
    },
    {
      "cell_type": "code",
      "execution_count": null,
      "metadata": {
        "scrolled": true,
        "colab": {
          "base_uri": "https://localhost:8080/"
        },
        "id": "Elgu1fHPxi3H",
        "outputId": "017d80c6-ea2d-4ba9-bbcf-b224649bbc71"
      },
      "outputs": [
        {
          "output_type": "execute_result",
          "data": {
            "text/plain": [
              "hour\n",
              "0      55.138462\n",
              "1      33.859031\n",
              "2      22.899554\n",
              "3      11.757506\n",
              "4       6.407240\n",
              "5      19.767699\n",
              "6      76.259341\n",
              "7     213.116484\n",
              "8     362.769231\n",
              "9     221.780220\n",
              "10    175.092308\n",
              "11    210.674725\n",
              "12    256.508772\n",
              "13    257.787281\n",
              "14    243.442982\n",
              "15    254.298246\n",
              "16    316.372807\n",
              "17    468.765351\n",
              "18    430.859649\n",
              "19    315.278509\n",
              "20    228.517544\n",
              "21    173.370614\n",
              "22    133.576754\n",
              "23     89.508772\n",
              "Name: total, dtype: float64"
            ]
          },
          "metadata": {},
          "execution_count": 5
        }
      ],
      "source": [
        "# Celda 1.2\n",
        "bikes.groupby('hour').total.mean()"
      ]
    },
    {
      "cell_type": "markdown",
      "source": [
        "##**Conclusiones del estudiante**\n",
        "\n",
        "*Se idenfica que las horas de mayor demanda coinciden con las horas de entrada y salida tradicionales de los trabajos [7AM-9AM], [12-1PM], [5-6PM], esto considerando que posiblemente las personas que se desplazan desde o hacia sus lugares de trabajo, tambien estén utilizando el servicio de alquiler de bicicletas.*"
      ],
      "metadata": {
        "id": "GBOOAZAIDxSl"
      }
    },
    {
      "cell_type": "code",
      "source": [
        "#Análisis del comportamiento por hora en dias NO laborales\n",
        "bikes[bikes['workingday']==0].groupby('hour').total.mean().plot.bar()"
      ],
      "metadata": {
        "colab": {
          "base_uri": "https://localhost:8080/",
          "height": 300
        },
        "id": "TXEYObyPCLgv",
        "outputId": "33ccd0cc-9b24-4608-a2ae-e10e23d4eb06"
      },
      "execution_count": null,
      "outputs": [
        {
          "output_type": "execute_result",
          "data": {
            "text/plain": [
              "<matplotlib.axes._subplots.AxesSubplot at 0x7f8f826a27d0>"
            ]
          },
          "metadata": {},
          "execution_count": 17
        },
        {
          "output_type": "display_data",
          "data": {
            "text/plain": [
              "<Figure size 432x288 with 1 Axes>"
            ],
            "image/png": "[encoded data removed]"
          },
          "metadata": {
            "needs_background": "light"
          }
        }
      ]
    },
    {
      "cell_type": "markdown",
      "metadata": {
        "id": "tNN-00knxi3I"
      },
      "source": [
        "### Punto 2 - Análisis de gráficos\n",
        "\n",
        "Primero ejecute la celda 2.1 y asegúrese de comprender el código y el resultado. Luego, en cada una de celdas 2.2 y 2.3 escriba un código que genere una gráfica de las rentas promedio por hora cuando la variable \"workingday\" es igual a 0 e igual a 1, respectivamente. Analice y escriba sus hallazgos."
      ]
    },
    {
      "cell_type": "code",
      "execution_count": null,
      "metadata": {
        "colab": {
          "base_uri": "https://localhost:8080/",
          "height": 297
        },
        "id": "1ab-kRwNxi3J",
        "outputId": "d8cad965-02cc-4b7c-fdb8-6d1aca71d4e4"
      },
      "outputs": [
        {
          "output_type": "execute_result",
          "data": {
            "text/plain": [
              "<matplotlib.axes._subplots.AxesSubplot at 0x7f8f825b1950>"
            ]
          },
          "metadata": {},
          "execution_count": 18
        },
        {
          "output_type": "display_data",
          "data": {
            "text/plain": [
              "<Figure size 432x288 with 1 Axes>"
            ],
            "image/png": "[encoded data removed]"
          },
          "metadata": {
            "needs_background": "light"
          }
        }
      ],
      "source": [
        "# Celda 2.1 - rentas promedio para cada valor de la variable \"hour\"\n",
        "bikes.groupby('hour').total.mean().plot()"
      ]
    },
    {
      "cell_type": "markdown",
      "source": [
        "##**Conclusiones del estudiante**\n",
        "\n",
        "*Debido a que 5 de cada 7 días son considerados como laborables, la distribución general de estos datos es muy similar a la distribución o el comportamiento encontrado en la grafica de la celda 2.3, en donde se analizan exclusivamente estos dias.*"
      ],
      "metadata": {
        "id": "yjwddY6wEtGW"
      }
    },
    {
      "cell_type": "code",
      "execution_count": null,
      "metadata": {
        "colab": {
          "base_uri": "https://localhost:8080/",
          "height": 300
        },
        "id": "tGmPbj9Kxi3K",
        "outputId": "4153abaf-2535-464b-9e4c-9b68f3b9a1de"
      },
      "outputs": [
        {
          "output_type": "execute_result",
          "data": {
            "text/plain": [
              "<matplotlib.axes._subplots.AxesSubplot at 0x7f8f827f3f10>"
            ]
          },
          "metadata": {},
          "execution_count": 24
        },
        {
          "output_type": "display_data",
          "data": {
            "text/plain": [
              "<Figure size 432x288 with 1 Axes>"
            ],
            "image/png": "[encoded data removed]"
          },
          "metadata": {
            "needs_background": "light"
          }
        }
      ],
      "source": [
        "# Celda 2.2 - \"workingday\"=0 escriba su código y hallazgos \n",
        "\n",
        "bikes[bikes['workingday']==0].groupby('hour').total.mean().plot.bar()"
      ]
    },
    {
      "cell_type": "markdown",
      "source": [
        "##**Conclusiones del estudiante**\n",
        "\n",
        "*En los días NO laborales se logra visualizar un comportamiento mas estable durante todo el día, concentrando la mayor parte de la demanda entre las 10 de la mañana y las 7 de la noche.*"
      ],
      "metadata": {
        "id": "i7sh5N6NFAYh"
      }
    },
    {
      "cell_type": "code",
      "execution_count": null,
      "metadata": {
        "colab": {
          "base_uri": "https://localhost:8080/",
          "height": 297
        },
        "id": "bmCVjvWQxi3L",
        "outputId": "dab896bf-eb97-4526-d377-4d626ff7437b"
      },
      "outputs": [
        {
          "output_type": "execute_result",
          "data": {
            "text/plain": [
              "<matplotlib.axes._subplots.AxesSubplot at 0x7f8f82364c10>"
            ]
          },
          "metadata": {},
          "execution_count": 21
        },
        {
          "output_type": "display_data",
          "data": {
            "text/plain": [
              "<Figure size 432x288 with 1 Axes>"
            ],
            "image/png": "[encoded data removed]"
          },
          "metadata": {
            "needs_background": "light"
          }
        }
      ],
      "source": [
        "# Celda 2.3 - \"workingday\"=1 escriba su código y hallazgos \n",
        "\n",
        "bikes[bikes['workingday']==1].groupby('hour').total.mean().plot()"
      ]
    },
    {
      "cell_type": "markdown",
      "source": [
        "##**Conclusiones del estudiante**\n",
        "\n",
        "*Al tener un comportamiento muy similar al encontrado en lso datos generalizados, es posible determinar que la demanda en los dias laborales se concentra principalmente en los horarios de desplazamiento desde y hacia los sitios de trabajo, esto a partir de los horarios de los alquileres.*"
      ],
      "metadata": {
        "id": "ENF68mooFjIm"
      }
    },
    {
      "cell_type": "markdown",
      "metadata": {
        "id": "Rjh8CuOpxi3L"
      },
      "source": [
        "### Punto 3 - Regresión lineal\n",
        "En la celda 3 ajuste un modelo de regresión lineal a todo el conjunto de datos, utilizando \"total\" como variable de respuesta y \"hour\" y \"workingday\" como las únicas variables predictoras. Luego, imprima los coeficientes e interprételos. ¿Cuáles son las limitaciones de la regresión lineal en este caso?"
      ]
    },
    {
      "cell_type": "code",
      "execution_count": null,
      "metadata": {
        "colab": {
          "base_uri": "https://localhost:8080/"
        },
        "id": "BqRjd6poxi3N",
        "outputId": "f8caca49-7dc3-48cc-a5f0-7a21db165396"
      },
      "outputs": [
        {
          "output_type": "execute_result",
          "data": {
            "text/plain": [
              "array([10.49206282,  4.07248627])"
            ]
          },
          "metadata": {},
          "execution_count": 186
        }
      ],
      "source": [
        "# Celda 3\n",
        "features = ['hour', 'workingday']\n",
        "todas = ['hour', 'workingday', 'total']\n",
        "for ft in todas:\n",
        "    bikes[ft] = pd.to_numeric(bikes[ft])\n",
        "X = bikes[features]\n",
        "Y = bikes['total']\n",
        "regresion = LinearRegression()  \n",
        "regresion.fit(X, Y) \n",
        "regresion.coef_"
      ]
    },
    {
      "cell_type": "markdown",
      "source": [
        "##**Conclusiones del estudiante**\n",
        "\n",
        "*Para este caso particular, la regresion lineal no está en la capacidad de predecir de forma adecuada la demanda de bicicletas de acuerdo a si es dia entre semana o fin de semana y la hora, esto se debe a que los datos no se comportan de dicha forma y adicionalmente, la hora toma un peso debido a que se trata de datos numericos, eso significa que las 23hrs tendran un peso muy superior a las 0 hrs, esto a pesar de que son horas muy similares al final del ejercicio, la regresion lineal no logra predecir de forma adecuada.*"
      ],
      "metadata": {
        "id": "sn_U4Veuy0o1"
      }
    },
    {
      "cell_type": "markdown",
      "metadata": {
        "id": "1XJ14BBBxi3O"
      },
      "source": [
        "### Punto 4 - Árbol de decisión manual\n",
        "En la celda 4 cree un árbol de decisiones para pronosticar la variable \"total\" iterando **manualmente** sobre las variables \"hour\" y  \"workingday\". El árbol debe tener al menos 6 nodos finales."
      ]
    },
    {
      "cell_type": "code",
      "source": [
        "class RegresionManual():\n",
        "    def __init__(\n",
        "        self, \n",
        "        X: pd.DataFrame,\n",
        "        Y: list,\n",
        "        min_samples_split=20,\n",
        "        max_depth=5,\n",
        "        depth=0,\n",
        "        node_type='raiz',\n",
        "        rule=\"\"\n",
        "    ):\n",
        "        self.Y = Y \n",
        "        self.X = X\n",
        "        self.min_samples_split = min_samples_split\n",
        "        self.max_depth = max_depth\n",
        "        self.depth = depth\n",
        "        self.features = list(self.X.columns)\n",
        "        self.node_type = node_type\n",
        "        self.rule = rule \n",
        "        self.ymean = np.mean(Y)\n",
        "        self.residuals = self.Y - self.ymean\n",
        "        self.mse = self.get_mse(Y, self.ymean)\n",
        "        self.n = len(Y)\n",
        "        self.left = None \n",
        "        self.right = None \n",
        "        self.best_feature = None \n",
        "        self.best_value = None \n",
        "\n",
        "    @staticmethod\n",
        "    def get_mse(ytrue, yhat):\n",
        "        return np.sum((ytrue - yhat) ** 2) / len(ytrue)\n",
        "\n",
        "    @staticmethod\n",
        "    def ma(x: np.array, window: int):\n",
        "        return np.convolve(x, np.ones(window), 'valid') / window\n",
        "\n",
        "    def best_split(self):\n",
        "        df = self.X.copy()\n",
        "        df['Y'] = self.Y\n",
        "        #Error Inicial (Como en el ejemplo del profesor)\n",
        "        mse_base = self.mse\n",
        "        best_feature = None\n",
        "        best_value = None\n",
        "\n",
        "        for feature in self.features:\n",
        "            Xdf = df.dropna().sort_values(feature)\n",
        "            xmeans = self.ma(Xdf[feature].unique(), 2)\n",
        "\n",
        "            for value in xmeans:\n",
        "                left_y = Xdf[Xdf[feature]<value]['Y'].values\n",
        "                right_y = Xdf[Xdf[feature]>=value]['Y'].values\n",
        "                left_mean = np.mean(left_y)\n",
        "                right_mean = np.mean(right_y)\n",
        "                res_left = left_y - left_mean \n",
        "                res_right = right_y - right_mean\n",
        "                r = np.concatenate((res_left, res_right), axis=None)\n",
        "                mse_split = np.sum(r ** 2) / len(r)\n",
        "\n",
        "                if mse_split < mse_base:\n",
        "                    best_feature = feature\n",
        "                    best_value = value \n",
        "                    mse_base = mse_split\n",
        "\n",
        "        return (best_feature, best_value)\n",
        "\n",
        "    def tree_grow(self):\n",
        "        df = self.X.copy()\n",
        "        df['Y'] = self.Y\n",
        "        if (self.depth < self.max_depth) and (self.n >= self.min_samples_split):\n",
        "            best_feature, best_value = self.best_split()\n",
        "\n",
        "            if best_feature is not None:\n",
        "                self.best_feature = best_feature\n",
        "                self.best_value = best_value\n",
        "                left_df, right_df = df[df[best_feature]<=best_value].copy(), df[df[best_feature]>best_value].copy()\n",
        "                left = RegresionManual(\n",
        "                    Y = left_df['Y'].values.tolist(), \n",
        "                    X = left_df[self.features], \n",
        "                    depth=self.depth + 1, \n",
        "                    max_depth=self.max_depth, \n",
        "                    min_samples_split=self.min_samples_split, \n",
        "                    node_type='izquierda',\n",
        "                    rule=f\"{best_feature} <= {round(best_value, 3)}\"\n",
        "                    )\n",
        "\n",
        "                self.left = left \n",
        "                self.left.tree_grow()\n",
        "\n",
        "                right = RegresionManual(\n",
        "                    Y = right_df['Y'].values.tolist(), \n",
        "                    X = right_df[self.features], \n",
        "                    depth=self.depth + 1, \n",
        "                    max_depth=self.max_depth, \n",
        "                    min_samples_split=self.min_samples_split,\n",
        "                    node_type='derecha',\n",
        "                    rule=f\"{best_feature} > {round(best_value, 3)}\"\n",
        "                    )\n",
        "\n",
        "                self.right = right\n",
        "                self.right.tree_grow()\n",
        "\n",
        "    def print_info(self):\n",
        "        const = int(self.depth * 4 ** 1.5)\n",
        "        spaces = \"-\" * const\n",
        "        \n",
        "        if self.node_type == 'raiz':\n",
        "            print(\"Nodo raiz\")\n",
        "        else:\n",
        "            print(f\"{spaces} Regla en el nodo: {self.rule}\")\n",
        "        print(f\"{' ' * const}   -> MSE del nodo: {round(self.mse, 2)}\")\n",
        "        print(f\"{' ' * const}   -> Cantidad de observaciones: {self.n}\")\n",
        "        print(f\"{' ' * const}   -> Predicción del nodo: {round(self.ymean, 3)}\")   \n",
        "\n",
        "    def print_tree(self):\n",
        "        self.print_info() \n",
        "        \n",
        "        if self.left is not None: \n",
        "            self.left.print_tree()\n",
        "        \n",
        "        if self.right is not None:\n",
        "            self.right.print_tree()"
      ],
      "metadata": {
        "id": "gjYqGvanK7Pa"
      },
      "execution_count": null,
      "outputs": []
    },
    {
      "cell_type": "code",
      "source": [
        "test2 = RegresionManual(Y = Y.values.tolist(),  X = X, max_depth=2, min_samples_split=2)\n",
        "test2.tree_grow()"
      ],
      "metadata": {
        "id": "piSkjMDJLqu4"
      },
      "execution_count": null,
      "outputs": []
    },
    {
      "cell_type": "code",
      "source": [
        "test2.print_tree()"
      ],
      "metadata": {
        "colab": {
          "base_uri": "https://localhost:8080/"
        },
        "id": "Ck-ahoK4sE4W",
        "outputId": "82eb0ab1-e282-4173-e9a5-3f0a5a626dd2"
      },
      "execution_count": null,
      "outputs": [
        {
          "output_type": "stream",
          "name": "stdout",
          "text": [
            "Nodo raiz\n",
            "   -> MSE del nodo: 32810.3\n",
            "   -> Cantidad de observaciones: 10886\n",
            "   -> Predicción del nodo: 191.574\n",
            "-------- Regla en el nodo: hour <= 6.5\n",
            "           -> MSE del nodo: 1565.56\n",
            "           -> Cantidad de observaciones: 3139\n",
            "           -> Predicción del nodo: 32.582\n",
            "---------------- Regla en el nodo: hour <= 5.5\n",
            "                   -> MSE del nodo: 945.78\n",
            "                   -> Cantidad de observaciones: 2684\n",
            "                   -> Predicción del nodo: 25.178\n",
            "---------------- Regla en el nodo: hour > 5.5\n",
            "                   -> MSE del nodo: 2990.46\n",
            "                   -> Cantidad de observaciones: 455\n",
            "                   -> Predicción del nodo: 76.259\n",
            "-------- Regla en el nodo: hour > 6.5\n",
            "           -> MSE del nodo: 31077.58\n",
            "           -> Cantidad de observaciones: 7747\n",
            "           -> Predicción del nodo: 255.996\n",
            "---------------- Regla en el nodo: hour <= 20.5\n",
            "                   -> MSE del nodo: 32410.31\n",
            "                   -> Cantidad de observaciones: 6379\n",
            "                   -> Predicción del nodo: 282.555\n",
            "---------------- Regla en el nodo: hour > 20.5\n",
            "                   -> MSE del nodo: 6236.57\n",
            "                   -> Cantidad de observaciones: 1368\n",
            "                   -> Predicción del nodo: 132.152\n"
          ]
        }
      ]
    },
    {
      "cell_type": "markdown",
      "source": [
        "##**Conclusiones del estudiante**\n",
        "\n",
        "*En el punto 4, el proceso de generación de un arbol de forma manual es mucho mas exhausto que generarlo mediante librerias prediseñadas, sin embargo, se puede llegar a tener un desempeño similar o igual al desempeño logrado por librerias como sklearn, esto considerando que en el proceso manual, la optimización de hiperparametros es mucho mas compleja que realizarla mediante librerias, como se puede evidenciar en el proceso descrito previamente, para un arbol con profundidad 2, se logra el mismo desempeño que sklearn*"
      ],
      "metadata": {
        "id": "41QaRKNJ0Zyn"
      }
    },
    {
      "cell_type": "markdown",
      "metadata": {
        "id": "KZTo2-KOxi3Q"
      },
      "source": [
        "### Punto 5 - Árbol de decisión con librería\n",
        "En la celda 5 entrene un árbol de decisiones con la **librería sklearn**, usando las variables predictoras \"hour\" y \"workingday\" y calibre los parámetros que considere conveniente para obtener un mejor desempeño. Comente el desempeño del modelo con alguna métrica de desempeño de modelos de clasificación y compare desempeño con el modelo del punto 3."
      ]
    },
    {
      "cell_type": "code",
      "execution_count": null,
      "metadata": {
        "id": "nLl6WL-dxi3R"
      },
      "outputs": [],
      "source": [
        "# Celda 5\n",
        "# Lista de valores para calibrar el criterio de parada de máxima profundidad (max_depth)\n",
        "max_depth_range = range(1, 21)\n",
        "\n",
        "# Lista para guardar los valores del RMSE para cada valor de máxima profundidad (max_depth)\n",
        "rendimiento = []\n",
        "\n",
        "# Importación de modelos de sklearn \n",
        "from sklearn.model_selection import cross_val_score\n",
        "from sklearn.tree import DecisionTreeRegressor\n",
        "\n",
        "# Loop para obtener el desempeño del modelo de acuerdo con la máxima profundidad\n",
        "for depth in max_depth_range:\n",
        "    # Definición del árbol de decisión usando DecisionTreeRegressor de la libreria sklearn\n",
        "    clf = DecisionTreeRegressor(max_depth=depth, random_state=1)\n",
        "    rendimiento.append(cross_val_score(clf, X, Y, cv=10, scoring='neg_mean_squared_error').mean())\n",
        "\n"
      ]
    },
    {
      "cell_type": "code",
      "source": [
        "plt.plot(max_depth_range, rendimiento)\n",
        "plt.xlabel('max_depth')\n",
        "plt.ylabel('Metricas')"
      ],
      "metadata": {
        "id": "9cjR_HMBs8uM",
        "outputId": "fa692167-a219-41c5-ee0f-f554c22128e1",
        "colab": {
          "base_uri": "https://localhost:8080/",
          "height": 298
        }
      },
      "execution_count": null,
      "outputs": [
        {
          "output_type": "execute_result",
          "data": {
            "text/plain": [
              "Text(0, 0.5, 'MSE')"
            ]
          },
          "metadata": {},
          "execution_count": 211
        },
        {
          "output_type": "display_data",
          "data": {
            "text/plain": [
              "<Figure size 432x288 with 1 Axes>"
            ],
            "image/png": "[encoded data removed]"
          },
          "metadata": {
            "needs_background": "light"
          }
        }
      ]
    },
    {
      "cell_type": "code",
      "source": [
        "sorted(zip(rendimiento, max_depth_range))[::-1][0]"
      ],
      "metadata": {
        "id": "dQh8sPvOutaO",
        "outputId": "81374f81-8bfb-422c-ce86-5de060d4340b",
        "colab": {
          "base_uri": "https://localhost:8080/"
        }
      },
      "execution_count": null,
      "outputs": [
        {
          "output_type": "execute_result",
          "data": {
            "text/plain": [
              "(-13143.121883295113, 20)"
            ]
          },
          "metadata": {},
          "execution_count": 212
        }
      ]
    },
    {
      "cell_type": "code",
      "source": [
        "clf = DecisionTreeRegressor(max_depth=2, random_state=1)\n",
        "clf.fit(X, Y)"
      ],
      "metadata": {
        "id": "PXR0Tco5uQzf",
        "outputId": "19cc1afe-6cac-4438-c050-fe57e6677640",
        "colab": {
          "base_uri": "https://localhost:8080/"
        }
      },
      "execution_count": null,
      "outputs": [
        {
          "output_type": "execute_result",
          "data": {
            "text/plain": [
              "DecisionTreeRegressor(max_depth=2, random_state=1)"
            ]
          },
          "metadata": {},
          "execution_count": 223
        }
      ]
    },
    {
      "cell_type": "code",
      "source": [
        "plt.figure(figsize=(12,12))\n",
        "tree.plot_tree(clf)"
      ],
      "metadata": {
        "id": "iBmkRCK0yCpF",
        "outputId": "292e90e2-f7b5-410d-edf9-dba759d0611f",
        "colab": {
          "base_uri": "https://localhost:8080/",
          "height": 809
        }
      },
      "execution_count": null,
      "outputs": [
        {
          "output_type": "execute_result",
          "data": {
            "text/plain": [
              "[Text(0.5, 0.8333333333333334, 'X[0] <= 6.5\\nsquared_error = 32810.299\\nsamples = 10886\\nvalue = 191.574'),\n",
              " Text(0.25, 0.5, 'X[0] <= 5.5\\nsquared_error = 1565.559\\nsamples = 3139\\nvalue = 32.582'),\n",
              " Text(0.125, 0.16666666666666666, 'squared_error = 945.78\\nsamples = 2684\\nvalue = 25.178'),\n",
              " Text(0.375, 0.16666666666666666, 'squared_error = 2990.465\\nsamples = 455\\nvalue = 76.259'),\n",
              " Text(0.75, 0.5, 'X[0] <= 20.5\\nsquared_error = 31077.582\\nsamples = 7747\\nvalue = 255.996'),\n",
              " Text(0.625, 0.16666666666666666, 'squared_error = 32410.315\\nsamples = 6379\\nvalue = 282.555'),\n",
              " Text(0.875, 0.16666666666666666, 'squared_error = 6236.566\\nsamples = 1368\\nvalue = 132.152')]"
            ]
          },
          "metadata": {},
          "execution_count": 225
        },
        {
          "output_type": "display_data",
          "data": {
            "text/plain": [
              "<Figure size 864x864 with 1 Axes>"
            ],
            "image/png": "[encoded data removed]"
          },
          "metadata": {
            "needs_background": "light"
          }
        }
      ]
    },
    {
      "cell_type": "markdown",
      "source": [
        "##**Conclusiones del estudiante**\n",
        "\n",
        "*Con el objetivo de comprobar el desempeño del arbol manual y el que se encuentra basado en librerias, se hace impresion de este con el mismo nivel de profundidad.*\n",
        "\n",
        "**Por favor revisar la siguiente celda para verificar el arbol con la profundidad recomendada por el optimizador**"
      ],
      "metadata": {
        "id": "5JDjdpFN1D04"
      }
    },
    {
      "cell_type": "code",
      "source": [
        "clf = DecisionTreeRegressor(max_depth=20, random_state=1)\n",
        "clf.fit(X, Y)\n",
        "plt.figure(figsize=(12,12))\n",
        "tree.plot_tree(clf)"
      ],
      "metadata": {
        "id": "qvnbT4ZF1R1x",
        "outputId": "1fb7ebdd-510f-4b4e-f464-9620b0943fbd",
        "colab": {
          "base_uri": "https://localhost:8080/",
          "height": 1000
        }
      },
      "execution_count": null,
      "outputs": [
        {
          "output_type": "execute_result",
          "data": {
            "text/plain": [
              "[Text(0.46412037037037035, 0.95, 'X[0] <= 6.5\\nsquared_error = 32810.299\\nsamples = 10886\\nvalue = 191.574'),\n",
              " Text(0.1814814814814815, 0.85, 'X[0] <= 5.5\\nsquared_error = 1565.559\\nsamples = 3139\\nvalue = 32.582'),\n",
              " Text(0.1259259259259259, 0.75, 'X[0] <= 1.5\\nsquared_error = 945.78\\nsamples = 2684\\nvalue = 25.178'),\n",
              " Text(0.05925925925925926, 0.65, 'X[1] <= 0.5\\nsquared_error = 1643.407\\nsamples = 909\\nvalue = 44.51'),\n",
              " Text(0.02962962962962963, 0.55, 'X[0] <= 0.5\\nsquared_error = 1822.063\\nsamples = 290\\nvalue = 83.2'),\n",
              " Text(0.014814814814814815, 0.45, 'squared_error = 2208.057\\nsamples = 145\\nvalue = 94.49'),\n",
              " Text(0.044444444444444446, 0.45, 'squared_error = 1181.157\\nsamples = 145\\nvalue = 71.91'),\n",
              " Text(0.08888888888888889, 0.55, 'X[0] <= 0.5\\nsquared_error = 529.872\\nsamples = 619\\nvalue = 26.384'),\n",
              " Text(0.07407407407407407, 0.45, 'squared_error = 690.648\\nsamples = 310\\nvalue = 36.732'),\n",
              " Text(0.1037037037037037, 0.45, 'squared_error = 153.382\\nsamples = 309\\nvalue = 16.003'),\n",
              " Text(0.1925925925925926, 0.65, 'X[1] <= 0.5\\nsquared_error = 299.092\\nsamples = 1775\\nvalue = 15.277'),\n",
              " Text(0.14814814814814814, 0.55, 'X[0] <= 2.5\\nsquared_error = 556.467\\nsamples = 574\\nvalue = 24.274'),\n",
              " Text(0.13333333333333333, 0.45, 'squared_error = 630.3\\nsamples = 143\\nvalue = 53.748'),\n",
              " Text(0.16296296296296298, 0.45, 'X[0] <= 3.5\\nsquared_error = 148.092\\nsamples = 431\\nvalue = 14.494'),\n",
              " Text(0.14814814814814814, 0.35, 'squared_error = 178.485\\nsamples = 144\\nvalue = 25.535'),\n",
              " Text(0.17777777777777778, 0.35, 'X[0] <= 4.5\\nsquared_error = 40.998\\nsamples = 287\\nvalue = 8.955'),\n",
              " Text(0.16296296296296298, 0.25, 'squared_error = 25.724\\nsamples = 145\\nvalue = 8.545'),\n",
              " Text(0.1925925925925926, 0.25, 'squared_error = 56.248\\nsamples = 142\\nvalue = 9.373'),\n",
              " Text(0.23703703703703705, 0.55, 'X[0] <= 4.5\\nsquared_error = 118.915\\nsamples = 1201\\nvalue = 10.978'),\n",
              " Text(0.2222222222222222, 0.45, 'X[0] <= 2.5\\nsquared_error = 25.507\\nsamples = 891\\nvalue = 6.263'),\n",
              " Text(0.2074074074074074, 0.35, 'squared_error = 48.259\\nsamples = 305\\nvalue = 8.436'),\n",
              " Text(0.23703703703703705, 0.35, 'X[0] <= 3.5\\nsquared_error = 9.926\\nsamples = 586\\nvalue = 5.131'),\n",
              " Text(0.2222222222222222, 0.25, 'squared_error = 9.189\\nsamples = 289\\nvalue = 4.893'),\n",
              " Text(0.2518518518518518, 0.25, 'squared_error = 10.534\\nsamples = 297\\nvalue = 5.364'),\n",
              " Text(0.2518518518518518, 0.45, 'squared_error = 139.849\\nsamples = 310\\nvalue = 24.529'),\n",
              " Text(0.23703703703703705, 0.75, 'X[1] <= 0.5\\nsquared_error = 2990.465\\nsamples = 455\\nvalue = 76.259'),\n",
              " Text(0.2222222222222222, 0.65, 'squared_error = 329.469\\nsamples = 145\\nvalue = 19.993'),\n",
              " Text(0.2518518518518518, 0.65, 'squared_error = 2061.663\\nsamples = 310\\nvalue = 102.577'),\n",
              " Text(0.7467592592592592, 0.85, 'X[0] <= 20.5\\nsquared_error = 31077.582\\nsamples = 7747\\nvalue = 255.996'),\n",
              " Text(0.5601851851851852, 0.75, 'X[0] <= 15.5\\nsquared_error = 32410.315\\nsamples = 6379\\nvalue = 282.555'),\n",
              " Text(0.39814814814814814, 0.65, 'X[0] <= 8.5\\nsquared_error = 24562.538\\nsamples = 4099\\nvalue = 243.95'),\n",
              " Text(0.3111111111111111, 0.55, 'X[1] <= 0.5\\nsquared_error = 45033.357\\nsamples = 910\\nvalue = 287.943'),\n",
              " Text(0.2814814814814815, 0.45, 'X[0] <= 7.5\\nsquared_error = 5394.402\\nsamples = 290\\nvalue = 79.762'),\n",
              " Text(0.26666666666666666, 0.35, 'squared_error = 1891.286\\nsamples = 145\\nvalue = 47.269'),\n",
              " Text(0.2962962962962963, 0.35, 'squared_error = 6785.914\\nsamples = 145\\nvalue = 112.255'),\n",
              " Text(0.34074074074074073, 0.45, 'X[0] <= 7.5\\nsquared_error = 33820.71\\nsamples = 620\\nvalue = 385.318'),\n",
              " Text(0.32592592592592595, 0.35, 'squared_error = 17353.156\\nsamples = 310\\nvalue = 290.69'),\n",
              " Text(0.35555555555555557, 0.35, 'squared_error = 32379.568\\nsamples = 310\\nvalue = 479.945'),\n",
              " Text(0.48518518518518516, 0.55, 'X[1] <= 0.5\\nsquared_error = 18011.206\\nsamples = 3189\\nvalue = 231.396'),\n",
              " Text(0.4148148148148148, 0.45, 'X[0] <= 10.5\\nsquared_error = 26949.468\\nsamples = 1015\\nvalue = 326.64'),\n",
              " Text(0.3851851851851852, 0.35, 'X[0] <= 9.5\\nsquared_error = 12970.951\\nsamples = 290\\nvalue = 220.866'),\n",
              " Text(0.37037037037037035, 0.25, 'squared_error = 8027.891\\nsamples = 145\\nvalue = 177.924'),\n",
              " Text(0.4, 0.25, 'squared_error = 14226.087\\nsamples = 145\\nvalue = 263.807'),\n",
              " Text(0.4444444444444444, 0.35, 'X[0] <= 11.5\\nsquared_error = 26275.413\\nsamples = 725\\nvalue = 368.95'),\n",
              " Text(0.42962962962962964, 0.25, 'squared_error = 21305.547\\nsamples = 145\\nvalue = 325.386'),\n",
              " Text(0.45925925925925926, 0.25, 'X[0] <= 13.5\\nsquared_error = 26924.806\\nsamples = 580\\nvalue = 379.841'),\n",
              " Text(0.42962962962962964, 0.15, 'X[0] <= 12.5\\nsquared_error = 27667.932\\nsamples = 290\\nvalue = 383.466'),\n",
              " Text(0.4148148148148148, 0.05, 'squared_error = 26271.85\\nsamples = 145\\nvalue = 379.11'),\n",
              " Text(0.4444444444444444, 0.05, 'squared_error = 29026.078\\nsamples = 145\\nvalue = 387.821'),\n",
              " Text(0.4888888888888889, 0.15, 'X[0] <= 14.5\\nsquared_error = 26155.411\\nsamples = 290\\nvalue = 376.217'),\n",
              " Text(0.4740740740740741, 0.05, 'squared_error = 27157.659\\nsamples = 145\\nvalue = 378.731'),\n",
              " Text(0.5037037037037037, 0.05, 'squared_error = 25140.526\\nsamples = 145\\nvalue = 373.703'),\n",
              " Text(0.5555555555555556, 0.45, 'X[0] <= 9.5\\nsquared_error = 7625.446\\nsamples = 2174\\nvalue = 186.929'),\n",
              " Text(0.5407407407407407, 0.35, 'squared_error = 7347.001\\nsamples = 310\\nvalue = 242.294'),\n",
              " Text(0.5703703703703704, 0.35, 'X[0] <= 11.5\\nsquared_error = 7077.191\\nsamples = 1864\\nvalue = 177.721'),\n",
              " Text(0.5333333333333333, 0.25, 'X[0] <= 10.5\\nsquared_error = 4091.949\\nsamples = 620\\nvalue = 145.308'),\n",
              " Text(0.5185185185185185, 0.15, 'squared_error = 3122.131\\nsamples = 310\\nvalue = 133.597'),\n",
              " Text(0.5481481481481482, 0.15, 'squared_error = 4787.458\\nsamples = 310\\nvalue = 157.019'),\n",
              " Text(0.6074074074074074, 0.25, 'X[0] <= 13.5\\nsquared_error = 7780.439\\nsamples = 1244\\nvalue = 193.875'),\n",
              " Text(0.5777777777777777, 0.15, 'X[0] <= 12.5\\nsquared_error = 7613.402\\nsamples = 622\\nvalue = 198.254'),\n",
              " Text(0.562962962962963, 0.05, 'squared_error = 7763.024\\nsamples = 311\\nvalue = 199.347'),\n",
              " Text(0.5925925925925926, 0.05, 'squared_error = 7461.389\\nsamples = 311\\nvalue = 197.161'),\n",
              " Text(0.6370370370370371, 0.15, 'X[0] <= 14.5\\nsquared_error = 7909.131\\nsamples = 622\\nvalue = 189.497'),\n",
              " Text(0.6222222222222222, 0.05, 'squared_error = 6683.113\\nsamples = 311\\nvalue = 180.367'),\n",
              " Text(0.6518518518518519, 0.05, 'squared_error = 8968.427\\nsamples = 311\\nvalue = 198.627'),\n",
              " Text(0.7222222222222222, 0.65, 'X[0] <= 18.5\\nsquared_error = 39022.862\\nsamples = 2280\\nvalue = 351.959'),\n",
              " Text(0.6518518518518519, 0.55, 'X[0] <= 16.5\\nsquared_error = 43993.359\\nsamples = 1368\\nvalue = 405.333'),\n",
              " Text(0.6148148148148148, 0.45, 'X[1] <= 0.5\\nsquared_error = 21171.699\\nsamples = 456\\nvalue = 316.373'),\n",
              " Text(0.6, 0.35, 'squared_error = 26307.166\\nsamples = 145\\nvalue = 367.648'),\n",
              " Text(0.6296296296296297, 0.35, 'squared_error = 16980.004\\nsamples = 311\\nvalue = 292.466'),\n",
              " Text(0.6888888888888889, 0.45, 'X[1] <= 0.5\\nsquared_error = 49468.806\\nsamples = 912\\nvalue = 449.812'),\n",
              " Text(0.6592592592592592, 0.35, 'X[0] <= 17.5\\nsquared_error = 25679.284\\nsamples = 290\\nvalue = 315.686'),\n",
              " Text(0.6444444444444445, 0.25, 'squared_error = 27485.902\\nsamples = 145\\nvalue = 339.124'),\n",
              " Text(0.674074074074074, 0.25, 'squared_error = 22773.994\\nsamples = 145\\nvalue = 292.248'),\n",
              " Text(0.7185185185185186, 0.35, 'X[0] <= 17.5\\nsquared_error = 48262.23\\nsamples = 622\\nvalue = 512.347'),\n",
              " Text(0.7037037037037037, 0.25, 'squared_error = 48957.143\\nsamples = 311\\nvalue = 529.209'),\n",
              " Text(0.7333333333333333, 0.25, 'squared_error = 46998.681\\nsamples = 311\\nvalue = 495.486'),\n",
              " Text(0.7925925925925926, 0.55, 'X[0] <= 19.5\\nsquared_error = 20884.245\\nsamples = 912\\nvalue = 271.898'),\n",
              " Text(0.762962962962963, 0.45, 'X[1] <= 0.5\\nsquared_error = 24482.824\\nsamples = 456\\nvalue = 315.279'),\n",
              " Text(0.7481481481481481, 0.35, 'squared_error = 15939.302\\nsamples = 145\\nvalue = 242.345'),\n",
              " Text(0.7777777777777778, 0.35, 'squared_error = 24829.766\\nsamples = 311\\nvalue = 349.283'),\n",
              " Text(0.8222222222222222, 0.45, 'X[1] <= 0.5\\nsquared_error = 13521.934\\nsamples = 456\\nvalue = 228.518'),\n",
              " Text(0.8074074074074075, 0.35, 'squared_error = 9967.397\\nsamples = 145\\nvalue = 183.807'),\n",
              " Text(0.837037037037037, 0.35, 'squared_error = 13812.617\\nsamples = 311\\nvalue = 249.363'),\n",
              " Text(0.9333333333333333, 0.75, 'X[0] <= 22.5\\nsquared_error = 6236.566\\nsamples = 1368\\nvalue = 132.152'),\n",
              " Text(0.8962962962962963, 0.65, 'X[0] <= 21.5\\nsquared_error = 6660.694\\nsamples = 912\\nvalue = 153.474'),\n",
              " Text(0.8666666666666667, 0.55, 'X[1] <= 0.5\\nsquared_error = 7662.058\\nsamples = 456\\nvalue = 173.371'),\n",
              " Text(0.8518518518518519, 0.45, 'squared_error = 7615.076\\nsamples = 145\\nvalue = 148.738'),\n",
              " Text(0.8814814814814815, 0.45, 'squared_error = 7269.166\\nsamples = 311\\nvalue = 184.855'),\n",
              " Text(0.9259259259259259, 0.55, 'X[1] <= 0.5\\nsquared_error = 4867.556\\nsamples = 456\\nvalue = 133.577'),\n",
              " Text(0.9111111111111111, 0.45, 'squared_error = 5643.994\\nsamples = 145\\nvalue = 123.352'),\n",
              " Text(0.9407407407407408, 0.45, 'squared_error = 4434.078\\nsamples = 311\\nvalue = 138.344'),\n",
              " Text(0.9703703703703703, 0.65, 'X[1] <= 0.5\\nsquared_error = 2660.636\\nsamples = 456\\nvalue = 89.509'),\n",
              " Text(0.9555555555555556, 0.55, 'squared_error = 3081.039\\nsamples = 145\\nvalue = 90.607'),\n",
              " Text(0.9851851851851852, 0.55, 'squared_error = 2463.804\\nsamples = 311\\nvalue = 88.997')]"
            ]
          },
          "metadata": {},
          "execution_count": 226
        },
        {
          "output_type": "display_data",
          "data": {
            "text/plain": [
              "<Figure size 864x864 with 1 Axes>"
            ],
            "image/png": "[encoded data removed]"
          },
          "metadata": {
            "needs_background": "light"
          }
        }
      ]
    },
    {
      "cell_type": "markdown",
      "metadata": {
        "id": "V2nw-uQfxi3S"
      },
      "source": [
        "## Parte B - Métodos de ensamblajes\n",
        "En esta parte del taller se usará el conjunto de datos de Popularidad de Noticias Online. El objetivo es predecir la cantidad de reacciones en redes sociales (popularidad) de la notica. Para más detalles puede visitar el sigueinte enlace: [datos](https://archive.ics.uci.edu/ml/datasets/online+news+popularity)."
      ]
    },
    {
      "cell_type": "markdown",
      "metadata": {
        "id": "I4VQAKmHxi3T"
      },
      "source": [
        "### Datos popularidad de noticias"
      ]
    },
    {
      "cell_type": "code",
      "execution_count": 256,
      "metadata": {
        "id": "NhAvRvQuxi3T",
        "outputId": "64e02f8f-be5b-4b67-d1ef-b15e633a904f",
        "colab": {
          "base_uri": "https://localhost:8080/",
          "height": 386
        }
      },
      "outputs": [
        {
          "output_type": "execute_result",
          "data": {
            "text/plain": [
              "                                                 url  timedelta  \\\n",
              "0  http://mashable.com/2014/12/10/cia-torture-rep...       28.0   \n",
              "1  http://mashable.com/2013/10/18/bitlock-kicksta...      447.0   \n",
              "2  http://mashable.com/2013/07/24/google-glass-po...      533.0   \n",
              "3  http://mashable.com/2013/11/21/these-are-the-m...      413.0   \n",
              "4  http://mashable.com/2014/02/11/parking-ticket-...      331.0   \n",
              "\n",
              "   n_tokens_title  n_tokens_content  n_unique_tokens  n_non_stop_words  \\\n",
              "0             9.0             188.0         0.732620               1.0   \n",
              "1             7.0             297.0         0.653199               1.0   \n",
              "2            11.0             181.0         0.660377               1.0   \n",
              "3            12.0             781.0         0.497409               1.0   \n",
              "4             8.0             177.0         0.685714               1.0   \n",
              "\n",
              "   n_non_stop_unique_tokens  num_hrefs  num_self_hrefs  num_imgs  ...  \\\n",
              "0                  0.844262        5.0             1.0       1.0  ...   \n",
              "1                  0.815789        9.0             4.0       1.0  ...   \n",
              "2                  0.775701        4.0             3.0       1.0  ...   \n",
              "3                  0.677350       10.0             3.0       1.0  ...   \n",
              "4                  0.830357        3.0             2.0       1.0  ...   \n",
              "\n",
              "   min_positive_polarity  max_positive_polarity  avg_negative_polarity  \\\n",
              "0               0.200000                   0.80              -0.487500   \n",
              "1               0.160000                   0.50              -0.135340   \n",
              "2               0.136364                   1.00               0.000000   \n",
              "3               0.100000                   1.00              -0.195701   \n",
              "4               0.100000                   0.55              -0.175000   \n",
              "\n",
              "   min_negative_polarity  max_negative_polarity  title_subjectivity  \\\n",
              "0                  -0.60              -0.250000                 0.9   \n",
              "1                  -0.40              -0.050000                 0.1   \n",
              "2                   0.00               0.000000                 0.3   \n",
              "3                  -0.40              -0.071429                 0.0   \n",
              "4                  -0.25              -0.100000                 0.0   \n",
              "\n",
              "   title_sentiment_polarity  abs_title_subjectivity  \\\n",
              "0                       0.8                     0.4   \n",
              "1                      -0.1                     0.4   \n",
              "2                       1.0                     0.2   \n",
              "3                       0.0                     0.5   \n",
              "4                       0.0                     0.5   \n",
              "\n",
              "   abs_title_sentiment_polarity  Popular  \n",
              "0                           0.8        1  \n",
              "1                           0.1        0  \n",
              "2                           1.0        0  \n",
              "3                           0.0        0  \n",
              "4                           0.0        0  \n",
              "\n",
              "[5 rows x 61 columns]"
            ],
            "text/html": [
              "\n",
              "  <div id=\"df-c54e9b99-3898-4613-a1d0-64e4eb59e250\">\n",
              "    <div class=\"colab-df-container\">\n",
              "      <div>\n",
              "<style scoped>\n",
              "    .dataframe tbody tr th:only-of-type {\n",
              "        vertical-align: middle;\n",
              "    }\n",
              "\n",
              "    .dataframe tbody tr th {\n",
              "        vertical-align: top;\n",
              "    }\n",
              "\n",
              "    .dataframe thead th {\n",
              "        text-align: right;\n",
              "    }\n",
              "</style>\n",
              "<table border=\"1\" class=\"dataframe\">\n",
              "  <thead>\n",
              "    <tr style=\"text-align: right;\">\n",
              "      <th></th>\n",
              "      <th>url</th>\n",
              "      <th>timedelta</th>\n",
              "      <th>n_tokens_title</th>\n",
              "      <th>n_tokens_content</th>\n",
              "      <th>n_unique_tokens</th>\n",
              "      <th>n_non_stop_words</th>\n",
              "      <th>n_non_stop_unique_tokens</th>\n",
              "      <th>num_hrefs</th>\n",
              "      <th>num_self_hrefs</th>\n",
              "      <th>num_imgs</th>\n",
              "      <th>...</th>\n",
              "      <th>min_positive_polarity</th>\n",
              "      <th>max_positive_polarity</th>\n",
              "      <th>avg_negative_polarity</th>\n",
              "      <th>min_negative_polarity</th>\n",
              "      <th>max_negative_polarity</th>\n",
              "      <th>title_subjectivity</th>\n",
              "      <th>title_sentiment_polarity</th>\n",
              "      <th>abs_title_subjectivity</th>\n",
              "      <th>abs_title_sentiment_polarity</th>\n",
              "      <th>Popular</th>\n",
              "    </tr>\n",
              "  </thead>\n",
              "  <tbody>\n",
              "    <tr>\n",
              "      <th>0</th>\n",
              "      <td>http://mashable.com/2014/12/10/cia-torture-rep...</td>\n",
              "      <td>28.0</td>\n",
              "      <td>9.0</td>\n",
              "      <td>188.0</td>\n",
              "      <td>0.732620</td>\n",
              "      <td>1.0</td>\n",
              "      <td>0.844262</td>\n",
              "      <td>5.0</td>\n",
              "      <td>1.0</td>\n",
              "      <td>1.0</td>\n",
              "      <td>...</td>\n",
              "      <td>0.200000</td>\n",
              "      <td>0.80</td>\n",
              "      <td>-0.487500</td>\n",
              "      <td>-0.60</td>\n",
              "      <td>-0.250000</td>\n",
              "      <td>0.9</td>\n",
              "      <td>0.8</td>\n",
              "      <td>0.4</td>\n",
              "      <td>0.8</td>\n",
              "      <td>1</td>\n",
              "    </tr>\n",
              "    <tr>\n",
              "      <th>1</th>\n",
              "      <td>http://mashable.com/2013/10/18/bitlock-kicksta...</td>\n",
              "      <td>447.0</td>\n",
              "      <td>7.0</td>\n",
              "      <td>297.0</td>\n",
              "      <td>0.653199</td>\n",
              "      <td>1.0</td>\n",
              "      <td>0.815789</td>\n",
              "      <td>9.0</td>\n",
              "      <td>4.0</td>\n",
              "      <td>1.0</td>\n",
              "      <td>...</td>\n",
              "      <td>0.160000</td>\n",
              "      <td>0.50</td>\n",
              "      <td>-0.135340</td>\n",
              "      <td>-0.40</td>\n",
              "      <td>-0.050000</td>\n",
              "      <td>0.1</td>\n",
              "      <td>-0.1</td>\n",
              "      <td>0.4</td>\n",
              "      <td>0.1</td>\n",
              "      <td>0</td>\n",
              "    </tr>\n",
              "    <tr>\n",
              "      <th>2</th>\n",
              "      <td>http://mashable.com/2013/07/24/google-glass-po...</td>\n",
              "      <td>533.0</td>\n",
              "      <td>11.0</td>\n",
              "      <td>181.0</td>\n",
              "      <td>0.660377</td>\n",
              "      <td>1.0</td>\n",
              "      <td>0.775701</td>\n",
              "      <td>4.0</td>\n",
              "      <td>3.0</td>\n",
              "      <td>1.0</td>\n",
              "      <td>...</td>\n",
              "      <td>0.136364</td>\n",
              "      <td>1.00</td>\n",
              "      <td>0.000000</td>\n",
              "      <td>0.00</td>\n",
              "      <td>0.000000</td>\n",
              "      <td>0.3</td>\n",
              "      <td>1.0</td>\n",
              "      <td>0.2</td>\n",
              "      <td>1.0</td>\n",
              "      <td>0</td>\n",
              "    </tr>\n",
              "    <tr>\n",
              "      <th>3</th>\n",
              "      <td>http://mashable.com/2013/11/21/these-are-the-m...</td>\n",
              "      <td>413.0</td>\n",
              "      <td>12.0</td>\n",
              "      <td>781.0</td>\n",
              "      <td>0.497409</td>\n",
              "      <td>1.0</td>\n",
              "      <td>0.677350</td>\n",
              "      <td>10.0</td>\n",
              "      <td>3.0</td>\n",
              "      <td>1.0</td>\n",
              "      <td>...</td>\n",
              "      <td>0.100000</td>\n",
              "      <td>1.00</td>\n",
              "      <td>-0.195701</td>\n",
              "      <td>-0.40</td>\n",
              "      <td>-0.071429</td>\n",
              "      <td>0.0</td>\n",
              "      <td>0.0</td>\n",
              "      <td>0.5</td>\n",
              "      <td>0.0</td>\n",
              "      <td>0</td>\n",
              "    </tr>\n",
              "    <tr>\n",
              "      <th>4</th>\n",
              "      <td>http://mashable.com/2014/02/11/parking-ticket-...</td>\n",
              "      <td>331.0</td>\n",
              "      <td>8.0</td>\n",
              "      <td>177.0</td>\n",
              "      <td>0.685714</td>\n",
              "      <td>1.0</td>\n",
              "      <td>0.830357</td>\n",
              "      <td>3.0</td>\n",
              "      <td>2.0</td>\n",
              "      <td>1.0</td>\n",
              "      <td>...</td>\n",
              "      <td>0.100000</td>\n",
              "      <td>0.55</td>\n",
              "      <td>-0.175000</td>\n",
              "      <td>-0.25</td>\n",
              "      <td>-0.100000</td>\n",
              "      <td>0.0</td>\n",
              "      <td>0.0</td>\n",
              "      <td>0.5</td>\n",
              "      <td>0.0</td>\n",
              "      <td>0</td>\n",
              "    </tr>\n",
              "  </tbody>\n",
              "</table>\n",
              "<p>5 rows × 61 columns</p>\n",
              "</div>\n",
              "      <button class=\"colab-df-convert\" onclick=\"convertToInteractive('df-c54e9b99-3898-4613-a1d0-64e4eb59e250')\"\n",
              "              title=\"Convert this dataframe to an interactive table.\"\n",
              "              style=\"display:none;\">\n",
              "        \n",
              "  <svg xmlns=\"http://www.w3.org/2000/svg\" height=\"24px\"viewBox=\"0 0 24 24\"\n",
              "       width=\"24px\">\n",
              "    <path d=\"M0 0h24v24H0V0z\" fill=\"none\"/>\n",
              "    <path d=\"M18.56 5.44l.94 2.06.94-2.06 2.06-.94-2.06-.94-.94-2.06-.94 2.06-2.06.94zm-11 1L8.5 8.5l.94-2.06 2.06-.94-2.06-.94L8.5 2.5l-.94 2.06-2.06.94zm10 10l.94 2.06.94-2.06 2.06-.94-2.06-.94-.94-2.06-.94 2.06-2.06.94z\"/><path d=\"M17.41 7.96l-1.37-1.37c-.4-.4-.92-.59-1.43-.59-.52 0-1.04.2-1.43.59L10.3 9.45l-7.72 7.72c-.78.78-.78 2.05 0 2.83L4 21.41c.39.39.9.59 1.41.59.51 0 1.02-.2 1.41-.59l7.78-7.78 2.81-2.81c.8-.78.8-2.07 0-2.86zM5.41 20L4 18.59l7.72-7.72 1.47 1.35L5.41 20z\"/>\n",
              "  </svg>\n",
              "      </button>\n",
              "      \n",
              "  <style>\n",
              "    .colab-df-container {\n",
              "      display:flex;\n",
              "      flex-wrap:wrap;\n",
              "      gap: 12px;\n",
              "    }\n",
              "\n",
              "    .colab-df-convert {\n",
              "      background-color: #E8F0FE;\n",
              "      border: none;\n",
              "      border-radius: 50%;\n",
              "      cursor: pointer;\n",
              "      display: none;\n",
              "      fill: #1967D2;\n",
              "      height: 32px;\n",
              "      padding: 0 0 0 0;\n",
              "      width: 32px;\n",
              "    }\n",
              "\n",
              "    .colab-df-convert:hover {\n",
              "      background-color: #E2EBFA;\n",
              "      box-shadow: 0px 1px 2px rgba(60, 64, 67, 0.3), 0px 1px 3px 1px rgba(60, 64, 67, 0.15);\n",
              "      fill: #174EA6;\n",
              "    }\n",
              "\n",
              "    [theme=dark] .colab-df-convert {\n",
              "      background-color: #3B4455;\n",
              "      fill: #D2E3FC;\n",
              "    }\n",
              "\n",
              "    [theme=dark] .colab-df-convert:hover {\n",
              "      background-color: #434B5C;\n",
              "      box-shadow: 0px 1px 3px 1px rgba(0, 0, 0, 0.15);\n",
              "      filter: drop-shadow(0px 1px 2px rgba(0, 0, 0, 0.3));\n",
              "      fill: #FFFFFF;\n",
              "    }\n",
              "  </style>\n",
              "\n",
              "      <script>\n",
              "        const buttonEl =\n",
              "          document.querySelector('#df-c54e9b99-3898-4613-a1d0-64e4eb59e250 button.colab-df-convert');\n",
              "        buttonEl.style.display =\n",
              "          google.colab.kernel.accessAllowed ? 'block' : 'none';\n",
              "\n",
              "        async function convertToInteractive(key) {\n",
              "          const element = document.querySelector('#df-c54e9b99-3898-4613-a1d0-64e4eb59e250');\n",
              "          const dataTable =\n",
              "            await google.colab.kernel.invokeFunction('convertToInteractive',\n",
              "                                                     [key], {});\n",
              "          if (!dataTable) return;\n",
              "\n",
              "          const docLinkHtml = 'Like what you see? Visit the ' +\n",
              "            '<a target=\"_blank\" href=https://colab.research.google.com/notebooks/data_table.ipynb>data table notebook</a>'\n",
              "            + ' to learn more about interactive tables.';\n",
              "          element.innerHTML = '';\n",
              "          dataTable['output_type'] = 'display_data';\n",
              "          await google.colab.output.renderOutput(dataTable, element);\n",
              "          const docLink = document.createElement('div');\n",
              "          docLink.innerHTML = docLinkHtml;\n",
              "          element.appendChild(docLink);\n",
              "        }\n",
              "      </script>\n",
              "    </div>\n",
              "  </div>\n",
              "  "
            ]
          },
          "metadata": {},
          "execution_count": 256
        }
      ],
      "source": [
        "# Lectura de la información de archivo .csv\n",
        "df = pd.read_csv('https://raw.githubusercontent.com/albahnsen/MIAD_ML_and_NLP/main/datasets/mashable.csv', index_col=0)\n",
        "df.head()"
      ]
    },
    {
      "cell_type": "code",
      "execution_count": 257,
      "metadata": {
        "id": "7JGvkJIuxi3U",
        "outputId": "2b34aef4-dac8-4b8d-f17c-43ac5fef3d6b",
        "colab": {
          "base_uri": "https://localhost:8080/"
        }
      },
      "outputs": [
        {
          "output_type": "execute_result",
          "data": {
            "text/plain": [
              "0.5"
            ]
          },
          "metadata": {},
          "execution_count": 257
        }
      ],
      "source": [
        "# Definición variable de interes y variables predictoras\n",
        "X = df.drop(['url', 'Popular'], axis=1)\n",
        "y = df['Popular']\n",
        "y.mean()"
      ]
    },
    {
      "cell_type": "code",
      "execution_count": 258,
      "metadata": {
        "id": "0BjOBpHixi3V"
      },
      "outputs": [],
      "source": [
        "# División de la muestra en set de entrenamiento y prueba\n",
        "from sklearn.model_selection import train_test_split\n",
        "X_train, X_test, y_train, y_test = train_test_split(X, y, random_state=1)"
      ]
    },
    {
      "cell_type": "markdown",
      "metadata": {
        "id": "aObO7FAOxi3W"
      },
      "source": [
        "### Punto 6 - Árbol de decisión y regresión logística\n",
        "En la celda 6 construya un árbol de decisión y una regresión logística. Para el árbol calibre al menos un parámetro y evalúe el desempeño de cada modelo usando las métricas de Accuracy y F1-Score."
      ]
    },
    {
      "cell_type": "code",
      "source": [
        "#Celda 6\n",
        "\n",
        "max_depth_range = range(1, 21)\n",
        "accuracy_scores = []\n",
        "f1_scores = []\n",
        "\n",
        "# Importación de modelos de sklearn \n",
        "from sklearn.model_selection import cross_val_score\n",
        "from sklearn.tree import DecisionTreeClassifier\n",
        "from sklearn.linear_model import LogisticRegression\n",
        "\n",
        "for depth in max_depth_range:\n",
        "    # Definición del árbol de decisión usando DecisionTreeClassifier de la libreria sklearn\n",
        "    clf = DecisionTreeClassifier(max_depth=depth, random_state=1)\n",
        "    accuracy_scores.append(cross_val_score(clf, X_train, y_train, cv=10, scoring='accuracy').mean())\n",
        "    f1_scores.append(cross_val_score(clf, X_train, y_train, cv=10, scoring='f1').mean())\n",
        "\n",
        "clf = LogisticRegression().fit(X_train, y_train)\n",
        "metricas = clf.score(X_test, y_test)\n",
        "\n",
        "plt.plot(max_depth_range, accuracy_scores)\n",
        "plt.xlabel('max_depth')\n",
        "plt.ylabel('Accuracy')\n",
        "\n",
        "plt.plot(max_depth_range, f1_scores)\n",
        "plt.xlabel('max_depth')\n",
        "plt.ylabel('F1')\n",
        "\n",
        "plt.legend(['Accuracy', 'F1'])\n",
        "plt.title('Arbol de decisión, optimización via max_depth')\n",
        "\n",
        "from sklearn.metrics import *\n",
        "\n",
        "f1 = f1_score(y_test, clf.predict(X_test))\n",
        "acc = accuracy_score(y_test, clf.predict(X_test))\n",
        "\n",
        "print(f'Regresion logistica: \\n F1 -> {f1} \\n Accuracy -> {acc} \\n\\n')"
      ],
      "metadata": {
        "id": "SX5SVnGM_yKY"
      },
      "execution_count": null,
      "outputs": []
    },
    {
      "cell_type": "markdown",
      "source": [
        "##**Conclusiones del estudiante**\n",
        "\n"
      ],
      "metadata": {
        "id": "b3ybWlmjB_nw"
      }
    },
    {
      "cell_type": "markdown",
      "metadata": {
        "id": "CJnMNSnRxi3X"
      },
      "source": [
        "### Punto 7 - Votación Mayoritaria\n",
        "En la celda 7 elabore un esamble con la metodología de **Votación mayoritaria** compuesto por 300 muestras bagged para cada uno de los siguientes escenarios:\n",
        "\n",
        "-100 árboles de decisión donde max_depth = None\\\n",
        "-100 árboles de decisión donde max_depth = 2\\\n",
        "-100 regresiones logísticas\n",
        "\n",
        "Evalúe los modelos utilizando las métricas de Accuracy y F1-Score."
      ]
    },
    {
      "cell_type": "code",
      "execution_count": null,
      "metadata": {
        "id": "9PksVHUuxi3X"
      },
      "outputs": [],
      "source": [
        "# Celda 7\n"
      ]
    },
    {
      "cell_type": "markdown",
      "metadata": {
        "id": "MGt5j7srxi3Y"
      },
      "source": [
        "### Punto 8 - Votación Ponderada\n",
        "En la celda 8 elabore un ensamble con la metodología de **Votación ponderada** compuesto por 300 muestras bagged para los mismos tres escenarios del punto 7. Evalúe los modelos utilizando las métricas de Accuracy y F1-Score"
      ]
    },
    {
      "cell_type": "code",
      "execution_count": null,
      "metadata": {
        "id": "jHbnLoquxi3Z"
      },
      "outputs": [],
      "source": [
        "# Celda 8\n"
      ]
    },
    {
      "cell_type": "markdown",
      "metadata": {
        "id": "yVs2bg-Pxi3Z"
      },
      "source": [
        "### Punto 9 - Comparación y análisis de resultados\n",
        "En la celda 9 comente sobre los resultados obtenidos con las metodologías usadas en los puntos 7 y 8, compare los resultados y enuncie posibles ventajas o desventajas de cada una de ellas."
      ]
    },
    {
      "cell_type": "code",
      "execution_count": null,
      "metadata": {
        "id": "9LGO_R1zxi3a"
      },
      "outputs": [],
      "source": [
        "# Celda 9"
      ]
    }
  ],
  "metadata": {
    "kernelspec": {
      "display_name": "Python 3",
      "language": "python",
      "name": "python3"
    },
    "language_info": {
      "codemirror_mode": {
        "name": "ipython",
        "version": 3
      },
      "file_extension": ".py",
      "mimetype": "text/x-python",
      "name": "python",
      "nbconvert_exporter": "python",
      "pygments_lexer": "ipython3",
      "version": "3.7.3"
    },
    "colab": {
      "name": "S1TC1_arboles_ensamblajes.ipynb",
      "provenance": []
    }
  },
  "nbformat": 4,
  "nbformat_minor": 0
}